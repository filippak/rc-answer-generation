{
 "cells": [
  {
   "cell_type": "code",
   "execution_count": 63,
   "metadata": {},
   "outputs": [],
   "source": [
    "import pandas as pd\n",
    "import matplotlib.pyplot as plt\n",
    "import numpy as np\n",
    "# import re\n",
    "from nltk.tokenize import word_tokenize"
   ]
  },
  {
   "cell_type": "code",
   "execution_count": 64,
   "metadata": {},
   "outputs": [],
   "source": [
    "# investigation of interrigation words\n",
    "# https://sv.wikipedia.org/wiki/Fr%C3%A5geord\n",
    "\n",
    "q_words = ['vad', 'hur', 'när', 'var', 'varifrån', 'varför', 'vart', 'vilken', 'vilket', 'vilka', 'vem'] "
   ]
  },
  {
   "cell_type": "code",
   "execution_count": 65,
   "metadata": {},
   "outputs": [
    {
     "data": {
      "text/html": [
       "<div>\n",
       "<style scoped>\n",
       "    .dataframe tbody tr th:only-of-type {\n",
       "        vertical-align: middle;\n",
       "    }\n",
       "\n",
       "    .dataframe tbody tr th {\n",
       "        vertical-align: top;\n",
       "    }\n",
       "\n",
       "    .dataframe thead th {\n",
       "        text-align: right;\n",
       "    }\n",
       "</style>\n",
       "<table border=\"1\" class=\"dataframe\">\n",
       "  <thead>\n",
       "    <tr style=\"text-align: right;\">\n",
       "      <th></th>\n",
       "      <th>answer</th>\n",
       "      <th>answer_words</th>\n",
       "      <th>answer_pos</th>\n",
       "      <th>answer_deprel</th>\n",
       "      <th>answer_root</th>\n",
       "      <th>answer_root_pos</th>\n",
       "      <th>sent_with_ans</th>\n",
       "      <th>sent_words</th>\n",
       "      <th>sent_pos</th>\n",
       "      <th>sent_deprel</th>\n",
       "      <th>...</th>\n",
       "      <th>sent_root_pos</th>\n",
       "      <th>question</th>\n",
       "      <th>q_words</th>\n",
       "      <th>q_pos</th>\n",
       "      <th>q_deprel</th>\n",
       "      <th>q_root</th>\n",
       "      <th>q_root_pos</th>\n",
       "      <th>answer_root_word</th>\n",
       "      <th>sent_root_word</th>\n",
       "      <th>q_root_word</th>\n",
       "    </tr>\n",
       "  </thead>\n",
       "  <tbody>\n",
       "    <tr>\n",
       "      <th>0</th>\n",
       "      <td>ett tillstånd för att resa in och vara i ett land</td>\n",
       "      <td>[en, tillstånd, för, att, resa, in, och, vara,...</td>\n",
       "      <td>[DET, NOUN, ADP, PART, VERB, ADV, CCONJ, AUX, ...</td>\n",
       "      <td>[det, root, mark, mark, advcl, compound:prt, c...</td>\n",
       "      <td>tillstånd</td>\n",
       "      <td>NOUN</td>\n",
       "      <td>visum är ett tillstånd för att resa in och var...</td>\n",
       "      <td>[visum, vara, en, tillstånd, för, att, resa, i...</td>\n",
       "      <td>[NOUN, AUX, DET, NOUN, ADP, PART, VERB, ADV, C...</td>\n",
       "      <td>[nsubj, cop, det, root, mark, mark, advcl, com...</td>\n",
       "      <td>...</td>\n",
       "      <td>NOUN</td>\n",
       "      <td>vad är ett visum</td>\n",
       "      <td>[vad, vara, en, visum]</td>\n",
       "      <td>[PRON, AUX, DET, NOUN]</td>\n",
       "      <td>[root, cop, det, nsubj]</td>\n",
       "      <td>vad</td>\n",
       "      <td>PRON</td>\n",
       "      <td>tillstånd</td>\n",
       "      <td>tillstånd</td>\n",
       "      <td>vad</td>\n",
       "    </tr>\n",
       "    <tr>\n",
       "      <th>1</th>\n",
       "      <td>ditt pass</td>\n",
       "      <td>[du, pass]</td>\n",
       "      <td>[PRON, NOUN]</td>\n",
       "      <td>[nmod:poss, root]</td>\n",
       "      <td>pass</td>\n",
       "      <td>NOUN</td>\n",
       "      <td>när du ska hämta ditt beslut ska du ta med dit...</td>\n",
       "      <td>[när, du, skola, hämta, du, beslut, skola, du,...</td>\n",
       "      <td>[SCONJ, PRON, AUX, VERB, PRON, NOUN, AUX, PRON...</td>\n",
       "      <td>[mark, nsubj, aux, advcl, nmod:poss, obj, aux,...</td>\n",
       "      <td>...</td>\n",
       "      <td>VERB</td>\n",
       "      <td>vad ska du ta med när du hämtar ditt beslut</td>\n",
       "      <td>[vad, skola, du, ta, med, när, du, hämta, du, ...</td>\n",
       "      <td>[PRON, AUX, PRON, VERB, ADP, SCONJ, PRON, VERB...</td>\n",
       "      <td>[obj, aux, nsubj, root, compound:prt, mark, ns...</td>\n",
       "      <td>ta</td>\n",
       "      <td>VERB</td>\n",
       "      <td>pass</td>\n",
       "      <td>ta</td>\n",
       "      <td>ta</td>\n",
       "    </tr>\n",
       "    <tr>\n",
       "      <th>2</th>\n",
       "      <td>ett år</td>\n",
       "      <td>[en, år]</td>\n",
       "      <td>[DET, NOUN]</td>\n",
       "      <td>[det, root]</td>\n",
       "      <td>år</td>\n",
       "      <td>NOUN</td>\n",
       "      <td>ett uppehållstillstånd för besök gäller som lä...</td>\n",
       "      <td>[en, uppehållstillstånd, för, besök, gälla, so...</td>\n",
       "      <td>[DET, NOUN, ADP, NOUN, VERB, SCONJ, ADV, ADV, ...</td>\n",
       "      <td>[det, nsubj, case, nmod, root, advmod, advmod,...</td>\n",
       "      <td>...</td>\n",
       "      <td>VERB</td>\n",
       "      <td>hur länge gäller ett uppehållstillstånd för be...</td>\n",
       "      <td>[hur, länge, gälla, en, uppehållstillstånd, fö...</td>\n",
       "      <td>[ADV, ADV, VERB, DET, NOUN, ADP, NOUN, CCONJ, ...</td>\n",
       "      <td>[advmod, advmod, root, det, nsubj, case, nmod,...</td>\n",
       "      <td>gälla</td>\n",
       "      <td>VERB</td>\n",
       "      <td>år</td>\n",
       "      <td>gäller</td>\n",
       "      <td>gäller</td>\n",
       "    </tr>\n",
       "    <tr>\n",
       "      <th>3</th>\n",
       "      <td>ett bevis</td>\n",
       "      <td>[en, bevis]</td>\n",
       "      <td>[DET, NOUN]</td>\n",
       "      <td>[det, root]</td>\n",
       "      <td>bevis</td>\n",
       "      <td>NOUN</td>\n",
       "      <td>kortet är ett bevis på att du har tillstånd at...</td>\n",
       "      <td>[kort, vara, en, bevis, på, att, du, ha, tills...</td>\n",
       "      <td>[NOUN, AUX, DET, NOUN, ADP, SCONJ, PRON, VERB,...</td>\n",
       "      <td>[nsubj, cop, det, root, mark, mark, nsubj, adv...</td>\n",
       "      <td>...</td>\n",
       "      <td>NOUN</td>\n",
       "      <td>vad är ett uppehållstillståndskort</td>\n",
       "      <td>[vad, vara, en, uppehållstillståndskort]</td>\n",
       "      <td>[PRON, AUX, DET, NOUN]</td>\n",
       "      <td>[root, cop, det, nsubj]</td>\n",
       "      <td>vad</td>\n",
       "      <td>PRON</td>\n",
       "      <td>bevis</td>\n",
       "      <td>bevis</td>\n",
       "      <td>vad</td>\n",
       "    </tr>\n",
       "    <tr>\n",
       "      <th>4</th>\n",
       "      <td>ett bevis</td>\n",
       "      <td>[en, bevis]</td>\n",
       "      <td>[DET, NOUN]</td>\n",
       "      <td>[det, root]</td>\n",
       "      <td>bevis</td>\n",
       "      <td>NOUN</td>\n",
       "      <td>kortet är ett bevis på att du har tillstånd at...</td>\n",
       "      <td>[kort, vara, en, bevis, på, att, du, ha, tills...</td>\n",
       "      <td>[NOUN, AUX, DET, NOUN, ADP, SCONJ, PRON, VERB,...</td>\n",
       "      <td>[nsubj, cop, det, root, mark, mark, nsubj, adv...</td>\n",
       "      <td>...</td>\n",
       "      <td>NOUN</td>\n",
       "      <td>vad är ett uppehållstillståndskort</td>\n",
       "      <td>[vad, vara, en, uppehållstillståndskort]</td>\n",
       "      <td>[PRON, AUX, DET, NOUN]</td>\n",
       "      <td>[root, cop, det, nsubj]</td>\n",
       "      <td>vad</td>\n",
       "      <td>PRON</td>\n",
       "      <td>bevis</td>\n",
       "      <td>bevis</td>\n",
       "      <td>vad</td>\n",
       "    </tr>\n",
       "  </tbody>\n",
       "</table>\n",
       "<p>5 rows × 21 columns</p>\n",
       "</div>"
      ],
      "text/plain": [
       "                                              answer  \\\n",
       "0  ett tillstånd för att resa in och vara i ett land   \n",
       "1                                          ditt pass   \n",
       "2                                             ett år   \n",
       "3                                          ett bevis   \n",
       "4                                          ett bevis   \n",
       "\n",
       "                                        answer_words  \\\n",
       "0  [en, tillstånd, för, att, resa, in, och, vara,...   \n",
       "1                                         [du, pass]   \n",
       "2                                           [en, år]   \n",
       "3                                        [en, bevis]   \n",
       "4                                        [en, bevis]   \n",
       "\n",
       "                                          answer_pos  \\\n",
       "0  [DET, NOUN, ADP, PART, VERB, ADV, CCONJ, AUX, ...   \n",
       "1                                       [PRON, NOUN]   \n",
       "2                                        [DET, NOUN]   \n",
       "3                                        [DET, NOUN]   \n",
       "4                                        [DET, NOUN]   \n",
       "\n",
       "                                       answer_deprel answer_root  \\\n",
       "0  [det, root, mark, mark, advcl, compound:prt, c...   tillstånd   \n",
       "1                                  [nmod:poss, root]        pass   \n",
       "2                                        [det, root]          år   \n",
       "3                                        [det, root]       bevis   \n",
       "4                                        [det, root]       bevis   \n",
       "\n",
       "  answer_root_pos                                      sent_with_ans  \\\n",
       "0            NOUN  visum är ett tillstånd för att resa in och var...   \n",
       "1            NOUN  när du ska hämta ditt beslut ska du ta med dit...   \n",
       "2            NOUN  ett uppehållstillstånd för besök gäller som lä...   \n",
       "3            NOUN  kortet är ett bevis på att du har tillstånd at...   \n",
       "4            NOUN  kortet är ett bevis på att du har tillstånd at...   \n",
       "\n",
       "                                          sent_words  \\\n",
       "0  [visum, vara, en, tillstånd, för, att, resa, i...   \n",
       "1  [när, du, skola, hämta, du, beslut, skola, du,...   \n",
       "2  [en, uppehållstillstånd, för, besök, gälla, so...   \n",
       "3  [kort, vara, en, bevis, på, att, du, ha, tills...   \n",
       "4  [kort, vara, en, bevis, på, att, du, ha, tills...   \n",
       "\n",
       "                                            sent_pos  \\\n",
       "0  [NOUN, AUX, DET, NOUN, ADP, PART, VERB, ADV, C...   \n",
       "1  [SCONJ, PRON, AUX, VERB, PRON, NOUN, AUX, PRON...   \n",
       "2  [DET, NOUN, ADP, NOUN, VERB, SCONJ, ADV, ADV, ...   \n",
       "3  [NOUN, AUX, DET, NOUN, ADP, SCONJ, PRON, VERB,...   \n",
       "4  [NOUN, AUX, DET, NOUN, ADP, SCONJ, PRON, VERB,...   \n",
       "\n",
       "                                         sent_deprel  ... sent_root_pos  \\\n",
       "0  [nsubj, cop, det, root, mark, mark, advcl, com...  ...          NOUN   \n",
       "1  [mark, nsubj, aux, advcl, nmod:poss, obj, aux,...  ...          VERB   \n",
       "2  [det, nsubj, case, nmod, root, advmod, advmod,...  ...          VERB   \n",
       "3  [nsubj, cop, det, root, mark, mark, nsubj, adv...  ...          NOUN   \n",
       "4  [nsubj, cop, det, root, mark, mark, nsubj, adv...  ...          NOUN   \n",
       "\n",
       "                                            question  \\\n",
       "0                                   vad är ett visum   \n",
       "1        vad ska du ta med när du hämtar ditt beslut   \n",
       "2  hur länge gäller ett uppehållstillstånd för be...   \n",
       "3                 vad är ett uppehållstillståndskort   \n",
       "4                 vad är ett uppehållstillståndskort   \n",
       "\n",
       "                                             q_words  \\\n",
       "0                             [vad, vara, en, visum]   \n",
       "1  [vad, skola, du, ta, med, när, du, hämta, du, ...   \n",
       "2  [hur, länge, gälla, en, uppehållstillstånd, fö...   \n",
       "3           [vad, vara, en, uppehållstillståndskort]   \n",
       "4           [vad, vara, en, uppehållstillståndskort]   \n",
       "\n",
       "                                               q_pos  \\\n",
       "0                             [PRON, AUX, DET, NOUN]   \n",
       "1  [PRON, AUX, PRON, VERB, ADP, SCONJ, PRON, VERB...   \n",
       "2  [ADV, ADV, VERB, DET, NOUN, ADP, NOUN, CCONJ, ...   \n",
       "3                             [PRON, AUX, DET, NOUN]   \n",
       "4                             [PRON, AUX, DET, NOUN]   \n",
       "\n",
       "                                            q_deprel q_root q_root_pos  \\\n",
       "0                            [root, cop, det, nsubj]    vad       PRON   \n",
       "1  [obj, aux, nsubj, root, compound:prt, mark, ns...     ta       VERB   \n",
       "2  [advmod, advmod, root, det, nsubj, case, nmod,...  gälla       VERB   \n",
       "3                            [root, cop, det, nsubj]    vad       PRON   \n",
       "4                            [root, cop, det, nsubj]    vad       PRON   \n",
       "\n",
       "  answer_root_word sent_root_word q_root_word  \n",
       "0        tillstånd      tillstånd         vad  \n",
       "1             pass             ta          ta  \n",
       "2               år         gäller      gäller  \n",
       "3            bevis          bevis         vad  \n",
       "4            bevis          bevis         vad  \n",
       "\n",
       "[5 rows x 21 columns]"
      ]
     },
     "execution_count": 65,
     "metadata": {},
     "output_type": "execute_result"
    }
   ],
   "source": [
    "# load the data\n",
    "df_train = pd.read_pickle(\"./data_frames/df_train.pkl\")\n",
    "df_test = pd.read_pickle(\"./data_frames/df_test.pkl\")\n",
    "df_dp_train = pd.read_pickle(\"./data_frames/dependency_parsing/df_dp_train.pkl\")\n",
    "df_dp_test = pd.read_pickle(\"./data_frames/dependency_parsing/df_dp_test.pkl\")\n",
    "df_dp_train.head()"
   ]
  },
  {
   "cell_type": "code",
   "execution_count": 66,
   "metadata": {},
   "outputs": [
    {
     "name": "stdout",
     "output_type": "stream",
     "text": [
      "more than one interrogative word!\n",
      "['vad', 'ska', 'du', 'ta', 'med', 'när', 'du', 'hämtar', 'ditt', 'beslut']\n",
      "less than one interrogative word!\n",
      "['vemvilka', 'ska', 'kontaktas', 'vid', 'samverkansfrågor']\n",
      "more than one interrogative word!\n",
      "['vem', 'eller', 'vilka', 'ansvarar', 'för', 'att', 'arbetsmiljön', 'på', 'en', 'arbetsplats', 'är', 'säker']\n",
      "more than one interrogative word!\n",
      "['vilka', 'fastställer', 'den', 'kurs', 'enligt', 'vilken', 'omräkning', 'sker']\n",
      "less than one interrogative word!\n",
      "['viket', 'företag', 'är', 'arbetsgivare', 'till', 'inhyrd', 'personal']\n",
      "more than one interrogative word!\n",
      "['vad', 'kontrollerar', 'migrationsverket', 'när', 'du', 'ansöker', 'om', 'förlängt', 'arbetstillstånd']\n",
      "more than one interrogative word!\n",
      "['på', 'vilken', 'sida', 'kan', 'du', 'läsa', 'mer', 'om', 'vad', 'som', 'gäller', 'om', 'du', 'har', 'utländska', 'meriter']\n",
      "more than one interrogative word!\n",
      "['när', 'var', 'sista', 'dagen', 'för', 'att', 'ansöka', 'om', 'uppehållstillstånd', 'enligt', 'den', 'nya', 'lagen']\n",
      "more than one interrogative word!\n",
      "['vad', 'måste', 'du', 'göra', 'när', 'beslutet', 'har', 'fått', 'laga', 'kraft', 'och', 'inte', 'längre', 'går', 'att', 'överklaga']\n",
      "more than one interrogative word!\n",
      "['vad', 'gör', 'logistiker', 'för', 'att', 'se', 'var', 'det', 'kan', 'göras', 'effektiviseringar', 'och', 'värdeökningar']\n",
      "more than one interrogative word!\n",
      "['vad', 'kan', 'logistiker', 'göra', 'när', 'nya', 'produkter', 'ska', 'komma', 'in']\n",
      "more than one interrogative word!\n",
      "['när', 'var', 'sista', 'dagen', 'för', 'att', 'ansöka', 'om', 'uppehållstillstånd', 'enligt', 'den', 'nya', 'gymnasielagen']\n",
      "more than one interrogative word!\n",
      "['var', 'står', 'det', 'hur', 'många', 'gånger', 'du', 'får', 'resa', 'in', 'i', 'och', 'ut', 'ur', 'schengenländerna', 'under', 'giltighetstiden']\n",
      "more than one interrogative word!\n",
      "['vad', 'gör', 'teknikern', 'för', 'att', 'andra', 'ska', 'kunna', 'se', 'hur', 'installationen', 'är', 'gjord']\n",
      "more than one interrogative word!\n",
      "['vad', 'kan', 'ingå', 'i', 'arbetet', 'när', 'tillverkningen', 'sker', 'med', 'datorstyrda', 'maskiner']\n",
      "more than one interrogative word!\n",
      "['vad', 'ökar', 'risken', 'för', 'hos', 'människor', 'när', 'ozonskiktet', 'tunnas', 'ut']\n",
      "more than one interrogative word!\n",
      "['vad', 'gör', 'teleteknikern', 'för', 'att', 'andra', 'ska', 'förstå', 'hur', 'jobbet', 'är', 'utfört']\n",
      "more than one interrogative word!\n",
      "['med', 'hjälp', 'av', 'vad', 'kan', 'du', 'räkna', 'ut', 'hur', 'många', 'dagar', 'du', 'kan', 'stanna', 'i', 'schengenområdet']\n",
      "more than one interrogative word!\n",
      "['vad', 'gör', 'brevbäraren', 'när', 'posten', 'från', 'morgonen', 'är', 'utdelad']\n",
      "more than one interrogative word!\n",
      "['vad', 'är', 'ett', 'område', 'inom', 'vilket', 'fysioterapeuten', 'kan', 'specialaicera', 'sig']\n",
      "less than one interrogative word!\n",
      "['vems', 'födelsedatum', 'ska', 'stå', 'med', 'på', 'en', 'fullmakt']\n",
      "more than one interrogative word!\n",
      "['vad', 'kan', 'företag', 'behöva', 'göra', 'när', 'lagen', 'ändras']\n",
      "more than one interrogative word!\n",
      "['vad', 'gör', 'ambulansskutsköterskan', 'när', 'teamet', 'är', 'klara', 'med', 'ett', 'uppdrag']\n",
      "more than one interrogative word!\n",
      "['vad', 'måste', 'uppehållstillståndskortinnehavaren', 'ha', 'när', 'denne', 'åker', 'från', 'sverige', 'för', 'att', 'kunna', 'återvända']\n",
      "more than one interrogative word!\n",
      "['vad', 'är', 'det', 'första', 'en', 'speditör', 'gör', 'när', 'hen', 'kontaktas', 'av', 'en', 'kund']\n",
      "more than one interrogative word!\n",
      "['vad', 'sker', 'med', 'svaren', 'när', 'en', 'analys', 'är', 'färdig']\n",
      "more than one interrogative word!\n",
      "['vilka', 'fattar', 'beslutet', 'om', 'ambassaden', 'eller', 'generalkonsultatet', 'är', 'osäker', 'på', 'hur', 'man', 'ska', 'bedöma', 'ansökan']\n",
      "less than one interrogative word!\n",
      "['vems', 'namnteckning', 'behövs', 'på', 'en', 'fullmakt']\n",
      "more than one interrogative word!\n",
      "['vad', 'för', 'fordon', 'kör', 'postsorterare', 'när', 'de', 'lastar', 'och', 'lossar', 'post']\n",
      "more than one interrogative word!\n",
      "['när', 'kan', 'du', 'få', 'nytt', 'uppehållstillstånd', 'även', 'om', 'du', 'inte', 'uppfyller', 'kraven', 'för', 'hur', 'lång', 'tid', 'du', 'ska', 'ha', 'bott', 'i', 'sverige']\n",
      "less than one interrogative word!\n",
      "['vems', 'uppgift', 'är', 'det', 'att', 'leda', 'borgerliga', 'begravningar']\n",
      "more than one interrogative word!\n",
      "['vilka', 'kan', 'samverka', 'med', 'psykiatrisjuksköterskan', 'när', 'det', 'gäller', 'samordnad', 'vårplanering']\n",
      "more than one interrogative word!\n",
      "['vad', 'kallas', 'det', 'när', 'man', 'arbetar', 'med', 'oregelbundna', 'scheman']\n",
      "more than one interrogative word!\n",
      "['vilka', 'samråder', 'naturvårdsverket', 'med', 'om', 'hur', 'sverige', 'ska', 'driva', 'miljöfrågor', 'i', 'eu']\n",
      "more than one interrogative word!\n",
      "['vad', 'gör', 'servitören', 'när', 'gästerna', 'ätit', 'färdigt']\n",
      "more than one interrogative word!\n",
      "['vad', 'ska', 'du', 'ta', 'med', 'dig', 'när', 'du', 'hämtar', 'ditt', 'beslut']\n",
      "more than one interrogative word!\n",
      "['vart', 'kan', 'du', 'vända', 'dig', 'för', 'att', 'få', 'en', 'uppfattning', 'om', 'hur', 'lång', 'tid', 'du', 'behöver', 'vänta', 'på', 'ditt', 'beslut']\n",
      "more than one interrogative word!\n",
      "['vad', 'ansvarar', 'driftteknikern', 'för', 'när', 'utrustning', 'köpts', 'in']\n",
      "more than one interrogative word!\n",
      "['vad', 'sker', 'när', 'analysen', 'av', 'behovet', 'är', 'klart']\n",
      "more than one interrogative word!\n",
      "['vad', 'gör', 'en', 'säljare', 'för', 'att', 'veta', 'mer', 'om', 'hur', 'man', 'bäst', 'säljer', 'till', 'varje', 'enskild', 'kund']\n",
      "more than one interrogative word!\n",
      "['vad', 'kallas', 'det', 'när', 'mekanikern', 'specialinreder', 'lastbilar']\n",
      "more than one interrogative word!\n",
      "['var', 'står', 'det', 'hur', 'många', 'dagar', 'du', 'får', 'vistas', 'i', 'schengenländerna']\n",
      "more than one interrogative word!\n",
      "['vad', 'gör', 'inköparen', 'eller', 'upphandlaren', 'när', 'leverantörerna', 'lämnat', 'sina', 'offerter']\n",
      "more than one interrogative word!\n",
      "['vem', 'håller', 'ofta', 'kursen', 'och', 'flyghöjden', 'när', 'man', 'flyger', 'på', 'hög', 'höjd', 'och', 'inget', 'ovanligt', 'händer']\n",
      "more than one interrogative word!\n",
      "['hur', 'många', 'cm', 'djupt', 'var', 'nysnötäcket', 'i', 'brösarp', 'den', '2', 'april']\n",
      "more than one interrogative word!\n",
      "['vilken', 'månad', 'under', '218', 'var', 'den', 'varmaste', 'som', 'hittills', 'noterats', 'på', 'de', 'flesta', 'håll', 'i', 'sverige']\n",
      "more than one interrogative word!\n",
      "['vilket', 'eller', 'vilka', 'färdmedel', 'rör', 'vtis', 'verksamhet']\n",
      "more than one interrogative word!\n",
      "['vad', 'var', 'temat', 'för', 'den', 'seminariedag', 'som', 'anordnades', 'för', 'nationalmuseums', 'personal', 'under', '217']\n",
      "more than one interrogative word!\n",
      "['vad', 'var', 'målet', 'med', 'projektet', 'subcop1']\n"
     ]
    },
    {
     "data": {
      "text/html": [
       "<div>\n",
       "<style scoped>\n",
       "    .dataframe tbody tr th:only-of-type {\n",
       "        vertical-align: middle;\n",
       "    }\n",
       "\n",
       "    .dataframe tbody tr th {\n",
       "        vertical-align: top;\n",
       "    }\n",
       "\n",
       "    .dataframe thead th {\n",
       "        text-align: right;\n",
       "    }\n",
       "</style>\n",
       "<table border=\"1\" class=\"dataframe\">\n",
       "  <thead>\n",
       "    <tr style=\"text-align: right;\">\n",
       "      <th></th>\n",
       "      <th>answer</th>\n",
       "      <th>answer_words</th>\n",
       "      <th>answer_pos</th>\n",
       "      <th>answer_deprel</th>\n",
       "      <th>answer_root</th>\n",
       "      <th>answer_root_pos</th>\n",
       "      <th>sent_with_ans</th>\n",
       "      <th>sent_words</th>\n",
       "      <th>sent_pos</th>\n",
       "      <th>sent_deprel</th>\n",
       "      <th>...</th>\n",
       "      <th>question</th>\n",
       "      <th>q_words</th>\n",
       "      <th>q_pos</th>\n",
       "      <th>q_deprel</th>\n",
       "      <th>q_root</th>\n",
       "      <th>q_root_pos</th>\n",
       "      <th>answer_root_word</th>\n",
       "      <th>sent_root_word</th>\n",
       "      <th>q_root_word</th>\n",
       "      <th>interrogative_words</th>\n",
       "    </tr>\n",
       "  </thead>\n",
       "  <tbody>\n",
       "    <tr>\n",
       "      <th>0</th>\n",
       "      <td>ett tillstånd för att resa in och vara i ett land</td>\n",
       "      <td>[en, tillstånd, för, att, resa, in, och, vara,...</td>\n",
       "      <td>[DET, NOUN, ADP, PART, VERB, ADV, CCONJ, AUX, ...</td>\n",
       "      <td>[det, root, mark, mark, advcl, compound:prt, c...</td>\n",
       "      <td>tillstånd</td>\n",
       "      <td>NOUN</td>\n",
       "      <td>visum är ett tillstånd för att resa in och var...</td>\n",
       "      <td>[visum, vara, en, tillstånd, för, att, resa, i...</td>\n",
       "      <td>[NOUN, AUX, DET, NOUN, ADP, PART, VERB, ADV, C...</td>\n",
       "      <td>[nsubj, cop, det, root, mark, mark, advcl, com...</td>\n",
       "      <td>...</td>\n",
       "      <td>vad är ett visum</td>\n",
       "      <td>[vad, vara, en, visum]</td>\n",
       "      <td>[PRON, AUX, DET, NOUN]</td>\n",
       "      <td>[root, cop, det, nsubj]</td>\n",
       "      <td>vad</td>\n",
       "      <td>PRON</td>\n",
       "      <td>tillstånd</td>\n",
       "      <td>tillstånd</td>\n",
       "      <td>vad</td>\n",
       "      <td>[vad]</td>\n",
       "    </tr>\n",
       "    <tr>\n",
       "      <th>1</th>\n",
       "      <td>ditt pass</td>\n",
       "      <td>[du, pass]</td>\n",
       "      <td>[PRON, NOUN]</td>\n",
       "      <td>[nmod:poss, root]</td>\n",
       "      <td>pass</td>\n",
       "      <td>NOUN</td>\n",
       "      <td>när du ska hämta ditt beslut ska du ta med dit...</td>\n",
       "      <td>[när, du, skola, hämta, du, beslut, skola, du,...</td>\n",
       "      <td>[SCONJ, PRON, AUX, VERB, PRON, NOUN, AUX, PRON...</td>\n",
       "      <td>[mark, nsubj, aux, advcl, nmod:poss, obj, aux,...</td>\n",
       "      <td>...</td>\n",
       "      <td>vad ska du ta med när du hämtar ditt beslut</td>\n",
       "      <td>[vad, skola, du, ta, med, när, du, hämta, du, ...</td>\n",
       "      <td>[PRON, AUX, PRON, VERB, ADP, SCONJ, PRON, VERB...</td>\n",
       "      <td>[obj, aux, nsubj, root, compound:prt, mark, ns...</td>\n",
       "      <td>ta</td>\n",
       "      <td>VERB</td>\n",
       "      <td>pass</td>\n",
       "      <td>ta</td>\n",
       "      <td>ta</td>\n",
       "      <td>[vad, när]</td>\n",
       "    </tr>\n",
       "    <tr>\n",
       "      <th>2</th>\n",
       "      <td>ett år</td>\n",
       "      <td>[en, år]</td>\n",
       "      <td>[DET, NOUN]</td>\n",
       "      <td>[det, root]</td>\n",
       "      <td>år</td>\n",
       "      <td>NOUN</td>\n",
       "      <td>ett uppehållstillstånd för besök gäller som lä...</td>\n",
       "      <td>[en, uppehållstillstånd, för, besök, gälla, so...</td>\n",
       "      <td>[DET, NOUN, ADP, NOUN, VERB, SCONJ, ADV, ADV, ...</td>\n",
       "      <td>[det, nsubj, case, nmod, root, advmod, advmod,...</td>\n",
       "      <td>...</td>\n",
       "      <td>hur länge gäller ett uppehållstillstånd för be...</td>\n",
       "      <td>[hur, länge, gälla, en, uppehållstillstånd, fö...</td>\n",
       "      <td>[ADV, ADV, VERB, DET, NOUN, ADP, NOUN, CCONJ, ...</td>\n",
       "      <td>[advmod, advmod, root, det, nsubj, case, nmod,...</td>\n",
       "      <td>gälla</td>\n",
       "      <td>VERB</td>\n",
       "      <td>år</td>\n",
       "      <td>gäller</td>\n",
       "      <td>gäller</td>\n",
       "      <td>[hur]</td>\n",
       "    </tr>\n",
       "    <tr>\n",
       "      <th>3</th>\n",
       "      <td>ett bevis</td>\n",
       "      <td>[en, bevis]</td>\n",
       "      <td>[DET, NOUN]</td>\n",
       "      <td>[det, root]</td>\n",
       "      <td>bevis</td>\n",
       "      <td>NOUN</td>\n",
       "      <td>kortet är ett bevis på att du har tillstånd at...</td>\n",
       "      <td>[kort, vara, en, bevis, på, att, du, ha, tills...</td>\n",
       "      <td>[NOUN, AUX, DET, NOUN, ADP, SCONJ, PRON, VERB,...</td>\n",
       "      <td>[nsubj, cop, det, root, mark, mark, nsubj, adv...</td>\n",
       "      <td>...</td>\n",
       "      <td>vad är ett uppehållstillståndskort</td>\n",
       "      <td>[vad, vara, en, uppehållstillståndskort]</td>\n",
       "      <td>[PRON, AUX, DET, NOUN]</td>\n",
       "      <td>[root, cop, det, nsubj]</td>\n",
       "      <td>vad</td>\n",
       "      <td>PRON</td>\n",
       "      <td>bevis</td>\n",
       "      <td>bevis</td>\n",
       "      <td>vad</td>\n",
       "      <td>[vad]</td>\n",
       "    </tr>\n",
       "    <tr>\n",
       "      <th>4</th>\n",
       "      <td>ett bevis</td>\n",
       "      <td>[en, bevis]</td>\n",
       "      <td>[DET, NOUN]</td>\n",
       "      <td>[det, root]</td>\n",
       "      <td>bevis</td>\n",
       "      <td>NOUN</td>\n",
       "      <td>kortet är ett bevis på att du har tillstånd at...</td>\n",
       "      <td>[kort, vara, en, bevis, på, att, du, ha, tills...</td>\n",
       "      <td>[NOUN, AUX, DET, NOUN, ADP, SCONJ, PRON, VERB,...</td>\n",
       "      <td>[nsubj, cop, det, root, mark, mark, nsubj, adv...</td>\n",
       "      <td>...</td>\n",
       "      <td>vad är ett uppehållstillståndskort</td>\n",
       "      <td>[vad, vara, en, uppehållstillståndskort]</td>\n",
       "      <td>[PRON, AUX, DET, NOUN]</td>\n",
       "      <td>[root, cop, det, nsubj]</td>\n",
       "      <td>vad</td>\n",
       "      <td>PRON</td>\n",
       "      <td>bevis</td>\n",
       "      <td>bevis</td>\n",
       "      <td>vad</td>\n",
       "      <td>[vad]</td>\n",
       "    </tr>\n",
       "  </tbody>\n",
       "</table>\n",
       "<p>5 rows × 22 columns</p>\n",
       "</div>"
      ],
      "text/plain": [
       "                                              answer  \\\n",
       "0  ett tillstånd för att resa in och vara i ett land   \n",
       "1                                          ditt pass   \n",
       "2                                             ett år   \n",
       "3                                          ett bevis   \n",
       "4                                          ett bevis   \n",
       "\n",
       "                                        answer_words  \\\n",
       "0  [en, tillstånd, för, att, resa, in, och, vara,...   \n",
       "1                                         [du, pass]   \n",
       "2                                           [en, år]   \n",
       "3                                        [en, bevis]   \n",
       "4                                        [en, bevis]   \n",
       "\n",
       "                                          answer_pos  \\\n",
       "0  [DET, NOUN, ADP, PART, VERB, ADV, CCONJ, AUX, ...   \n",
       "1                                       [PRON, NOUN]   \n",
       "2                                        [DET, NOUN]   \n",
       "3                                        [DET, NOUN]   \n",
       "4                                        [DET, NOUN]   \n",
       "\n",
       "                                       answer_deprel answer_root  \\\n",
       "0  [det, root, mark, mark, advcl, compound:prt, c...   tillstånd   \n",
       "1                                  [nmod:poss, root]        pass   \n",
       "2                                        [det, root]          år   \n",
       "3                                        [det, root]       bevis   \n",
       "4                                        [det, root]       bevis   \n",
       "\n",
       "  answer_root_pos                                      sent_with_ans  \\\n",
       "0            NOUN  visum är ett tillstånd för att resa in och var...   \n",
       "1            NOUN  när du ska hämta ditt beslut ska du ta med dit...   \n",
       "2            NOUN  ett uppehållstillstånd för besök gäller som lä...   \n",
       "3            NOUN  kortet är ett bevis på att du har tillstånd at...   \n",
       "4            NOUN  kortet är ett bevis på att du har tillstånd at...   \n",
       "\n",
       "                                          sent_words  \\\n",
       "0  [visum, vara, en, tillstånd, för, att, resa, i...   \n",
       "1  [när, du, skola, hämta, du, beslut, skola, du,...   \n",
       "2  [en, uppehållstillstånd, för, besök, gälla, so...   \n",
       "3  [kort, vara, en, bevis, på, att, du, ha, tills...   \n",
       "4  [kort, vara, en, bevis, på, att, du, ha, tills...   \n",
       "\n",
       "                                            sent_pos  \\\n",
       "0  [NOUN, AUX, DET, NOUN, ADP, PART, VERB, ADV, C...   \n",
       "1  [SCONJ, PRON, AUX, VERB, PRON, NOUN, AUX, PRON...   \n",
       "2  [DET, NOUN, ADP, NOUN, VERB, SCONJ, ADV, ADV, ...   \n",
       "3  [NOUN, AUX, DET, NOUN, ADP, SCONJ, PRON, VERB,...   \n",
       "4  [NOUN, AUX, DET, NOUN, ADP, SCONJ, PRON, VERB,...   \n",
       "\n",
       "                                         sent_deprel  ...  \\\n",
       "0  [nsubj, cop, det, root, mark, mark, advcl, com...  ...   \n",
       "1  [mark, nsubj, aux, advcl, nmod:poss, obj, aux,...  ...   \n",
       "2  [det, nsubj, case, nmod, root, advmod, advmod,...  ...   \n",
       "3  [nsubj, cop, det, root, mark, mark, nsubj, adv...  ...   \n",
       "4  [nsubj, cop, det, root, mark, mark, nsubj, adv...  ...   \n",
       "\n",
       "                                            question  \\\n",
       "0                                   vad är ett visum   \n",
       "1        vad ska du ta med när du hämtar ditt beslut   \n",
       "2  hur länge gäller ett uppehållstillstånd för be...   \n",
       "3                 vad är ett uppehållstillståndskort   \n",
       "4                 vad är ett uppehållstillståndskort   \n",
       "\n",
       "                                             q_words  \\\n",
       "0                             [vad, vara, en, visum]   \n",
       "1  [vad, skola, du, ta, med, när, du, hämta, du, ...   \n",
       "2  [hur, länge, gälla, en, uppehållstillstånd, fö...   \n",
       "3           [vad, vara, en, uppehållstillståndskort]   \n",
       "4           [vad, vara, en, uppehållstillståndskort]   \n",
       "\n",
       "                                               q_pos  \\\n",
       "0                             [PRON, AUX, DET, NOUN]   \n",
       "1  [PRON, AUX, PRON, VERB, ADP, SCONJ, PRON, VERB...   \n",
       "2  [ADV, ADV, VERB, DET, NOUN, ADP, NOUN, CCONJ, ...   \n",
       "3                             [PRON, AUX, DET, NOUN]   \n",
       "4                             [PRON, AUX, DET, NOUN]   \n",
       "\n",
       "                                            q_deprel q_root q_root_pos  \\\n",
       "0                            [root, cop, det, nsubj]    vad       PRON   \n",
       "1  [obj, aux, nsubj, root, compound:prt, mark, ns...     ta       VERB   \n",
       "2  [advmod, advmod, root, det, nsubj, case, nmod,...  gälla       VERB   \n",
       "3                            [root, cop, det, nsubj]    vad       PRON   \n",
       "4                            [root, cop, det, nsubj]    vad       PRON   \n",
       "\n",
       "  answer_root_word sent_root_word q_root_word interrogative_words  \n",
       "0        tillstånd      tillstånd         vad               [vad]  \n",
       "1             pass             ta          ta          [vad, när]  \n",
       "2               år         gäller      gäller               [hur]  \n",
       "3            bevis          bevis         vad               [vad]  \n",
       "4            bevis          bevis         vad               [vad]  \n",
       "\n",
       "[5 rows x 22 columns]"
      ]
     },
     "execution_count": 66,
     "metadata": {},
     "output_type": "execute_result"
    }
   ],
   "source": [
    "def map_interrogative_words(df, all_q_words):\n",
    "    interrogative_words = []\n",
    "    for index, row in df.iterrows():\n",
    "        interrogative_words_in_q = []\n",
    "        answer_root = row['answer_root']\n",
    "        # q_words = row['q_words'] # lemmatized words in the question, should make this not lemmatized?\n",
    "        q_words = word_tokenize(row['question'])\n",
    "        # find the question word that is used in the question\n",
    "        for q_w in all_q_words:\n",
    "            # print('q_w: ', q_w)\n",
    "            if q_w in q_words:\n",
    "                # print('appending!!')\n",
    "                interrogative_words_in_q.append(q_w)\n",
    "        if len(interrogative_words_in_q) > 1:\n",
    "            print('more than one interrogative word!')\n",
    "            print(q_words)\n",
    "        if len(interrogative_words_in_q) < 1:\n",
    "            print('less than one interrogative word!')\n",
    "            print(q_words)\n",
    "        interrogative_words.append(interrogative_words_in_q)\n",
    "    # print('interrogative words: ', interrogative_words)\n",
    "    return interrogative_words\n",
    "\n",
    "df_dp_train['interrogative_words'] = map_interrogative_words(df_dp_train, q_words)\n",
    "df_dp_train.head()\n",
    "        "
   ]
  },
  {
   "cell_type": "code",
   "execution_count": 68,
   "metadata": {},
   "outputs": [],
   "source": [
    "def print_interrogative_word_statistics(key, value, word_stats):\n",
    "    # value is a map where the word type is the key and count is an obj with 'count' as a key\n",
    "    for pos in value.keys():\n",
    "        stats = word_stats[pos]\n",
    "        print('-------------------')\n",
    "        print('pos tag: ', pos)\n",
    "        print('root words, selection: ', stats['roots'][:10])\n",
    "    plt.bar(value.keys(), value.values(), color='g')\n",
    "    plt.title('Word class distribution of answer root for interregation word \\\"'+ key + '\\\"')\n",
    "    plt.show()\n",
    "\n",
    "\n",
    "def print_interrogative_word_appearance(word_stats_dict):\n",
    "    plt.bar(word_stats_dict.keys(), word_stats_dict.values(), color='b')\n",
    "    plt.title('Occurence of interrogative words in dataset')\n",
    "    plt.show()\n",
    "\n"
   ]
  },
  {
   "cell_type": "code",
   "execution_count": 69,
   "metadata": {},
   "outputs": [],
   "source": [
    "def get_interrogative_word_statistics(df, type):\n",
    "    interrogative_word_stats = {}\n",
    "    interrogative_word_ans_root_map = {}\n",
    "    interrogative_word_ans_root_map_count = {}\n",
    "    for index, row in df.iterrows():\n",
    "        answer_root_pos = row[type+'_root_pos'] # type can be answer / sent\n",
    "        answer_root = row[type+'_root']\n",
    "        question_words = row['interrogative_words']\n",
    "        for q_w in question_words:\n",
    "            if q_w in interrogative_word_ans_root_map:\n",
    "                # count the appearance of the question word\n",
    "                interrogative_word_stats[q_w] += 1\n",
    "                if answer_root_pos in interrogative_word_ans_root_map[q_w]:\n",
    "                    # data structure not saving the actual words\n",
    "                    interrogative_word_ans_root_map_count[q_w][answer_root_pos] += 1\n",
    "                    # data structure saving the root words\n",
    "                    interrogative_word_ans_root_map[q_w][answer_root_pos]['count'] += 1\n",
    "                    interrogative_word_ans_root_map[q_w][answer_root_pos]['roots'].append(answer_root)\n",
    "                else:\n",
    "                    interrogative_word_ans_root_map_count[q_w][answer_root_pos] = 1\n",
    "\n",
    "                    interrogative_word_ans_root_map[q_w][answer_root_pos] = {}\n",
    "                    interrogative_word_ans_root_map[q_w][answer_root_pos]['count'] = 1\n",
    "                    interrogative_word_ans_root_map[q_w][answer_root_pos]['roots'] = [answer_root]\n",
    "            else:\n",
    "                # Add to the stats of the question word\n",
    "                interrogative_word_stats[q_w] = 1\n",
    "                # add to the map quetion_pos -> root\n",
    "                interrogative_word_ans_root_map_count[q_w] = { answer_root_pos: 1 }\n",
    "                interrogative_word_ans_root_map[q_w] = {answer_root_pos: { 'count': 1, 'roots': [answer_root]}}\n",
    "    return interrogative_word_ans_root_map, interrogative_word_ans_root_map_count, interrogative_word_stats\n",
    "\n"
   ]
  },
  {
   "cell_type": "code",
   "execution_count": 70,
   "metadata": {},
   "outputs": [
    {
     "data": {
      "image/png": "[encoded data removed]",
      "text/plain": [
       "<Figure size 432x288 with 1 Axes>"
      ]
     },
     "metadata": {
      "needs_background": "light"
     },
     "output_type": "display_data"
    },
    {
     "name": "stdout",
     "output_type": "stream",
     "text": [
      "-------------------\n",
      "pos tag:  NOUN\n",
      "root words, selection:  ['tillstånd', 'pass', 'bevis', 'bevis', 'bevis', 'fingeravtryck', 'fingeravtryck', 'foto', 'elinstallatör', 'föräldramöte']\n",
      "-------------------\n",
      "pos tag:  VERB\n",
      "root words, selection:  ['återvända', 'riskera', 'få', 'bli', 'kontakta', 'ställa', 'arbeta', 'ansöka', 'riskera', 'utsätta']\n",
      "-------------------\n",
      "pos tag:  ADJ\n",
      "root words, selection:  ['ifylld', 'uppfylld', 'ifylld', 'uppmärksam', 'antagen', 'datorstyrd', 'kalla', 'utlägd', 'låg', 'skyldig']\n",
      "-------------------\n",
      "pos tag:  PRON\n",
      "root words, selection:  ['de', 'den', 'man']\n",
      "-------------------\n",
      "pos tag:  ADV\n",
      "root words, selection:  ['intensiv', 'dagtid']\n",
      "-------------------\n",
      "pos tag:  NUM\n",
      "root words, selection:  ['11831', '23', '2']\n",
      "-------------------\n",
      "pos tag:  PROPN\n",
      "root words, selection:  ['viking']\n"
     ]
    },
    {
     "data": {
      "image/png": "[encoded data removed]",
      "text/plain": [
       "<Figure size 432x288 with 1 Axes>"
      ]
     },
     "metadata": {
      "needs_background": "light"
     },
     "output_type": "display_data"
    },
    {
     "name": "stdout",
     "output_type": "stream",
     "text": [
      "-------------------\n",
      "pos tag:  NOUN\n",
      "root words, selection:  ['pass', 'år', 'år', 'år', 'eumedborgare', 'september', 'år', 'september', 'programmering', 'immunförsvar']\n",
      "-------------------\n",
      "pos tag:  VERB\n",
      "root words, selection:  ['finnas', 'påminna', 'flytta', 'få', 'lämna', 'ha', 'resa', 'boka', 'ha', 'bli']\n",
      "-------------------\n",
      "pos tag:  ADJ\n",
      "root words, selection:  ['uppfylld', 'klar']\n",
      "-------------------\n",
      "pos tag:  NUM\n",
      "root words, selection:  ['sju', '28', '216', '28', '213', '212']\n",
      "-------------------\n",
      "pos tag:  PRON\n",
      "root words, selection:  ['den']\n"
     ]
    },
    {
     "data": {
      "image/png": "[encoded data removed]",
      "text/plain": [
       "<Figure size 432x288 with 1 Axes>"
      ]
     },
     "metadata": {
      "needs_background": "light"
     },
     "output_type": "display_data"
    },
    {
     "name": "stdout",
     "output_type": "stream",
     "text": [
      "-------------------\n",
      "pos tag:  NOUN\n",
      "root words, selection:  ['år', 'år', 'dag', 'timme', 'vecka', 'år', 'månad', 'visummärke', 'år', 'beskrivning']\n",
      "-------------------\n",
      "pos tag:  NUM\n",
      "root words, selection:  ['16', '45', '3', '3', '14', '3', '13', 'fem', '2', '9']\n",
      "-------------------\n",
      "pos tag:  VERB\n",
      "root words, selection:  ['fatta', 'meddela', 'flytta', 'ställa', 'följa', 'testa']\n",
      "-------------------\n",
      "pos tag:  ADJ\n",
      "root words, selection:  ['ensam', 'inrikta', 'ren']\n",
      "-------------------\n",
      "pos tag:  PRON\n",
      "root words, selection:  ['en', 'man']\n"
     ]
    },
    {
     "data": {
      "image/png": "[encoded data removed]",
      "text/plain": [
       "<Figure size 432x288 with 1 Axes>"
      ]
     },
     "metadata": {
      "needs_background": "light"
     },
     "output_type": "display_data"
    },
    {
     "name": "stdout",
     "output_type": "stream",
     "text": [
      "-------------------\n",
      "pos tag:  NUM\n",
      "root words, selection:  ['7', '18']\n",
      "-------------------\n",
      "pos tag:  NOUN\n",
      "root words, selection:  ['arbetsplats', 'vecka', 'centralbanken', 'merit', 'påsvetsning', 'termitsvetsning', 'vecka', 'psykoanalyt', 'psykoterapi', 'år']\n",
      "-------------------\n",
      "pos tag:  ADJ\n",
      "root words, selection:  ['transportekonomisk']\n",
      "-------------------\n",
      "pos tag:  PROPN\n",
      "root words, selection:  ['linköping', 'friedrich']\n"
     ]
    },
    {
     "data": {
      "image/png": "[encoded data removed]",
      "text/plain": [
       "<Figure size 432x288 with 1 Axes>"
      ]
     },
     "metadata": {
      "needs_background": "light"
     },
     "output_type": "display_data"
    },
    {
     "name": "stdout",
     "output_type": "stream",
     "text": [
      "-------------------\n",
      "pos tag:  NOUN\n",
      "root words, selection:  ['arbetsgivare', 'organisation', 'tjänsteman', 'arbetsgivare', 'skola', 'centralbanken', 'medborgare', 'skolbibliotek', 'specialpedagog', 'flygteknik']\n",
      "-------------------\n",
      "pos tag:  VERB\n",
      "root words, selection:  ['omfatta']\n",
      "-------------------\n",
      "pos tag:  PROPN\n",
      "root words, selection:  ['sverige', 'sverige']\n",
      "-------------------\n",
      "pos tag:  ADJ\n",
      "root words, selection:  ['ung']\n"
     ]
    },
    {
     "data": {
      "image/png": "[encoded data removed]",
      "text/plain": [
       "<Figure size 432x288 with 1 Axes>"
      ]
     },
     "metadata": {
      "needs_background": "light"
     },
     "output_type": "display_data"
    },
    {
     "name": "stdout",
     "output_type": "stream",
     "text": [
      "-------------------\n",
      "pos tag:  NOUN\n",
      "root words, selection:  ['huvudman', 'rektor', 'arbetsgivare', 'veterinär', 'veterinär', 'säljare', 'flygtekniker', 'arbetsgivare', 'beställare', 'befälhavare']\n",
      "-------------------\n",
      "pos tag:  ADJ\n",
      "root words, selection:  ['minderårig']\n",
      "-------------------\n",
      "pos tag:  PRON\n",
      "root words, selection:  ['den']\n"
     ]
    },
    {
     "data": {
      "image/png": "[encoded data removed]",
      "text/plain": [
       "<Figure size 432x288 with 1 Axes>"
      ]
     },
     "metadata": {
      "needs_background": "light"
     },
     "output_type": "display_data"
    },
    {
     "name": "stdout",
     "output_type": "stream",
     "text": [
      "-------------------\n",
      "pos tag:  VERB\n",
      "root words, selection:  ['upptäcka', 'delta', 'godta', 'godta', 'planera']\n",
      "-------------------\n",
      "pos tag:  NUM\n",
      "root words, selection:  ['24811', '522375', '24211b', '11831', '16411', '12411', '18611', '11831', '1911', '216']\n",
      "-------------------\n",
      "pos tag:  NOUN\n",
      "root words, selection:  ['oktober', 'juni', 'hjärt', 'turistchef', 'tita', 'mångfald', 'skogsplantering', 'arbete', 'slag']\n"
     ]
    },
    {
     "data": {
      "image/png": "[encoded data removed]",
      "text/plain": [
       "<Figure size 432x288 with 1 Axes>"
      ]
     },
     "metadata": {
      "needs_background": "light"
     },
     "output_type": "display_data"
    },
    {
     "name": "stdout",
     "output_type": "stream",
     "text": [
      "-------------------\n",
      "pos tag:  NOUN\n",
      "root words, selection:  ['försäkringskassa', 'stuteri', 'september', 'hälso', 'september', 'visummärke', 'fritidsgård', 'verkstad', 'lagerhantering', 'ojämnhet']\n",
      "-------------------\n",
      "pos tag:  VERB\n",
      "root words, selection:  ['analysera', 'lega', 'utveckla']\n",
      "-------------------\n",
      "pos tag:  PROPN\n",
      "root words, selection:  ['storbritannien', 'jukkasjärvi', 'eskilstuna', 'haag', 'ultuna', 'liberia']\n",
      "-------------------\n",
      "pos tag:  NUM\n",
      "root words, selection:  ['69', '32']\n",
      "-------------------\n",
      "pos tag:  ADP\n",
      "root words, selection:  ['i']\n"
     ]
    },
    {
     "data": {
      "image/png": "[encoded data removed]",
      "text/plain": [
       "<Figure size 432x288 with 1 Axes>"
      ]
     },
     "metadata": {
      "needs_background": "light"
     },
     "output_type": "display_data"
    },
    {
     "name": "stdout",
     "output_type": "stream",
     "text": [
      "-------------------\n",
      "pos tag:  VERB\n",
      "root words, selection:  ['ändra', 'hänga', 'finnas', 'bedöma', 'rotera', 'slita', 'finnas', 'innebära', 'skydda', 'öka']\n",
      "-------------------\n",
      "pos tag:  ADJ\n",
      "root words, selection:  ['anstränga', 'fysisk']\n"
     ]
    },
    {
     "data": {
      "image/png": "[encoded data removed]",
      "text/plain": [
       "<Figure size 432x288 with 1 Axes>"
      ]
     },
     "metadata": {
      "needs_background": "light"
     },
     "output_type": "display_data"
    },
    {
     "name": "stdout",
     "output_type": "stream",
     "text": [
      "-------------------\n",
      "pos tag:  NOUN\n",
      "root words, selection:  ['adress', 'folkbokföringsad', 'kommun', 'landsting', 'kommun', 'adress', 'tid', 'adress', 'valmyndighet']\n"
     ]
    },
    {
     "data": {
      "image/png": "[encoded data removed]",
      "text/plain": [
       "<Figure size 432x288 with 1 Axes>"
      ]
     },
     "metadata": {
      "needs_background": "light"
     },
     "output_type": "display_data"
    }
   ],
   "source": [
    "# interrogative word statistics: interrogative word -> word class of root of answer\n",
    "i_words_map, i_words_map_count, interrogative_word_stats = get_interrogative_word_statistics(df_dp_train, 'answer')\n",
    "# print the stats for the different interrogative words:\n",
    "print_interrogative_word_appearance(interrogative_word_stats)\n",
    "for key, value in i_words_map_count.items():\n",
    "    print_interrogative_word_statistics(key, value, i_words_map[key])"
   ]
  },
  {
   "cell_type": "code",
   "execution_count": 72,
   "metadata": {},
   "outputs": [
    {
     "name": "stdout",
     "output_type": "stream",
     "text": [
      "-------------------\n",
      "pos tag:  NOUN\n",
      "root words, selection:  ['tillstånd', 'bevis', 'bevis', 'bevis', 'bevis', 'bevis', 'elinstallatör', 'kopia', 'kopia', 'forum']\n",
      "-------------------\n",
      "pos tag:  VERB\n",
      "root words, selection:  ['ta', 'få', 'innehålla', 'ingå', 'innebära', 'sitta', 'få', 'innebära', 'bli', 'förebygga']\n",
      "-------------------\n",
      "pos tag:  PRON\n",
      "root words, selection:  ['någon', 'man']\n",
      "-------------------\n",
      "pos tag:  AUX\n",
      "root words, selection:  ['vara', 'vara', 'vara', 'vara', 'vara', 'vara', 'vara', 'vara', 'vara', 'vara']\n",
      "-------------------\n",
      "pos tag:  ADJ\n",
      "root words, selection:  ['medgivande', 'viktig', 'datainriktad', 'viktig', 'viktig', 'fokusera', 'ovanlig', 'stor', 'vanlig', 'vanlig']\n",
      "-------------------\n",
      "pos tag:  NUM\n",
      "root words, selection:  ['2']\n"
     ]
    },
    {
     "data": {
      "image/png": "[encoded data removed]",
      "text/plain": [
       "<Figure size 432x288 with 1 Axes>"
      ]
     },
     "metadata": {
      "needs_background": "light"
     },
     "output_type": "display_data"
    },
    {
     "name": "stdout",
     "output_type": "stream",
     "text": [
      "-------------------\n",
      "pos tag:  VERB\n",
      "root words, selection:  ['ta', 'ansöka', 'ta', 'dokumentera', 'ta', 'få', 'meddela', 'kontrollera', 'behöva', 'få']\n",
      "-------------------\n",
      "pos tag:  NOUN\n",
      "root words, selection:  ['dag', 'september', 'undantag']\n",
      "-------------------\n",
      "pos tag:  ADJ\n",
      "root words, selection:  ['skyldig', 'vanlig', 'statslös', 'inrikta']\n"
     ]
    },
    {
     "data": {
      "image/png": "[encoded data removed]",
      "text/plain": [
       "<Figure size 432x288 with 1 Axes>"
      ]
     },
     "metadata": {
      "needs_background": "light"
     },
     "output_type": "display_data"
    },
    {
     "name": "stdout",
     "output_type": "stream",
     "text": [
      "-------------------\n",
      "pos tag:  VERB\n",
      "root words, selection:  ['gälla', 'utföra', 'bero', 'gälla', 'ha', 'hålla', 'få', 'kräva', 'ha', 'stå']\n",
      "-------------------\n",
      "pos tag:  NOUN\n",
      "root words, selection:  ['år', 'tillstånd', 'kvitto', 'forskningsuniversitet']\n",
      "-------------------\n",
      "pos tag:  ADJ\n",
      "root words, selection:  ['lång', 'lång', 'lång', 'lång', 'inrikta', 'noggrann', 'stor', 'etablerad', 'viktig']\n",
      "-------------------\n",
      "pos tag:  PRON\n",
      "root words, selection:  ['en']\n",
      "-------------------\n",
      "pos tag:  AUX\n",
      "root words, selection:  ['vara']\n"
     ]
    },
    {
     "data": {
      "image/png": "[encoded data removed]",
      "text/plain": [
       "<Figure size 432x288 with 1 Axes>"
      ]
     },
     "metadata": {
      "needs_background": "light"
     },
     "output_type": "display_data"
    },
    {
     "name": "stdout",
     "output_type": "stream",
     "text": [
      "-------------------\n",
      "pos tag:  NUM\n",
      "root words, selection:  ['7']\n",
      "-------------------\n",
      "pos tag:  VERB\n",
      "root words, selection:  ['genomföra', 'lämna', 'ske', 'läsa', 'använda', 'skicka', 'betrakta', 'bota', 'vara', 'inrikta']\n",
      "-------------------\n",
      "pos tag:  NOUN\n",
      "root words, selection:  ['svetsmetod', 'exempel', 'arbetsplats', 'arbetsuppgift', 'del', 'gång']\n",
      "-------------------\n",
      "pos tag:  ADJ\n",
      "root words, selection:  ['förankra']\n"
     ]
    },
    {
     "data": {
      "image/png": "[encoded data removed]",
      "text/plain": [
       "<Figure size 432x288 with 1 Axes>"
      ]
     },
     "metadata": {
      "needs_background": "light"
     },
     "output_type": "display_data"
    },
    {
     "name": "stdout",
     "output_type": "stream",
     "text": [
      "-------------------\n",
      "pos tag:  VERB\n",
      "root words, selection:  ['rikta', 'sköta', 'representera', 'ske', 'undanta', 'invalda', 'arbeta', 'samarbeta', 'arbeta', 'beskära']\n",
      "-------------------\n",
      "pos tag:  AUX\n",
      "root words, selection:  ['vara', 'vara']\n",
      "-------------------\n",
      "pos tag:  NOUN\n",
      "root words, selection:  ['arbetsgivare', 'jobb', 'vårdnadshavare', 'arbetsledare', 'företag', 'ärendeslag']\n",
      "-------------------\n",
      "pos tag:  ADJ\n",
      "root words, selection:  ['vanlig', 'vanlig']\n"
     ]
    },
    {
     "data": {
      "image/png": "[encoded data removed]",
      "text/plain": [
       "<Figure size 432x288 with 1 Axes>"
      ]
     },
     "metadata": {
      "needs_background": "light"
     },
     "output_type": "display_data"
    },
    {
     "name": "stdout",
     "output_type": "stream",
     "text": [
      "-------------------\n",
      "pos tag:  NOUN\n",
      "root words, selection:  ['arbetsgivare', 'arbetsgivare', 'mellanman', 'befälhavare', 'ambulanssjukvårdare', 'ortopedingenjör', 'arbetsledare', 'vårdnadshavare', 'person', 'exempel']\n",
      "-------------------\n",
      "pos tag:  VERB\n",
      "root words, selection:  ['finnas', 'se', 'besiktiga', 'se', 'utföra', 'kontrollera', 'företräda', 'utgå', 'göra', 'kommunicera']\n"
     ]
    },
    {
     "data": {
      "image/png": "[encoded data removed]",
      "text/plain": [
       "<Figure size 432x288 with 1 Axes>"
      ]
     },
     "metadata": {
      "needs_background": "light"
     },
     "output_type": "display_data"
    },
    {
     "name": "stdout",
     "output_type": "stream",
     "text": [
      "-------------------\n",
      "pos tag:  VERB\n",
      "root words, selection:  ['vända', 'fylla', 'förekomma', 'betala', 'förvänta', 'gälla', 'fylla', 'välja', 'fylla', 'gälla']\n",
      "-------------------\n",
      "pos tag:  NOUN\n",
      "root words, selection:  ['försäkra', 'ansökan', 'ansökan', 'programutbildning', 'turistchef', 'säsongsarbete']\n"
     ]
    },
    {
     "data": {
      "image/png": "[encoded data removed]",
      "text/plain": [
       "<Figure size 432x288 with 1 Axes>"
      ]
     },
     "metadata": {
      "needs_background": "light"
     },
     "output_type": "display_data"
    },
    {
     "name": "stdout",
     "output_type": "stream",
     "text": [
      "-------------------\n",
      "pos tag:  VERB\n",
      "root words, selection:  ['arbeta', 'arbeta', 'granska', 'arbeta', 'stå', 'arbeta', 'arbeta', 'finnas', 'lägga', 'använda']\n",
      "-------------------\n",
      "pos tag:  NOUN\n",
      "root words, selection:  ['dag', 'september', 'anställd', 'säsongsarbete', 'anställd', 'besök', 'initiativ']\n",
      "-------------------\n",
      "pos tag:  ADJ\n",
      "root words, selection:  ['kort', 'fortsätta']\n",
      "-------------------\n",
      "pos tag:  AUX\n",
      "root words, selection:  ['vara', 'vara']\n"
     ]
    },
    {
     "data": {
      "image/png": "[encoded data removed]",
      "text/plain": [
       "<Figure size 432x288 with 1 Axes>"
      ]
     },
     "metadata": {
      "needs_background": "light"
     },
     "output_type": "display_data"
    },
    {
     "name": "stdout",
     "output_type": "stream",
     "text": [
      "-------------------\n",
      "pos tag:  VERB\n",
      "root words, selection:  ['justera', 'klättra', 'arbeta', 'få', 'ha', 'vilja', 'göra', 'förebygga', 'ställa', 'pågå']\n",
      "-------------------\n",
      "pos tag:  ADJ\n",
      "root words, selection:  ['viktig', 'utrusta', 'viktig']\n",
      "-------------------\n",
      "pos tag:  NOUN\n",
      "root words, selection:  ['arbete']\n"
     ]
    },
    {
     "data": {
      "image/png": "[encoded data removed]",
      "text/plain": [
       "<Figure size 432x288 with 1 Axes>"
      ]
     },
     "metadata": {
      "needs_background": "light"
     },
     "output_type": "display_data"
    },
    {
     "name": "stdout",
     "output_type": "stream",
     "text": [
      "-------------------\n",
      "pos tag:  VERB\n",
      "root words, selection:  ['skicka', 'skicka', 'kontakta', 'kontakta', 'kontakta', 'skicka', 'besöka', 'skicka', 'kontakta']\n"
     ]
    },
    {
     "data": {
      "image/png": "[encoded data removed]",
      "text/plain": [
       "<Figure size 432x288 with 1 Axes>"
      ]
     },
     "metadata": {
      "needs_background": "light"
     },
     "output_type": "display_data"
    }
   ],
   "source": [
    "# interrogative word statistics: interrogative word -> word class of root of answer\n",
    "i_words_map, i_words_map_count, _ = get_interrogative_word_statistics(df_dp_train, 'sent')\n",
    "for key, value in i_words_map_count.items():\n",
    "    print_interrogative_word_statistics(key, value, i_words_map[key])"
   ]
  },
  {
   "cell_type": "code",
   "execution_count": null,
   "metadata": {},
   "outputs": [],
   "source": []
  }
 ],
 "metadata": {
  "interpreter": {
   "hash": "de4ab37d9aa598fa28430b4c5abb54602406a240d03eddec7af88b85de3986f7"
  },
  "kernelspec": {
   "display_name": "Python 3.7.11 64-bit ('dp': conda)",
   "language": "python",
   "name": "python3"
  },
  "language_info": {
   "codemirror_mode": {
    "name": "ipython",
    "version": 3
   },
   "file_extension": ".py",
   "mimetype": "text/x-python",
   "name": "python",
   "nbconvert_exporter": "python",
   "pygments_lexer": "ipython3",
   "version": "3.7.11"
  },
  "orig_nbformat": 4
 },
 "nbformat": 4,
 "nbformat_minor": 2
}
