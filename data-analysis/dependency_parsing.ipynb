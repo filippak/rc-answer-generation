{
 "cells": [
  {
   "cell_type": "markdown",
   "metadata": {},
   "source": [
    "# Dependency parsing of the answers"
   ]
  },
  {
   "cell_type": "code",
   "execution_count": 41,
   "metadata": {},
   "outputs": [],
   "source": [
    "import stanza\n",
    "import pandas as pd\n",
    "import matplotlib.pyplot as plt\n",
    "import re"
   ]
  },
  {
   "cell_type": "code",
   "execution_count": 83,
   "metadata": {},
   "outputs": [
    {
     "name": "stderr",
     "output_type": "stream",
     "text": [
      "Downloading https://raw.githubusercontent.com/stanfordnlp/stanza-resources/main/resources_1.2.2.json: 140kB [00:00, 6.13MB/s]                    \n",
      "2022-01-31 11:13:00 INFO: Downloading these customized packages for language: sv (Swedish)...\n",
      "=========================\n",
      "| Processor | Package   |\n",
      "-------------------------\n",
      "| tokenize  | talbanken |\n",
      "| pos       | talbanken |\n",
      "| lemma     | talbanken |\n",
      "| depparse  | talbanken |\n",
      "| pretrain  | talbanken |\n",
      "=========================\n",
      "\n",
      "2022-01-31 11:13:00 INFO: File exists: /Users/filippakarrfelt/stanza_resources/sv/tokenize/talbanken.pt.\n",
      "2022-01-31 11:13:00 INFO: File exists: /Users/filippakarrfelt/stanza_resources/sv/pos/talbanken.pt.\n",
      "2022-01-31 11:13:01 INFO: File exists: /Users/filippakarrfelt/stanza_resources/sv/lemma/talbanken.pt.\n",
      "2022-01-31 11:13:01 INFO: File exists: /Users/filippakarrfelt/stanza_resources/sv/depparse/talbanken.pt.\n",
      "2022-01-31 11:13:01 INFO: File exists: /Users/filippakarrfelt/stanza_resources/sv/pretrain/talbanken.pt.\n",
      "2022-01-31 11:13:01 INFO: Finished downloading models and saved to /Users/filippakarrfelt/stanza_resources.\n",
      "2022-01-31 11:13:01 INFO: Loading these models for language: sv (Swedish):\n",
      "=========================\n",
      "| Processor | Package   |\n",
      "-------------------------\n",
      "| tokenize  | talbanken |\n",
      "| pos       | talbanken |\n",
      "| lemma     | talbanken |\n",
      "| depparse  | talbanken |\n",
      "=========================\n",
      "\n",
      "2022-01-31 11:13:01 INFO: Use device: cpu\n",
      "2022-01-31 11:13:01 INFO: Loading: tokenize\n",
      "2022-01-31 11:13:01 INFO: Loading: pos\n",
      "2022-01-31 11:13:02 INFO: Loading: lemma\n",
      "2022-01-31 11:13:02 INFO: Loading: depparse\n",
      "2022-01-31 11:13:02 INFO: Done loading processors!\n"
     ]
    },
    {
     "name": "stdout",
     "output_type": "stream",
     "text": [
      "id: 1\tword: Du\thead id: 3\thead: ta\tdeprel: nsubj\n",
      "id: 2\tword: behöver\thead id: 3\thead: ta\tdeprel: aux\n",
      "id: 3\tword: ta\thead id: 0\thead: root\tdeprel: root\n",
      "id: 4\tword: med\thead id: 3\thead: ta\tdeprel: compound:prt\n",
      "id: 5\tword: ditt\thead id: 6\thead: pass\tdeprel: nmod:poss\n",
      "id: 6\tword: pass\thead id: 3\thead: ta\tdeprel: obj\n",
      "id: 7\tword: .\thead id: 3\thead: ta\tdeprel: punct\n"
     ]
    }
   ],
   "source": [
    "stanza.download('sv', processors='tokenize,pos,lemma,depparse')\n",
    "nlp = stanza.Pipeline(lang='sv', processors='tokenize,pos,lemma,depparse')\n",
    "\n",
    "# Example usage\n",
    "doc = nlp('Du behöver ta med ditt pass.')\n",
    "print(*[f'id: {word.id}\\tword: {word.text}\\thead id: {word.head}\\thead: {sent.words[word.head-1].text if word.head > 0 else \"root\"}\\tdeprel: {word.deprel}' for sent in doc.sentences for word in sent.words], sep='\\n')"
   ]
  },
  {
   "cell_type": "code",
   "execution_count": 84,
   "metadata": {},
   "outputs": [
    {
     "name": "stdout",
     "output_type": "stream",
     "text": [
      "Du du PRON nsubj\n",
      "behöver behöva AUX aux\n",
      "ta ta VERB root\n",
      "med med ADP compound:prt\n",
      "ditt du PRON nmod:poss\n",
      "pass pass NOUN obj\n",
      ". . PUNCT punct\n"
     ]
    }
   ],
   "source": [
    "for sentence in doc.sentences:\n",
    "    for word in sentence.words:\n",
    "        print(word.text, word.lemma, word.pos, word.deprel)"
   ]
  },
  {
   "cell_type": "code",
   "execution_count": 85,
   "metadata": {},
   "outputs": [
    {
     "data": {
      "text/html": [
       "<div>\n",
       "<style scoped>\n",
       "    .dataframe tbody tr th:only-of-type {\n",
       "        vertical-align: middle;\n",
       "    }\n",
       "\n",
       "    .dataframe tbody tr th {\n",
       "        vertical-align: top;\n",
       "    }\n",
       "\n",
       "    .dataframe thead th {\n",
       "        text-align: right;\n",
       "    }\n",
       "</style>\n",
       "<table border=\"1\" class=\"dataframe\">\n",
       "  <thead>\n",
       "    <tr style=\"text-align: right;\">\n",
       "      <th></th>\n",
       "      <th>choices</th>\n",
       "      <th>context</th>\n",
       "      <th>question</th>\n",
       "      <th>correct_answer</th>\n",
       "      <th>correct_answer_loc</th>\n",
       "      <th>answer_reformulation</th>\n",
       "      <th>answer_location</th>\n",
       "      <th>sent_with_ans</th>\n",
       "      <th>answer_locations_text</th>\n",
       "      <th>paragraph_len</th>\n",
       "      <th>loc_frac</th>\n",
       "    </tr>\n",
       "  </thead>\n",
       "  <tbody>\n",
       "    <tr>\n",
       "      <th>0</th>\n",
       "      <td>[{'end': 224, 'extra': None, 'start': 175, 'te...</td>\n",
       "      <td>Visum för affärs- och konferensbesök\\r\\nOm du ...</td>\n",
       "      <td>Vad är ett visum?</td>\n",
       "      <td>ett tillstånd för att resa in och vara i ett land</td>\n",
       "      <td>175</td>\n",
       "      <td>False</td>\n",
       "      <td>2</td>\n",
       "      <td>Visum är ett tillstånd för att resa in och var...</td>\n",
       "      <td>[2]</td>\n",
       "      <td>27</td>\n",
       "      <td>0.074074</td>\n",
       "    </tr>\n",
       "    <tr>\n",
       "      <th>1</th>\n",
       "      <td>[{'end': 707, 'extra': None, 'start': 681, 'te...</td>\n",
       "      <td>Eget företag\\r\\nEfter beslut\\r\\nBeslutet skick...</td>\n",
       "      <td>Vad ska du ta med när du hämtar ditt beslut?</td>\n",
       "      <td>ditt pass</td>\n",
       "      <td>156</td>\n",
       "      <td>False</td>\n",
       "      <td>3</td>\n",
       "      <td>När du ska hämta ditt beslut ska du ta med dit...</td>\n",
       "      <td>[3, 4]</td>\n",
       "      <td>20</td>\n",
       "      <td>0.150000</td>\n",
       "    </tr>\n",
       "    <tr>\n",
       "      <th>2</th>\n",
       "      <td>[{'end': 1165, 'extra': None, 'start': 1154, '...</td>\n",
       "      <td>Utbytesdoktorander\\r\\nIntervju\\r\\nDu kommer at...</td>\n",
       "      <td>Hur länge gäller ett uppehållstillstånd för be...</td>\n",
       "      <td>ett år</td>\n",
       "      <td>1619</td>\n",
       "      <td>False</td>\n",
       "      <td>21</td>\n",
       "      <td>Ett uppehållstillstånd för besök gäller som lä...</td>\n",
       "      <td>[21]</td>\n",
       "      <td>29</td>\n",
       "      <td>0.724138</td>\n",
       "    </tr>\n",
       "    <tr>\n",
       "      <th>3</th>\n",
       "      <td>[{'end': 598, 'extra': None, 'start': 589, 'te...</td>\n",
       "      <td>Eget företag\\r\\nNär vi har tagit emot din ansö...</td>\n",
       "      <td>Vad är ett uppehållstillståndskort?</td>\n",
       "      <td>ett bevis</td>\n",
       "      <td>589</td>\n",
       "      <td>False</td>\n",
       "      <td>7</td>\n",
       "      <td>Kortet är ett bevis på att du har tillstånd at...</td>\n",
       "      <td>[7]</td>\n",
       "      <td>30</td>\n",
       "      <td>0.233333</td>\n",
       "    </tr>\n",
       "    <tr>\n",
       "      <th>4</th>\n",
       "      <td>[{'end': 1932, 'extra': None, 'start': 1924, '...</td>\n",
       "      <td>Flytta tillbaka till Sverige\\r\\nSå ansöker du\\...</td>\n",
       "      <td>Vad är ett uppehållstillståndskort?</td>\n",
       "      <td>ett bevis</td>\n",
       "      <td>673</td>\n",
       "      <td>False</td>\n",
       "      <td>9</td>\n",
       "      <td>Kortet är ett bevis på att du har tillstånd at...</td>\n",
       "      <td>[9]</td>\n",
       "      <td>23</td>\n",
       "      <td>0.391304</td>\n",
       "    </tr>\n",
       "  </tbody>\n",
       "</table>\n",
       "</div>"
      ],
      "text/plain": [
       "                                             choices  \\\n",
       "0  [{'end': 224, 'extra': None, 'start': 175, 'te...   \n",
       "1  [{'end': 707, 'extra': None, 'start': 681, 'te...   \n",
       "2  [{'end': 1165, 'extra': None, 'start': 1154, '...   \n",
       "3  [{'end': 598, 'extra': None, 'start': 589, 'te...   \n",
       "4  [{'end': 1932, 'extra': None, 'start': 1924, '...   \n",
       "\n",
       "                                             context  \\\n",
       "0  Visum för affärs- och konferensbesök\\r\\nOm du ...   \n",
       "1  Eget företag\\r\\nEfter beslut\\r\\nBeslutet skick...   \n",
       "2  Utbytesdoktorander\\r\\nIntervju\\r\\nDu kommer at...   \n",
       "3  Eget företag\\r\\nNär vi har tagit emot din ansö...   \n",
       "4  Flytta tillbaka till Sverige\\r\\nSå ansöker du\\...   \n",
       "\n",
       "                                            question  \\\n",
       "0                                  Vad är ett visum?   \n",
       "1       Vad ska du ta med när du hämtar ditt beslut?   \n",
       "2  Hur länge gäller ett uppehållstillstånd för be...   \n",
       "3                Vad är ett uppehållstillståndskort?   \n",
       "4                Vad är ett uppehållstillståndskort?   \n",
       "\n",
       "                                      correct_answer  correct_answer_loc  \\\n",
       "0  ett tillstånd för att resa in och vara i ett land                 175   \n",
       "1                                          ditt pass                 156   \n",
       "2                                             ett år                1619   \n",
       "3                                          ett bevis                 589   \n",
       "4                                          ett bevis                 673   \n",
       "\n",
       "  answer_reformulation  answer_location  \\\n",
       "0                False                2   \n",
       "1                False                3   \n",
       "2                False               21   \n",
       "3                False                7   \n",
       "4                False                9   \n",
       "\n",
       "                                       sent_with_ans answer_locations_text  \\\n",
       "0  Visum är ett tillstånd för att resa in och var...                   [2]   \n",
       "1  När du ska hämta ditt beslut ska du ta med dit...                [3, 4]   \n",
       "2  Ett uppehållstillstånd för besök gäller som lä...                  [21]   \n",
       "3  Kortet är ett bevis på att du har tillstånd at...                   [7]   \n",
       "4  Kortet är ett bevis på att du har tillstånd at...                   [9]   \n",
       "\n",
       "   paragraph_len  loc_frac  \n",
       "0             27  0.074074  \n",
       "1             20  0.150000  \n",
       "2             29  0.724138  \n",
       "3             30  0.233333  \n",
       "4             23  0.391304  "
      ]
     },
     "execution_count": 85,
     "metadata": {},
     "output_type": "execute_result"
    }
   ],
   "source": [
    "# Load the dataframes consisting of the data\n",
    "df_train = pd.read_pickle(\"./data_frames/df_train.pkl\")\n",
    "df_test = pd.read_pickle(\"./data_frames/df_test.pkl\")\n",
    "df_train.head()"
   ]
  },
  {
   "cell_type": "code",
   "execution_count": 89,
   "metadata": {},
   "outputs": [],
   "source": [
    "# Find the word type of the root in every answer in the dataset\n",
    "def parse_doc(doc):\n",
    "    dict = { 'words': [], 'pos': [], 'deprel': [], 'root': None, 'root_word': None, 'root_pos': None,}\n",
    "    for sentence in doc.sentences:\n",
    "        for word in sentence.words:\n",
    "            # print(word.text, word.lemma, word.pos, word.deprel)\n",
    "            dict['words'].append(word.lemma)\n",
    "            dict['pos'].append(word.pos)\n",
    "            dict['deprel'].append(word.deprel)\n",
    "            if word.deprel == 'root':\n",
    "                dict['root'] = word.lemma\n",
    "                dict['root_word'] = word.text\n",
    "                dict['root_pos'] = word.pos\n",
    "    return dict\n",
    "\n",
    "def add_to_dependency_dict(answer, sent_with_ans, question, ans_doc, sent_doc, q_doc):\n",
    "    ans_dict = parse_doc(ans_doc)\n",
    "    sent_dict = parse_doc(sent_doc)\n",
    "    q_dict = parse_doc(q_doc)\n",
    "    dict_item = { 'answer': answer, 'answer_words': [], 'answer_pos': [], 'answer_deprel': [], 'answer_root': None, 'answer_root_pos': None,\n",
    "            'sent_with_ans': sent_with_ans, 'sent_words': [], 'sent_pos': [], 'sent_deprel': [], 'sent_root': None, 'sent_root_pos': None,\n",
    "            'question': question, 'q_words': [], 'q_pos': [], 'q_deprel': [], 'q_root': None, 'q_root_pos': None }\n",
    "    pre_scripts = [('answer_', ans_dict), ('sent_', sent_dict), ('q_', q_dict)]\n",
    "    for pre in pre_scripts:\n",
    "        dict_item[pre[0]+'words'] = pre[1]['words']\n",
    "        dict_item[pre[0]+'pos'] = pre[1]['pos']\n",
    "        dict_item[pre[0]+'deprel'] = pre[1]['deprel']\n",
    "        dict_item[pre[0]+'root'] = pre[1]['root']\n",
    "        dict_item[pre[0]+'root_word'] = pre[1]['root_word']\n",
    "        dict_item[pre[0]+'root_pos'] = pre[1]['root_pos']\n",
    "    return dict_item\n",
    "\n",
    "def dependency_parsing(df):\n",
    "    dependency_dict = []\n",
    "    for index, row in df.iterrows():\n",
    "        answer = row['correct_answer'].lower()\n",
    "        sent_with_ans = row['sent_with_ans'].lower()\n",
    "        question = row['question'].lower()\n",
    "        answer = re.sub('[^\\sa-zåäöA-ZÅÄÖ1-9]', '', answer)\n",
    "        sent_with_ans = re.sub('[^\\sa-zåäöA-ZÅÄÖ1-9]', '', sent_with_ans)\n",
    "        question = re.sub('[^\\sa-zåäöA-ZÅÄÖ1-9]', '', question)\n",
    "        ans_doc = nlp(answer)\n",
    "        sent_doc = nlp(sent_with_ans)\n",
    "        q_doc = nlp(question)\n",
    "        dependency_dict.append(add_to_dependency_dict(answer, sent_with_ans, question, ans_doc, sent_doc, q_doc))\n",
    "    \n",
    "    return dependency_dict\n"
   ]
  },
  {
   "cell_type": "code",
   "execution_count": 90,
   "metadata": {},
   "outputs": [],
   "source": [
    "# get the word class statistics for the root\n",
    "def get_word_class_count(data, type):\n",
    "    stats = {}\n",
    "    for ans in data:\n",
    "        word_pos = ans[type + '_root_pos']\n",
    "        # can be none!\n",
    "        if word_pos == None:\n",
    "            print('word has None pos tag: ', ans[type + '_root_word'])\n",
    "            if 'UNK' not in stats:\n",
    "                stats['UNK'] = 1\n",
    "            else:\n",
    "                stats['UNK'] += 1\n",
    "        elif word_pos not in stats:\n",
    "            stats[word_pos] = 1\n",
    "        else:\n",
    "            stats[word_pos] += 1\n",
    "    return stats"
   ]
  },
  {
   "cell_type": "code",
   "execution_count": 91,
   "metadata": {},
   "outputs": [],
   "source": [
    "# print stats\n",
    "def print_wordcount_stats(stats, title):\n",
    "    print('stats: ', stats)\n",
    "    plt.bar(stats.keys(), stats.values(), color='g')\n",
    "    plt.title(title)\n",
    "    plt.show()\n"
   ]
  },
  {
   "cell_type": "code",
   "execution_count": 92,
   "metadata": {},
   "outputs": [],
   "source": [
    "dict = dependency_parsing(df_train)\n",
    "# Save as dataframe\n",
    "dp_dict_train = pd.DataFrame(dict)\n",
    "# Save dataframe to file\n",
    "dp_dict_train.to_pickle(\"./data_frames/dependency_parsing/df_dp_train.pkl\")"
   ]
  },
  {
   "cell_type": "code",
   "execution_count": 93,
   "metadata": {},
   "outputs": [
    {
     "name": "stdout",
     "output_type": "stream",
     "text": [
      "stats:  {'NOUN': 507, 'VERB': 346, 'NUM': 63, 'ADJ': 25, 'PRON': 7, 'ADV': 2, 'PROPN': 11, 'ADP': 1}\n"
     ]
    },
    {
     "data": {
      "image/png": "[encoded data removed]",
      "text/plain": [
       "<Figure size 432x288 with 1 Axes>"
      ]
     },
     "metadata": {
      "needs_background": "light"
     },
     "output_type": "display_data"
    },
    {
     "name": "stdout",
     "output_type": "stream",
     "text": [
      "stats:  {'NOUN': 131, 'VERB': 750, 'NUM': 2, 'AUX': 18, 'ADJ': 58, 'PRON': 3}\n"
     ]
    },
    {
     "data": {
      "image/png": "[encoded data removed]",
      "text/plain": [
       "<Figure size 432x288 with 1 Axes>"
      ]
     },
     "metadata": {
      "needs_background": "light"
     },
     "output_type": "display_data"
    },
    {
     "name": "stdout",
     "output_type": "stream",
     "text": [
      "stats:  {'PRON': 73, 'VERB': 770, 'NOUN': 77, 'ADJ': 34, 'ADV': 1, 'AUX': 6, 'NUM': 1}\n"
     ]
    },
    {
     "data": {
      "image/png": "[encoded data removed]",
      "text/plain": [
       "<Figure size 432x288 with 1 Axes>"
      ]
     },
     "metadata": {
      "needs_background": "light"
     },
     "output_type": "display_data"
    }
   ],
   "source": [
    "# PLOT STATISTICS\n",
    "\n",
    "# ans stats\n",
    "ans_stats = get_word_class_count(dict, 'answer')\n",
    "title_ans = 'Occurrences of word types in answer as DP root (train data)'\n",
    "print_wordcount_stats(ans_stats, title_ans)\n",
    "\n",
    "# ans sent stats\n",
    "sent_stats = get_word_class_count(dict, 'sent')\n",
    "title_ans = 'Occurrences of word types in sentence with answer as DP root (train data)'\n",
    "print_wordcount_stats(sent_stats, title_ans)\n",
    "\n",
    "# question stats\n",
    "q_stats = get_word_class_count(dict, 'q')\n",
    "title_ans = 'Occurrences of word types in question as DP root (train data)'\n",
    "print_wordcount_stats(q_stats, title_ans)\n"
   ]
  },
  {
   "cell_type": "code",
   "execution_count": 94,
   "metadata": {},
   "outputs": [],
   "source": [
    "test_dict = dependency_parsing(df_test)\n",
    "# create dataframe\n",
    "dp_dict_test = pd.DataFrame(test_dict)\n",
    "# Save dataframe to file\n",
    "dp_dict_test.to_pickle(\"./data_frames/dependency_parsing/df_dp_test.pkl\")"
   ]
  },
  {
   "cell_type": "code",
   "execution_count": 95,
   "metadata": {},
   "outputs": [
    {
     "name": "stdout",
     "output_type": "stream",
     "text": [
      "stats:  {'VERB': 33, 'NOUN': 60, 'NUM': 4, 'ADJ': 3, 'PRON': 1, 'AUX': 1}\n"
     ]
    },
    {
     "data": {
      "image/png": "[encoded data removed]",
      "text/plain": [
       "<Figure size 432x288 with 1 Axes>"
      ]
     },
     "metadata": {
      "needs_background": "light"
     },
     "output_type": "display_data"
    },
    {
     "name": "stdout",
     "output_type": "stream",
     "text": [
      "stats:  {'VERB': 71, 'NOUN': 21, 'ADJ': 9, 'NUM': 1}\n"
     ]
    },
    {
     "data": {
      "image/png": "[encoded data removed]",
      "text/plain": [
       "<Figure size 432x288 with 1 Axes>"
      ]
     },
     "metadata": {
      "needs_background": "light"
     },
     "output_type": "display_data"
    },
    {
     "name": "stdout",
     "output_type": "stream",
     "text": [
      "stats:  {'VERB': 79, 'PRON': 7, 'NOUN': 11, 'ADJ': 5}\n"
     ]
    },
    {
     "data": {
      "image/png": "[encoded data removed]",
      "text/plain": [
       "<Figure size 432x288 with 1 Axes>"
      ]
     },
     "metadata": {
      "needs_background": "light"
     },
     "output_type": "display_data"
    }
   ],
   "source": [
    "# PRINT STATS\n",
    "\n",
    "# ans stats\n",
    "test_ans_stats = get_word_class_count(test_dict, 'answer')\n",
    "title_ans = 'Occurrences of word types in answer as DP root (test data)'\n",
    "print_wordcount_stats(test_ans_stats, title_ans)\n",
    "\n",
    "# sent ans stats\n",
    "test_sent_stats = get_word_class_count(test_dict, 'sent')\n",
    "title_ans = 'Occurrences of word types in sentence with answer as DP root (test data)'\n",
    "print_wordcount_stats(test_sent_stats, title_ans)\n",
    "\n",
    "# question stats\n",
    "test_q_stats = get_word_class_count(test_dict, 'q')\n",
    "title_ans = 'Occurrences of word types in question as DP root (test data)'\n",
    "print_wordcount_stats(test_q_stats, title_ans)"
   ]
  },
  {
   "cell_type": "code",
   "execution_count": null,
   "metadata": {},
   "outputs": [],
   "source": []
  }
 ],
 "metadata": {
  "interpreter": {
   "hash": "73bd7d705edd3cbd4668403343d31c3349884dd90d33a7dfec0df63d2ccc79be"
  },
  "kernelspec": {
   "display_name": "Python 3.7.11 64-bit ('py37': conda)",
   "language": "python",
   "name": "python3"
  },
  "language_info": {
   "codemirror_mode": {
    "name": "ipython",
    "version": 3
   },
   "file_extension": ".py",
   "mimetype": "text/x-python",
   "name": "python",
   "nbconvert_exporter": "python",
   "pygments_lexer": "ipython3",
   "version": "3.7.11"
  },
  "orig_nbformat": 4
 },
 "nbformat": 4,
 "nbformat_minor": 2
}
