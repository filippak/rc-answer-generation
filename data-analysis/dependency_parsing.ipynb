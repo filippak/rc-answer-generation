{
 "cells": [
  {
   "cell_type": "markdown",
   "metadata": {},
   "source": [
    "# Dependency parsing of the answers"
   ]
  },
  {
   "cell_type": "code",
   "execution_count": 1,
   "metadata": {},
   "outputs": [],
   "source": [
    "import stanza\n",
    "import pandas as pd\n",
    "import matplotlib.pyplot as plt"
   ]
  },
  {
   "cell_type": "code",
   "execution_count": 2,
   "metadata": {},
   "outputs": [
    {
     "name": "stderr",
     "output_type": "stream",
     "text": [
      "Downloading https://raw.githubusercontent.com/stanfordnlp/stanza-resources/main/resources_1.2.2.json: 140kB [00:00, 24.0MB/s]                    \n",
      "2022-01-24 11:45:50 INFO: Downloading these customized packages for language: sv (Swedish)...\n",
      "=========================\n",
      "| Processor | Package   |\n",
      "-------------------------\n",
      "| tokenize  | talbanken |\n",
      "| pos       | talbanken |\n",
      "| lemma     | talbanken |\n",
      "| depparse  | talbanken |\n",
      "| pretrain  | talbanken |\n",
      "=========================\n",
      "\n",
      "2022-01-24 11:45:50 INFO: File exists: /Users/filippakarrfelt/stanza_resources/sv/tokenize/talbanken.pt.\n",
      "2022-01-24 11:45:50 INFO: File exists: /Users/filippakarrfelt/stanza_resources/sv/pos/talbanken.pt.\n",
      "2022-01-24 11:45:50 INFO: File exists: /Users/filippakarrfelt/stanza_resources/sv/lemma/talbanken.pt.\n",
      "2022-01-24 11:45:50 INFO: File exists: /Users/filippakarrfelt/stanza_resources/sv/depparse/talbanken.pt.\n",
      "2022-01-24 11:45:51 INFO: File exists: /Users/filippakarrfelt/stanza_resources/sv/pretrain/talbanken.pt.\n",
      "2022-01-24 11:45:51 INFO: Finished downloading models and saved to /Users/filippakarrfelt/stanza_resources.\n",
      "2022-01-24 11:45:51 INFO: Loading these models for language: sv (Swedish):\n",
      "=========================\n",
      "| Processor | Package   |\n",
      "-------------------------\n",
      "| tokenize  | talbanken |\n",
      "| pos       | talbanken |\n",
      "| lemma     | talbanken |\n",
      "| depparse  | talbanken |\n",
      "=========================\n",
      "\n",
      "2022-01-24 11:45:51 INFO: Use device: cpu\n",
      "2022-01-24 11:45:51 INFO: Loading: tokenize\n",
      "2022-01-24 11:45:51 INFO: Loading: pos\n",
      "2022-01-24 11:45:51 INFO: Loading: lemma\n",
      "2022-01-24 11:45:51 INFO: Loading: depparse\n",
      "2022-01-24 11:45:51 INFO: Done loading processors!\n"
     ]
    },
    {
     "name": "stdout",
     "output_type": "stream",
     "text": [
      "id: 1\tword: Du\thead id: 3\thead: ta\tdeprel: nsubj\n",
      "id: 2\tword: behöver\thead id: 3\thead: ta\tdeprel: aux\n",
      "id: 3\tword: ta\thead id: 0\thead: root\tdeprel: root\n",
      "id: 4\tword: med\thead id: 3\thead: ta\tdeprel: compound:prt\n",
      "id: 5\tword: ditt\thead id: 6\thead: pass\tdeprel: nmod:poss\n",
      "id: 6\tword: pass\thead id: 3\thead: ta\tdeprel: obj\n",
      "id: 7\tword: .\thead id: 3\thead: ta\tdeprel: punct\n"
     ]
    }
   ],
   "source": [
    "stanza.download('sv', processors='tokenize,pos,lemma,depparse')\n",
    "nlp = stanza.Pipeline(lang='sv', processors='tokenize,pos,lemma,depparse')\n",
    "\n",
    "# Example usage\n",
    "doc = nlp('Du behöver ta med ditt pass.')\n",
    "print(*[f'id: {word.id}\\tword: {word.text}\\thead id: {word.head}\\thead: {sent.words[word.head-1].text if word.head > 0 else \"root\"}\\tdeprel: {word.deprel}' for sent in doc.sentences for word in sent.words], sep='\\n')"
   ]
  },
  {
   "cell_type": "code",
   "execution_count": 10,
   "metadata": {},
   "outputs": [
    {
     "name": "stdout",
     "output_type": "stream",
     "text": [
      "Du du PRON nsubj\n",
      "behöver behöva AUX aux\n",
      "ta ta VERB root\n",
      "med med ADP compound:prt\n",
      "ditt du PRON nmod:poss\n",
      "pass pass NOUN obj\n",
      ". . PUNCT punct\n"
     ]
    }
   ],
   "source": [
    "for sentence in doc.sentences:\n",
    "    for word in sentence.words:\n",
    "        print(word.text, word.lemma, word.pos, word.deprel)"
   ]
  },
  {
   "cell_type": "code",
   "execution_count": 3,
   "metadata": {},
   "outputs": [],
   "source": [
    "# Load the dataframes consisting of the data\n",
    "df_train = pd.read_pickle(\"./df_train.pkl\")\n",
    "df_test = pd.read_pickle(\"./df_test.pkl\")"
   ]
  },
  {
   "cell_type": "code",
   "execution_count": 4,
   "metadata": {},
   "outputs": [],
   "source": [
    "# Find the word type of the root in every answer in the dataset\n",
    "def dependency_parsing(df):\n",
    "    dependency_dict = {}\n",
    "    for index, row in df.iterrows():\n",
    "        answer = row['correct_answer']\n",
    "        dependency_dict[index] = {'answer': answer, 'word': [], 'pos': [], 'deprel': [], 'root': None, 'root_pos': None}\n",
    "        doc = nlp(answer)\n",
    "        for sentence in doc.sentences:\n",
    "            for word in sentence.words:\n",
    "                # print(word.text, word.lemma, word.pos, word.deprel)\n",
    "                dependency_dict[index]['word'].append(word.lemma)\n",
    "                dependency_dict[index]['pos'].append(word.pos)\n",
    "                dependency_dict[index]['deprel'].append(word.deprel)\n",
    "                if word.deprel == 'root':\n",
    "                    dependency_dict[index]['root'] = word.lemma\n",
    "                    dependency_dict[index]['root_pos'] = word.pos\n",
    "    \n",
    "    return dependency_dict\n"
   ]
  },
  {
   "cell_type": "code",
   "execution_count": 6,
   "metadata": {},
   "outputs": [],
   "source": [
    "# get the word class statistics for the root\n",
    "def get_word_class_count(dict):\n",
    "    stats = {}\n",
    "    for ans in dict.values():\n",
    "        word_pos = ans['root_pos']\n",
    "        if word_pos not in stats:\n",
    "            stats[word_pos] = 1\n",
    "        else:\n",
    "            stats[word_pos] += 1\n",
    "    return stats"
   ]
  },
  {
   "cell_type": "code",
   "execution_count": 19,
   "metadata": {},
   "outputs": [
    {
     "name": "stdout",
     "output_type": "stream",
     "text": [
      "stats:  {'NOUN': 511, 'VERB': 343, 'NUM': 61, 'ADJ': 24, 'PROPN': 12, 'PRON': 7, 'ADV': 3, 'ADP': 1}\n"
     ]
    },
    {
     "data": {
      "text/plain": [
       "Text(0.5, 1.0, 'Occurrences of word types as DP root')"
      ]
     },
     "execution_count": 19,
     "metadata": {},
     "output_type": "execute_result"
    },
    {
     "data": {
      "image/png": "[encoded data removed]",
      "text/plain": [
       "<Figure size 432x288 with 1 Axes>"
      ]
     },
     "metadata": {
      "needs_background": "light"
     },
     "output_type": "display_data"
    }
   ],
   "source": [
    "dict = dependency_parsing(df_train)\n",
    "stats = get_word_class_count(dict)\n",
    "print('stats: ', stats)\n",
    "plt.bar(stats.keys(), stats.values(), color='g')\n",
    "plt.title('Occurrences of word types as DP root')\n",
    "\n"
   ]
  },
  {
   "cell_type": "code",
   "execution_count": 9,
   "metadata": {},
   "outputs": [
    {
     "name": "stdout",
     "output_type": "stream",
     "text": [
      "stats:  {'VERB': 33, 'NOUN': 60, 'NUM': 4, 'ADJ': 3, 'PRON': 1, 'AUX': 1}\n"
     ]
    },
    {
     "data": {
      "text/plain": [
       "Text(0.5, 1.0, 'Occurrences of word types as DP root (test data)')"
      ]
     },
     "execution_count": 9,
     "metadata": {},
     "output_type": "execute_result"
    },
    {
     "data": {
      "image/png": "[encoded data removed]",
      "text/plain": [
       "<Figure size 432x288 with 1 Axes>"
      ]
     },
     "metadata": {
      "needs_background": "light"
     },
     "output_type": "display_data"
    }
   ],
   "source": [
    "test_dict = dependency_parsing(df_test)\n",
    "test_stats = get_word_class_count(test_dict)\n",
    "print('stats: ', test_stats)\n",
    "test_stats = {k: v for k, v in sorted(test_stats.items(), key=lambda item: item[1], reverse=True)}\n",
    "plt.bar(test_stats.keys(), test_stats.values(), color='g')\n",
    "plt.title('Occurrences of word types as DP root (test data)')"
   ]
  },
  {
   "cell_type": "code",
   "execution_count": null,
   "metadata": {},
   "outputs": [],
   "source": []
  }
 ],
 "metadata": {
  "interpreter": {
   "hash": "73bd7d705edd3cbd4668403343d31c3349884dd90d33a7dfec0df63d2ccc79be"
  },
  "kernelspec": {
   "display_name": "Python 3.7.11 64-bit ('py37': conda)",
   "language": "python",
   "name": "python3"
  },
  "language_info": {
   "codemirror_mode": {
    "name": "ipython",
    "version": 3
   },
   "file_extension": ".py",
   "mimetype": "text/x-python",
   "name": "python",
   "nbconvert_exporter": "python",
   "pygments_lexer": "ipython3",
   "version": "3.7.11"
  },
  "orig_nbformat": 4
 },
 "nbformat": 4,
 "nbformat_minor": 2
}
