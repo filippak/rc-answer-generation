{
 "cells": [
  {
   "cell_type": "markdown",
   "metadata": {},
   "source": [
    "# Questions per context\n",
    "This script computes statistics for how many questions are asked for each context. The instruction to the annotators were just to ask questions on the given contexts, thus, each context could have any number of questions related to it."
   ]
  },
  {
   "cell_type": "code",
   "execution_count": 1,
   "metadata": {},
   "outputs": [],
   "source": [
    "# Load necessary libraries\n",
    "import pandas as pd\n",
    "import matplotlib.pyplot as plt\n",
    "import numpy as np\n",
    "import re\n",
    "import itertools"
   ]
  },
  {
   "cell_type": "code",
   "execution_count": 2,
   "metadata": {},
   "outputs": [
    {
     "data": {
      "text/html": [
       "<div>\n",
       "<style scoped>\n",
       "    .dataframe tbody tr th:only-of-type {\n",
       "        vertical-align: middle;\n",
       "    }\n",
       "\n",
       "    .dataframe tbody tr th {\n",
       "        vertical-align: top;\n",
       "    }\n",
       "\n",
       "    .dataframe thead th {\n",
       "        text-align: right;\n",
       "    }\n",
       "</style>\n",
       "<table border=\"1\" class=\"dataframe\">\n",
       "  <thead>\n",
       "    <tr style=\"text-align: right;\">\n",
       "      <th></th>\n",
       "      <th>index</th>\n",
       "      <th>choices</th>\n",
       "      <th>context</th>\n",
       "      <th>question</th>\n",
       "      <th>correct_answer</th>\n",
       "      <th>correct_answer_parsed</th>\n",
       "      <th>correct_answer_parsed_tok</th>\n",
       "      <th>correct_answer_parsed_stop</th>\n",
       "      <th>correct_answer_parsed_lemma</th>\n",
       "      <th>correct_answer_parsed_lemma_stop</th>\n",
       "      <th>...</th>\n",
       "      <th>paragraph_len</th>\n",
       "      <th>loc_frac</th>\n",
       "      <th>context_parsed</th>\n",
       "      <th>context_parsed_tok_lemma</th>\n",
       "      <th>context_parsed_tok_lemma_stop</th>\n",
       "      <th>context_parsed_tok_stop</th>\n",
       "      <th>context_parsed_tok</th>\n",
       "      <th>context_raw</th>\n",
       "      <th>context_id</th>\n",
       "      <th>relevant_sentence_ids</th>\n",
       "    </tr>\n",
       "  </thead>\n",
       "  <tbody>\n",
       "    <tr>\n",
       "      <th>0</th>\n",
       "      <td>0.0</td>\n",
       "      <td>[{'end': 224, 'extra': None, 'start': 175, 'te...</td>\n",
       "      <td>Visum för affärs- och konferensbesök\\r\\nOm du ...</td>\n",
       "      <td>Vad är ett visum?</td>\n",
       "      <td>ett tillstånd för att resa in och vara i ett land</td>\n",
       "      <td>ett tillstånd för att resa in och vara i ett land</td>\n",
       "      <td>[ett, tillstånd, för, att, resa, in, och, vara...</td>\n",
       "      <td>[tillstånd, resa, in, land]</td>\n",
       "      <td>[en, tillstånd, för, att, resa, in, och, vara,...</td>\n",
       "      <td>[tillstånd, resa, in, land]</td>\n",
       "      <td>...</td>\n",
       "      <td>21.0</td>\n",
       "      <td>0.095238</td>\n",
       "      <td>[visum för affärs- och konferensbesök, om du s...</td>\n",
       "      <td>[[visa, för, affär, och, konferensbesök], [om,...</td>\n",
       "      <td>[[visa, affär, konferensbesök], [om, skola, be...</td>\n",
       "      <td>[[visum, affärs-, konferensbesök], [om, ska, b...</td>\n",
       "      <td>[[visum, för, affärs-, och, konferensbesök], [...</td>\n",
       "      <td>[[Visum, för, affärs-, och, konferensbesök], [...</td>\n",
       "      <td>0.0</td>\n",
       "      <td>(2, 7, 1, 6, 3)</td>\n",
       "    </tr>\n",
       "    <tr>\n",
       "      <th>1</th>\n",
       "      <td>2.0</td>\n",
       "      <td>[{'end': 1165, 'extra': None, 'start': 1154, '...</td>\n",
       "      <td>Utbytesdoktorander\\r\\nIntervju\\r\\nDu kommer at...</td>\n",
       "      <td>Hur länge gäller ett uppehållstillstånd för be...</td>\n",
       "      <td>ett år</td>\n",
       "      <td>ett år</td>\n",
       "      <td>[ett, år]</td>\n",
       "      <td>[år]</td>\n",
       "      <td>[en, år]</td>\n",
       "      <td>[år]</td>\n",
       "      <td>...</td>\n",
       "      <td>25.0</td>\n",
       "      <td>0.720000</td>\n",
       "      <td>[utbytesdoktorander intervju, du kommer att få...</td>\n",
       "      <td>[[utbytesdoktorand, intervju], [du, komma, att...</td>\n",
       "      <td>[[utbytesdoktorand, intervju], [du, komma, få,...</td>\n",
       "      <td>[[utbytesdoktorander, intervju], [du, kommer, ...</td>\n",
       "      <td>[[utbytesdoktorander, intervju], [du, kommer, ...</td>\n",
       "      <td>[[Utbytesdoktorander, Intervju], [Du, kommer, ...</td>\n",
       "      <td>2.0</td>\n",
       "      <td>(18, 19, 4, 5)</td>\n",
       "    </tr>\n",
       "    <tr>\n",
       "      <th>2</th>\n",
       "      <td>3.0</td>\n",
       "      <td>[{'end': 598, 'extra': None, 'start': 589, 'te...</td>\n",
       "      <td>Eget företag\\r\\nNär vi har tagit emot din ansö...</td>\n",
       "      <td>Vad är ett uppehållstillståndskort?</td>\n",
       "      <td>ett bevis</td>\n",
       "      <td>ett bevis</td>\n",
       "      <td>[ett, bevis]</td>\n",
       "      <td>[bevis]</td>\n",
       "      <td>[en, bevis]</td>\n",
       "      <td>[bevis]</td>\n",
       "      <td>...</td>\n",
       "      <td>21.0</td>\n",
       "      <td>0.380952</td>\n",
       "      <td>[eget företag, när vi har tagit emot din ansök...</td>\n",
       "      <td>[[egen, företag], [när, vi, ha, ta, emot, du, ...</td>\n",
       "      <td>[[egen, företag], [när, ta, emot, ansökan], [o...</td>\n",
       "      <td>[[eget, företag], [när, tagit, emot, ansökan],...</td>\n",
       "      <td>[[eget, företag], [när, vi, har, tagit, emot, ...</td>\n",
       "      <td>[[Eget, företag], [När, vi, har, tagit, emot, ...</td>\n",
       "      <td>3.0</td>\n",
       "      <td>(7, 10, 8)</td>\n",
       "    </tr>\n",
       "    <tr>\n",
       "      <th>3</th>\n",
       "      <td>4.0</td>\n",
       "      <td>[{'end': 1932, 'extra': None, 'start': 1924, '...</td>\n",
       "      <td>Flytta tillbaka till Sverige\\r\\nSå ansöker du\\...</td>\n",
       "      <td>Vad är ett uppehållstillståndskort?</td>\n",
       "      <td>ett bevis</td>\n",
       "      <td>ett bevis</td>\n",
       "      <td>[ett, bevis]</td>\n",
       "      <td>[bevis]</td>\n",
       "      <td>[en, bevis]</td>\n",
       "      <td>[bevis]</td>\n",
       "      <td>...</td>\n",
       "      <td>21.0</td>\n",
       "      <td>0.380952</td>\n",
       "      <td>[flytta tillbaka till sverige, så ansöker du d...</td>\n",
       "      <td>[[flytta, tillbaka, till, sverige], [så, ansök...</td>\n",
       "      <td>[[flytta, tillbaka, sverige], [så, ansöka, du,...</td>\n",
       "      <td>[[flytta, tillbaka, sverige], [så, ansöker, du...</td>\n",
       "      <td>[[flytta, tillbaka, till, sverige], [så, ansök...</td>\n",
       "      <td>[[Flytta, tillbaka, till, Sverige], [Så, ansök...</td>\n",
       "      <td>4.0</td>\n",
       "      <td>(7, 20, 12, 10, 8)</td>\n",
       "    </tr>\n",
       "    <tr>\n",
       "      <th>4</th>\n",
       "      <td>5.0</td>\n",
       "      <td>[{'end': 1949, 'extra': None, 'start': 1939, '...</td>\n",
       "      <td>Uppehållstillstånd för medborgare i Schweiz\\r\\...</td>\n",
       "      <td>Vad är ett uppehållstillståndskort?</td>\n",
       "      <td>ett bevis</td>\n",
       "      <td>ett bevis</td>\n",
       "      <td>[ett, bevis]</td>\n",
       "      <td>[bevis]</td>\n",
       "      <td>[en, bevis]</td>\n",
       "      <td>[bevis]</td>\n",
       "      <td>...</td>\n",
       "      <td>19.0</td>\n",
       "      <td>0.842105</td>\n",
       "      <td>[uppehållstillstånd för medborgare i schweiz, ...</td>\n",
       "      <td>[[uppehållstillstånd, för, medborgare, i, schw...</td>\n",
       "      <td>[[uppehållstillstånd, medborgare, schweiz], [s...</td>\n",
       "      <td>[[uppehållstillstånd, medborgare, schweiz], [s...</td>\n",
       "      <td>[[uppehållstillstånd, för, medborgare, i, schw...</td>\n",
       "      <td>[[Uppehållstillstånd, för, medborgare, i, Schw...</td>\n",
       "      <td>5.0</td>\n",
       "      <td>(15, 18, 16)</td>\n",
       "    </tr>\n",
       "  </tbody>\n",
       "</table>\n",
       "<p>5 rows × 32 columns</p>\n",
       "</div>"
      ],
      "text/plain": [
       "   index                                            choices  \\\n",
       "0    0.0  [{'end': 224, 'extra': None, 'start': 175, 'te...   \n",
       "1    2.0  [{'end': 1165, 'extra': None, 'start': 1154, '...   \n",
       "2    3.0  [{'end': 598, 'extra': None, 'start': 589, 'te...   \n",
       "3    4.0  [{'end': 1932, 'extra': None, 'start': 1924, '...   \n",
       "4    5.0  [{'end': 1949, 'extra': None, 'start': 1939, '...   \n",
       "\n",
       "                                             context  \\\n",
       "0  Visum för affärs- och konferensbesök\\r\\nOm du ...   \n",
       "1  Utbytesdoktorander\\r\\nIntervju\\r\\nDu kommer at...   \n",
       "2  Eget företag\\r\\nNär vi har tagit emot din ansö...   \n",
       "3  Flytta tillbaka till Sverige\\r\\nSå ansöker du\\...   \n",
       "4  Uppehållstillstånd för medborgare i Schweiz\\r\\...   \n",
       "\n",
       "                                            question  \\\n",
       "0                                  Vad är ett visum?   \n",
       "1  Hur länge gäller ett uppehållstillstånd för be...   \n",
       "2                Vad är ett uppehållstillståndskort?   \n",
       "3                Vad är ett uppehållstillståndskort?   \n",
       "4                Vad är ett uppehållstillståndskort?   \n",
       "\n",
       "                                      correct_answer  \\\n",
       "0  ett tillstånd för att resa in och vara i ett land   \n",
       "1                                             ett år   \n",
       "2                                          ett bevis   \n",
       "3                                          ett bevis   \n",
       "4                                          ett bevis   \n",
       "\n",
       "                               correct_answer_parsed  \\\n",
       "0  ett tillstånd för att resa in och vara i ett land   \n",
       "1                                             ett år   \n",
       "2                                          ett bevis   \n",
       "3                                          ett bevis   \n",
       "4                                          ett bevis   \n",
       "\n",
       "                           correct_answer_parsed_tok  \\\n",
       "0  [ett, tillstånd, för, att, resa, in, och, vara...   \n",
       "1                                          [ett, år]   \n",
       "2                                       [ett, bevis]   \n",
       "3                                       [ett, bevis]   \n",
       "4                                       [ett, bevis]   \n",
       "\n",
       "    correct_answer_parsed_stop  \\\n",
       "0  [tillstånd, resa, in, land]   \n",
       "1                         [år]   \n",
       "2                      [bevis]   \n",
       "3                      [bevis]   \n",
       "4                      [bevis]   \n",
       "\n",
       "                         correct_answer_parsed_lemma  \\\n",
       "0  [en, tillstånd, för, att, resa, in, och, vara,...   \n",
       "1                                           [en, år]   \n",
       "2                                        [en, bevis]   \n",
       "3                                        [en, bevis]   \n",
       "4                                        [en, bevis]   \n",
       "\n",
       "  correct_answer_parsed_lemma_stop  ...  paragraph_len  loc_frac  \\\n",
       "0      [tillstånd, resa, in, land]  ...           21.0  0.095238   \n",
       "1                             [år]  ...           25.0  0.720000   \n",
       "2                          [bevis]  ...           21.0  0.380952   \n",
       "3                          [bevis]  ...           21.0  0.380952   \n",
       "4                          [bevis]  ...           19.0  0.842105   \n",
       "\n",
       "                                      context_parsed  \\\n",
       "0  [visum för affärs- och konferensbesök, om du s...   \n",
       "1  [utbytesdoktorander intervju, du kommer att få...   \n",
       "2  [eget företag, när vi har tagit emot din ansök...   \n",
       "3  [flytta tillbaka till sverige, så ansöker du d...   \n",
       "4  [uppehållstillstånd för medborgare i schweiz, ...   \n",
       "\n",
       "                            context_parsed_tok_lemma  \\\n",
       "0  [[visa, för, affär, och, konferensbesök], [om,...   \n",
       "1  [[utbytesdoktorand, intervju], [du, komma, att...   \n",
       "2  [[egen, företag], [när, vi, ha, ta, emot, du, ...   \n",
       "3  [[flytta, tillbaka, till, sverige], [så, ansök...   \n",
       "4  [[uppehållstillstånd, för, medborgare, i, schw...   \n",
       "\n",
       "                       context_parsed_tok_lemma_stop  \\\n",
       "0  [[visa, affär, konferensbesök], [om, skola, be...   \n",
       "1  [[utbytesdoktorand, intervju], [du, komma, få,...   \n",
       "2  [[egen, företag], [när, ta, emot, ansökan], [o...   \n",
       "3  [[flytta, tillbaka, sverige], [så, ansöka, du,...   \n",
       "4  [[uppehållstillstånd, medborgare, schweiz], [s...   \n",
       "\n",
       "                             context_parsed_tok_stop  \\\n",
       "0  [[visum, affärs-, konferensbesök], [om, ska, b...   \n",
       "1  [[utbytesdoktorander, intervju], [du, kommer, ...   \n",
       "2  [[eget, företag], [när, tagit, emot, ansökan],...   \n",
       "3  [[flytta, tillbaka, sverige], [så, ansöker, du...   \n",
       "4  [[uppehållstillstånd, medborgare, schweiz], [s...   \n",
       "\n",
       "                                  context_parsed_tok  \\\n",
       "0  [[visum, för, affärs-, och, konferensbesök], [...   \n",
       "1  [[utbytesdoktorander, intervju], [du, kommer, ...   \n",
       "2  [[eget, företag], [när, vi, har, tagit, emot, ...   \n",
       "3  [[flytta, tillbaka, till, sverige], [så, ansök...   \n",
       "4  [[uppehållstillstånd, för, medborgare, i, schw...   \n",
       "\n",
       "                                         context_raw context_id  \\\n",
       "0  [[Visum, för, affärs-, och, konferensbesök], [...        0.0   \n",
       "1  [[Utbytesdoktorander, Intervju], [Du, kommer, ...        2.0   \n",
       "2  [[Eget, företag], [När, vi, har, tagit, emot, ...        3.0   \n",
       "3  [[Flytta, tillbaka, till, Sverige], [Så, ansök...        4.0   \n",
       "4  [[Uppehållstillstånd, för, medborgare, i, Schw...        5.0   \n",
       "\n",
       "   relevant_sentence_ids  \n",
       "0        (2, 7, 1, 6, 3)  \n",
       "1         (18, 19, 4, 5)  \n",
       "2             (7, 10, 8)  \n",
       "3     (7, 20, 12, 10, 8)  \n",
       "4           (15, 18, 16)  \n",
       "\n",
       "[5 rows x 32 columns]"
      ]
     },
     "execution_count": 2,
     "metadata": {},
     "output_type": "execute_result"
    }
   ],
   "source": [
    "df_train_eval = pd.read_pickle(\"../data_frames/parsed_answer_data/df_train_cleaned.pkl\")\n",
    "df_train = pd.read_pickle(\"../create_dataset/data/labeled_data_train.pkl\")\n",
    "df_eval = pd.read_pickle(\"../create_dataset/data/labeled_data_eval.pkl\")\n",
    "df_test = pd.read_pickle(\"../data_frames/parsed_answer_data/df_test.pkl\")\n",
    "df_train.head()\n"
   ]
  },
  {
   "cell_type": "code",
   "execution_count": 46,
   "metadata": {},
   "outputs": [],
   "source": [
    "def plot_question_distribution(data):\n",
    "    # plt.hist(data.values(), density=True, bins=10, color='g')\n",
    "    min = np.min(np.array(list(data.values())))\n",
    "    max = np.max(np.array(list(data.values())))\n",
    "    print(min)\n",
    "    print(max)\n",
    "    bins = list(range(min, max+1))\n",
    "    print(bins)\n",
    "    plt.hist(data.values(), bins=bins, color='teal')\n",
    "    plt.ylabel('Number of context texts')\n",
    "    plt.xlabel('Number of Q/A pairs')\n",
    "    plt.title('Number of Q/A pairs per context text')\n",
    "    plt.show()\n",
    "\n",
    "def plot_question_coubnt_vs_length(c_count_dict, c_length_dict):\n",
    "    c_count = []\n",
    "    c_length = []\n",
    "    for key, val in c_count_dict.items():\n",
    "        c_count.append(val)\n",
    "        c_length.append(c_length_dict[key])\n",
    "    # sort the two lists in ascending\n",
    "    c_length, c_count = zip(*sorted(zip(c_length, c_count)))\n",
    "    plt.plot(c_length, c_count, color='rebeccapurple')\n",
    "    plt.xlim(0, 830)\n",
    "    plt.ylabel('Number of Q/A pairs')\n",
    "    plt.xlabel('Context text length')\n",
    "    plt.title('Context text length vs number of Q/A pairs')\n",
    "    plt.show()\n"
   ]
  },
  {
   "cell_type": "code",
   "execution_count": 47,
   "metadata": {},
   "outputs": [],
   "source": [
    "def get_answer_statistics(df):\n",
    "    answer_lengths = []\n",
    "    for index, row in df.iterrows():\n",
    "        ans = row['correct_answer_raw']\n",
    "        answer_lengths.append(len(ans))\n",
    "    return answer_lengths\n"
   ]
  },
  {
   "cell_type": "code",
   "execution_count": 48,
   "metadata": {},
   "outputs": [
    {
     "name": "stdout",
     "output_type": "stream",
     "text": [
      "Num contexts:  453\n",
      "mean context text length:  422.6534216335541\n",
      "std:  421.3775699819313\n",
      "mean answer length:  3.9880197322057787\n",
      "std:  4.029034541221186\n",
      "1\n",
      "28\n",
      "[1, 2, 3, 4, 5, 6, 7, 8, 9, 10, 11, 12, 13, 14, 15, 16, 17, 18, 19, 20, 21, 22, 23, 24, 25, 26, 27, 28]\n"
     ]
    },
    {
     "data": {
      "image/png": "[encoded data removed]",
      "text/plain": [
       "<Figure size 432x288 with 1 Axes>"
      ]
     },
     "metadata": {
      "needs_background": "light"
     },
     "output_type": "display_data"
    },
    {
     "data": {
      "image/png": "[encoded data removed]",
      "text/plain": [
       "<Figure size 432x288 with 1 Axes>"
      ]
     },
     "metadata": {
      "needs_background": "light"
     },
     "output_type": "display_data"
    }
   ],
   "source": [
    "def count_questions_per_answers(df):\n",
    "    context_count_dict = {}\n",
    "    context_length_dict = {}\n",
    "    context_text_lengths = []\n",
    "    for index, row in df.iterrows():\n",
    "        context = row['context']\n",
    "        context_parsed = row['context_raw']\n",
    "        c = list(itertools.chain.from_iterable(context_parsed))\n",
    "        if context in context_count_dict:\n",
    "            context_count_dict[context] += 1\n",
    "        else:\n",
    "            context_length_dict[context] = len(c)\n",
    "            context_count_dict[context] = 1\n",
    "            context_text_lengths.append(len(c))\n",
    "    print('Num contexts: ', len(context_count_dict))\n",
    "    return context_count_dict, context_length_dict, context_text_lengths\n",
    "\n",
    "c_count_dict, c_length_dict, context_text_lengths = count_questions_per_answers(df_train)\n",
    "print('mean context text length: ', np.mean(context_text_lengths))\n",
    "print('std: ', np.std(context_text_lengths))\n",
    "ans_lengths = get_answer_statistics(df_train)\n",
    "print('mean answer length: ', np.mean(ans_lengths))\n",
    "print('std: ', np.std(ans_lengths))\n",
    "plot_question_distribution(c_count_dict)\n",
    "plot_question_coubnt_vs_length(c_count_dict, c_length_dict)"
   ]
  },
  {
   "cell_type": "code",
   "execution_count": 49,
   "metadata": {},
   "outputs": [
    {
     "name": "stdout",
     "output_type": "stream",
     "text": [
      "Num contexts:  104\n",
      "mean context text length:  402.9326923076923\n",
      "std:  343.26319416691695\n",
      "mean answer length:  3.8857142857142857\n",
      "std:  3.4887054561308535\n"
     ]
    }
   ],
   "source": [
    "c_count_dict, c_length_dict, context_text_lengths = count_questions_per_answers(df_eval)\n",
    "print('mean context text length: ', np.mean(context_text_lengths))\n",
    "print('std: ', np.std(context_text_lengths))\n",
    "\n",
    "ans_lengths = get_answer_statistics(df_eval)\n",
    "print('mean answer length: ', np.mean(ans_lengths))\n",
    "print('std: ', np.std(ans_lengths))"
   ]
  },
  {
   "cell_type": "code",
   "execution_count": 50,
   "metadata": {},
   "outputs": [
    {
     "name": "stdout",
     "output_type": "stream",
     "text": [
      "Num contexts:  41\n",
      "mean context text length:  367.1707317073171\n",
      "std:  227.0704094563713\n",
      "mean answer length:  4.4\n",
      "std:  4.739725730461626\n"
     ]
    }
   ],
   "source": [
    "c_count_dict, c_length_dict, context_text_lengths = count_questions_per_answers(df_test)\n",
    "print('mean context text length: ', np.mean(context_text_lengths))\n",
    "print('std: ', np.std(context_text_lengths))\n",
    "\n",
    "ans_lengths = get_answer_statistics(df_test)\n",
    "print('mean answer length: ', np.mean(ans_lengths))\n",
    "print('std: ', np.std(ans_lengths))"
   ]
  },
  {
   "cell_type": "code",
   "execution_count": 51,
   "metadata": {},
   "outputs": [
    {
     "name": "stdout",
     "output_type": "stream",
     "text": [
      "Num contexts:  557\n",
      "mean context text length:  418.97127468581687\n",
      "std:  408.00215514179587\n",
      "mean answer length:  3.9968334388853703\n",
      "std:  3.992153812520385\n",
      "1\n",
      "28\n",
      "[1, 2, 3, 4, 5, 6, 7, 8, 9, 10, 11, 12, 13, 14, 15, 16, 17, 18, 19, 20, 21, 22, 23, 24, 25, 26, 27, 28]\n"
     ]
    },
    {
     "data": {
      "image/png": "[encoded data removed]",
      "text/plain": [
       "<Figure size 432x288 with 1 Axes>"
      ]
     },
     "metadata": {
      "needs_background": "light"
     },
     "output_type": "display_data"
    },
    {
     "data": {
      "image/png": "[encoded data removed]",
      "text/plain": [
       "<Figure size 432x288 with 1 Axes>"
      ]
     },
     "metadata": {
      "needs_background": "light"
     },
     "output_type": "display_data"
    }
   ],
   "source": [
    "dict, l_dict, lengths = count_questions_per_answers(df_train_eval)\n",
    "print('mean context text length: ', np.mean(lengths))\n",
    "print('std: ', np.std(lengths))\n",
    "ans_lengths = get_answer_statistics(df_train_eval)\n",
    "print('mean answer length: ', np.mean(ans_lengths))\n",
    "print('std: ', np.std(ans_lengths))\n",
    "plot_question_distribution(dict)\n",
    "plot_question_coubnt_vs_length(dict, l_dict)"
   ]
  },
  {
   "cell_type": "code",
   "execution_count": null,
   "metadata": {},
   "outputs": [],
   "source": []
  }
 ],
 "metadata": {
  "interpreter": {
   "hash": "de4ab37d9aa598fa28430b4c5abb54602406a240d03eddec7af88b85de3986f7"
  },
  "kernelspec": {
   "display_name": "Python 3.7.11 64-bit ('dp': conda)",
   "language": "python",
   "name": "python3"
  },
  "language_info": {
   "codemirror_mode": {
    "name": "ipython",
    "version": 3
   },
   "file_extension": ".py",
   "mimetype": "text/x-python",
   "name": "python",
   "nbconvert_exporter": "python",
   "pygments_lexer": "ipython3",
   "version": "3.7.11"
  },
  "orig_nbformat": 4
 },
 "nbformat": 4,
 "nbformat_minor": 2
}
