{
 "cells": [
  {
   "cell_type": "markdown",
   "metadata": {},
   "source": [
    "# Data collection and statistics for relevant sentences\n",
    "We want the final answer extractor to output answers and a set of sentences from the context that are relevant for the given question/answer pair. Thus, in the training data we want both the correct answer (which we have) and the set of sentences that are relevant for the answer. This notebook does two things:\n",
    "1. For the given dataset, for each text-object it extracts the sentences that are relevant for the question/answer pair\n",
    "    1. A sentence is deemed relevant if there is word overlap between the sentence and the answer/question.\n",
    "    1. Possible to do some simpler inference here, to deem other sentences relevant (at a later stage)\n",
    "1. Provide some statistics and categorization of the data, based on how many sentences are relevant to the quetion/answer"
   ]
  },
  {
   "cell_type": "code",
   "execution_count": 119,
   "metadata": {},
   "outputs": [],
   "source": [
    "# Load necessary libraries\n",
    "import pandas as pd\n",
    "import matplotlib.pyplot as plt\n",
    "import numpy as np\n",
    "import re\n",
    "from nltk.corpus import stopwords"
   ]
  },
  {
   "cell_type": "code",
   "execution_count": 131,
   "metadata": {},
   "outputs": [
    {
     "data": {
      "text/html": [
       "<div>\n",
       "<style scoped>\n",
       "    .dataframe tbody tr th:only-of-type {\n",
       "        vertical-align: middle;\n",
       "    }\n",
       "\n",
       "    .dataframe tbody tr th {\n",
       "        vertical-align: top;\n",
       "    }\n",
       "\n",
       "    .dataframe thead th {\n",
       "        text-align: right;\n",
       "    }\n",
       "</style>\n",
       "<table border=\"1\" class=\"dataframe\">\n",
       "  <thead>\n",
       "    <tr style=\"text-align: right;\">\n",
       "      <th></th>\n",
       "      <th>answer</th>\n",
       "      <th>answer_lemmas</th>\n",
       "      <th>answer_stop_lemmas</th>\n",
       "      <th>answer_words</th>\n",
       "      <th>answer_stop_words</th>\n",
       "      <th>answer_pos</th>\n",
       "      <th>answer_deprel</th>\n",
       "      <th>answer_root</th>\n",
       "      <th>answer_root_pos</th>\n",
       "      <th>sent_with_ans</th>\n",
       "      <th>...</th>\n",
       "      <th>word_stop_ans_wordcount</th>\n",
       "      <th>word_stop_q_wordcount</th>\n",
       "      <th>lemma_overlap_count</th>\n",
       "      <th>lemma_overlap_words</th>\n",
       "      <th>lemma_ans_wordcount</th>\n",
       "      <th>lemma_q_wordcount</th>\n",
       "      <th>lemma_stop_overlap_count</th>\n",
       "      <th>lemma_stop_overlap_words</th>\n",
       "      <th>lemma_stop_ans_wordcount</th>\n",
       "      <th>lemma_stop_q_wordcount</th>\n",
       "    </tr>\n",
       "  </thead>\n",
       "  <tbody>\n",
       "    <tr>\n",
       "      <th>0</th>\n",
       "      <td>ett tillstånd för att resa in och vara i ett land</td>\n",
       "      <td>[en, tillstånd, för, att, resa, in, och, vara,...</td>\n",
       "      <td>[tillstånd, resa, in, land]</td>\n",
       "      <td>[ett, tillstånd, för, att, resa, in, och, vara...</td>\n",
       "      <td>[tillstånd, resa, in, land]</td>\n",
       "      <td>[DET, NOUN, ADP, PART, VERB, ADV, CCONJ, AUX, ...</td>\n",
       "      <td>[det, root, mark, mark, advcl, compound:prt, c...</td>\n",
       "      <td>tillstånd</td>\n",
       "      <td>NOUN</td>\n",
       "      <td>visum är ett tillstånd för att resa in och var...</td>\n",
       "      <td>...</td>\n",
       "      <td>7</td>\n",
       "      <td>1</td>\n",
       "      <td>3</td>\n",
       "      <td>[visum, vara, en]</td>\n",
       "      <td>14</td>\n",
       "      <td>4</td>\n",
       "      <td>1</td>\n",
       "      <td>[visum]</td>\n",
       "      <td>7</td>\n",
       "      <td>1</td>\n",
       "    </tr>\n",
       "    <tr>\n",
       "      <th>1</th>\n",
       "      <td>ditt pass</td>\n",
       "      <td>[du, pass]</td>\n",
       "      <td>[pass]</td>\n",
       "      <td>[ditt, pass]</td>\n",
       "      <td>[pass]</td>\n",
       "      <td>[PRON, NOUN]</td>\n",
       "      <td>[nmod:poss, root]</td>\n",
       "      <td>pass</td>\n",
       "      <td>NOUN</td>\n",
       "      <td>när du ska hämta ditt beslut ska du ta med dit...</td>\n",
       "      <td>...</td>\n",
       "      <td>5</td>\n",
       "      <td>4</td>\n",
       "      <td>7</td>\n",
       "      <td>[när, du, skola, hämta, beslut, ta, med]</td>\n",
       "      <td>8</td>\n",
       "      <td>8</td>\n",
       "      <td>4</td>\n",
       "      <td>[skola, hämta, beslut, ta]</td>\n",
       "      <td>5</td>\n",
       "      <td>4</td>\n",
       "    </tr>\n",
       "    <tr>\n",
       "      <th>2</th>\n",
       "      <td>ett år</td>\n",
       "      <td>[en, år]</td>\n",
       "      <td>[år]</td>\n",
       "      <td>[ett, år]</td>\n",
       "      <td>[år]</td>\n",
       "      <td>[DET, NOUN]</td>\n",
       "      <td>[det, root]</td>\n",
       "      <td>år</td>\n",
       "      <td>NOUN</td>\n",
       "      <td>så länge gäller tillståndet ett uppehållstills...</td>\n",
       "      <td>...</td>\n",
       "      <td>12</td>\n",
       "      <td>5</td>\n",
       "      <td>7</td>\n",
       "      <td>[länge, gälla, en, uppehållstillstånd, för, be...</td>\n",
       "      <td>18</td>\n",
       "      <td>8</td>\n",
       "      <td>4</td>\n",
       "      <td>[länge, gälla, uppehållstillstånd, besök]</td>\n",
       "      <td>11</td>\n",
       "      <td>4</td>\n",
       "    </tr>\n",
       "    <tr>\n",
       "      <th>3</th>\n",
       "      <td>ett bevis</td>\n",
       "      <td>[en, bevis]</td>\n",
       "      <td>[bevis]</td>\n",
       "      <td>[ett, bevis]</td>\n",
       "      <td>[bevis]</td>\n",
       "      <td>[DET, NOUN]</td>\n",
       "      <td>[det, root]</td>\n",
       "      <td>bevis</td>\n",
       "      <td>NOUN</td>\n",
       "      <td>kortet är ett bevis på att du har tillstånd at...</td>\n",
       "      <td>...</td>\n",
       "      <td>9</td>\n",
       "      <td>1</td>\n",
       "      <td>2</td>\n",
       "      <td>[vara, en]</td>\n",
       "      <td>17</td>\n",
       "      <td>4</td>\n",
       "      <td>0</td>\n",
       "      <td>[]</td>\n",
       "      <td>9</td>\n",
       "      <td>1</td>\n",
       "    </tr>\n",
       "    <tr>\n",
       "      <th>4</th>\n",
       "      <td>ett bevis</td>\n",
       "      <td>[en, bevis]</td>\n",
       "      <td>[bevis]</td>\n",
       "      <td>[ett, bevis]</td>\n",
       "      <td>[bevis]</td>\n",
       "      <td>[DET, NOUN]</td>\n",
       "      <td>[det, root]</td>\n",
       "      <td>bevis</td>\n",
       "      <td>NOUN</td>\n",
       "      <td>kortet är ett bevis på att du har tillstånd at...</td>\n",
       "      <td>...</td>\n",
       "      <td>9</td>\n",
       "      <td>1</td>\n",
       "      <td>2</td>\n",
       "      <td>[vara, en]</td>\n",
       "      <td>17</td>\n",
       "      <td>4</td>\n",
       "      <td>0</td>\n",
       "      <td>[]</td>\n",
       "      <td>9</td>\n",
       "      <td>1</td>\n",
       "    </tr>\n",
       "  </tbody>\n",
       "</table>\n",
       "<p>5 rows × 46 columns</p>\n",
       "</div>"
      ],
      "text/plain": [
       "                                              answer  \\\n",
       "0  ett tillstånd för att resa in och vara i ett land   \n",
       "1                                          ditt pass   \n",
       "2                                             ett år   \n",
       "3                                          ett bevis   \n",
       "4                                          ett bevis   \n",
       "\n",
       "                                       answer_lemmas  \\\n",
       "0  [en, tillstånd, för, att, resa, in, och, vara,...   \n",
       "1                                         [du, pass]   \n",
       "2                                           [en, år]   \n",
       "3                                        [en, bevis]   \n",
       "4                                        [en, bevis]   \n",
       "\n",
       "            answer_stop_lemmas  \\\n",
       "0  [tillstånd, resa, in, land]   \n",
       "1                       [pass]   \n",
       "2                         [år]   \n",
       "3                      [bevis]   \n",
       "4                      [bevis]   \n",
       "\n",
       "                                        answer_words  \\\n",
       "0  [ett, tillstånd, för, att, resa, in, och, vara...   \n",
       "1                                       [ditt, pass]   \n",
       "2                                          [ett, år]   \n",
       "3                                       [ett, bevis]   \n",
       "4                                       [ett, bevis]   \n",
       "\n",
       "             answer_stop_words  \\\n",
       "0  [tillstånd, resa, in, land]   \n",
       "1                       [pass]   \n",
       "2                         [år]   \n",
       "3                      [bevis]   \n",
       "4                      [bevis]   \n",
       "\n",
       "                                          answer_pos  \\\n",
       "0  [DET, NOUN, ADP, PART, VERB, ADV, CCONJ, AUX, ...   \n",
       "1                                       [PRON, NOUN]   \n",
       "2                                        [DET, NOUN]   \n",
       "3                                        [DET, NOUN]   \n",
       "4                                        [DET, NOUN]   \n",
       "\n",
       "                                       answer_deprel answer_root  \\\n",
       "0  [det, root, mark, mark, advcl, compound:prt, c...   tillstånd   \n",
       "1                                  [nmod:poss, root]        pass   \n",
       "2                                        [det, root]          år   \n",
       "3                                        [det, root]       bevis   \n",
       "4                                        [det, root]       bevis   \n",
       "\n",
       "  answer_root_pos                                      sent_with_ans  ...  \\\n",
       "0            NOUN  visum är ett tillstånd för att resa in och var...  ...   \n",
       "1            NOUN  när du ska hämta ditt beslut ska du ta med dit...  ...   \n",
       "2            NOUN  så länge gäller tillståndet ett uppehållstills...  ...   \n",
       "3            NOUN  kortet är ett bevis på att du har tillstånd at...  ...   \n",
       "4            NOUN  kortet är ett bevis på att du har tillstånd at...  ...   \n",
       "\n",
       "  word_stop_ans_wordcount word_stop_q_wordcount lemma_overlap_count  \\\n",
       "0                       7                     1                   3   \n",
       "1                       5                     4                   7   \n",
       "2                      12                     5                   7   \n",
       "3                       9                     1                   2   \n",
       "4                       9                     1                   2   \n",
       "\n",
       "                                 lemma_overlap_words lemma_ans_wordcount  \\\n",
       "0                                  [visum, vara, en]                  14   \n",
       "1           [när, du, skola, hämta, beslut, ta, med]                   8   \n",
       "2  [länge, gälla, en, uppehållstillstånd, för, be...                  18   \n",
       "3                                         [vara, en]                  17   \n",
       "4                                         [vara, en]                  17   \n",
       "\n",
       "  lemma_q_wordcount lemma_stop_overlap_count  \\\n",
       "0                 4                        1   \n",
       "1                 8                        4   \n",
       "2                 8                        4   \n",
       "3                 4                        0   \n",
       "4                 4                        0   \n",
       "\n",
       "                    lemma_stop_overlap_words lemma_stop_ans_wordcount  \\\n",
       "0                                    [visum]                        7   \n",
       "1                 [skola, hämta, beslut, ta]                        5   \n",
       "2  [länge, gälla, uppehållstillstånd, besök]                       11   \n",
       "3                                         []                        9   \n",
       "4                                         []                        9   \n",
       "\n",
       "  lemma_stop_q_wordcount  \n",
       "0                      1  \n",
       "1                      4  \n",
       "2                      4  \n",
       "3                      1  \n",
       "4                      1  \n",
       "\n",
       "[5 rows x 46 columns]"
      ]
     },
     "execution_count": 131,
     "metadata": {},
     "output_type": "execute_result"
    }
   ],
   "source": [
    "df_train = pd.read_pickle(\"./data_frames/df_train.pkl\")\n",
    "df_dp_overlap_train = pd.read_pickle(\"./data_frames/dependency_parsing/df_dp_overlap_train.pkl\")\n",
    "df_dp_overlap_train.head()"
   ]
  },
  {
   "cell_type": "code",
   "execution_count": 132,
   "metadata": {},
   "outputs": [],
   "source": [
    "def find_missing_words(overlap_words, q_words):\n",
    "    missing_words = []\n",
    "    for q_w in q_words:\n",
    "        if not q_w in overlap_words:\n",
    "            missing_words.append(q_w)\n",
    "    return missing_words\n",
    "        \n",
    "\n",
    "def check_overlap_class(overlap_words, q_words, s_words):\n",
    "    # TODO: check that overlap words are the same as s_words!\n",
    "    overlap = 0\n",
    "    missing_words = []\n",
    "    for word in q_words:\n",
    "        if word in s_words:\n",
    "            overlap += 1\n",
    "        else:\n",
    "           missing_words.append(word) \n",
    "    \n",
    "    if overlap == len(q_words):\n",
    "        return 1, []\n",
    "    else:\n",
    "        return 3, missing_words\n",
    "    "
   ]
  },
  {
   "cell_type": "code",
   "execution_count": 133,
   "metadata": {},
   "outputs": [],
   "source": [
    "# get matching sentences\n",
    "def get_matching_sentences(data):\n",
    "    matching_sentences = []\n",
    "    matching_original_sentences = []\n",
    "    for value in data.values():\n",
    "       matching_sentences.append(' '.join(value['sentence_words'])) \n",
    "       matching_original_sentences.append(' '.join(value['original_sent_words'])) \n",
    "    return matching_sentences, matching_original_sentences"
   ]
  },
  {
   "cell_type": "code",
   "execution_count": 134,
   "metadata": {},
   "outputs": [],
   "source": [
    "# in the df_dp_train the columns q_words and sent_words holds the lemmatized words of the question and answer sentence.\n",
    "# df_train['context_parsed_tok_lemma'] holds the tokenized, lemmatized contexts\n",
    "\n",
    "def collect_relevant_sentences(df, df_dp, remove_stopwords=True, use_lemmas=False):\n",
    "    all_relevant_sentences = []\n",
    "    all_relevant_sentence_idxs = []\n",
    "    for index, row in df_dp.iterrows():\n",
    "        a_loc = df.iloc[index]['answer_location']\n",
    "        # given parameters, get the column names from which to get the data\n",
    "        df_dp_col = ''\n",
    "        df_col = ''\n",
    "        df_overlap_col = ''\n",
    "        if remove_stopwords:\n",
    "            df_dp_col = 'stop_'\n",
    "            df_col = '_stop'\n",
    "            df_overlap_col = '_stop'\n",
    "        if use_lemmas:\n",
    "            df_col = '_lemma'+df_col\n",
    "            df_overlap_col = 'lemma'+df_overlap_col\n",
    "            df_dp_col += 'lemmas'\n",
    "        else:\n",
    "            df_dp_col += 'words'\n",
    "            df_overlap_col = 'word'+df_overlap_col\n",
    "\n",
    "        q_w = row['q_'+df_dp_col]\n",
    "        a_w = row['sent_'+df_dp_col]\n",
    "        c_w = df.iloc[index]['context_parsed_tok'+df_col]\n",
    "        # get the original sentences for answer and context\n",
    "        q_original = row['q_words']\n",
    "        a_original = row['sent_words']\n",
    "        c_original = df.iloc[index]['context_parsed_tok']\n",
    "\n",
    "        # remove duplicate words\n",
    "        q_w = list(dict.fromkeys(q_w))\n",
    "        a_w = list(dict.fromkeys(a_w))\n",
    "        c_w = [ list(dict.fromkeys(w)) for w in c_w ]\n",
    "\n",
    "        relevant_sentences = {}\n",
    "        overlap_class, missing_words_sent = check_overlap_class(c_w[a_loc], q_w, a_w)\n",
    "        # always add the sentence where the answer is to the relevant sentences\n",
    "        relevant_sentences[a_loc] = {'original_sent_words': a_original, 'sentence_words': a_w, 'overlap_words': row[df_overlap_col+'_overlap_words'], 'overlap_count': row[df_overlap_col+'_overlap_count']}\n",
    "\n",
    "        words_in_context = set()\n",
    "        for c_idx, c_sent in enumerate(c_w):\n",
    "            for word in q_w:\n",
    "                if word in c_sent:\n",
    "                    words_in_context.add(word)\n",
    "                    if c_idx != a_loc and c_idx in relevant_sentences:\n",
    "                        # this sentence has already been detected to include overlapping words!\n",
    "                        if not word in relevant_sentences[c_idx]['overlap_words']:\n",
    "                            relevant_sentences[c_idx]['overlap_words'].append(word)\n",
    "                            relevant_sentences[c_idx]['overlap_count'] += 1\n",
    "                    elif c_idx != a_loc:\n",
    "                        relevant_sentences[c_idx] = {'original_sent_words': c_original[c_idx], 'sentence_words': c_sent, 'overlap_words': [word], 'overlap_count': 1}\n",
    "        \n",
    "        missing_words_context = []\n",
    "        if overlap_class == 3:\n",
    "            overlap_words = list(words_in_context)\n",
    "            if len(overlap_words) == len(q_w):\n",
    "                overlap_class = 2\n",
    "            else:\n",
    "                missing_words_context = find_missing_words(overlap_words, q_w)\n",
    "        matching_sentences, matching_original_sentences = get_matching_sentences(relevant_sentences)  \n",
    "        all_relevant_sentences.append({\n",
    "            'context_'+df_dp_col: c_w, 'sent_'+df_dp_col: a_w, 'sent_original': a_original, 'q_'+df_dp_col: q_w, 'q_original': q_original, 'overlap_class': overlap_class,\n",
    "            'num_overlap_sentences': len(relevant_sentences), 'missing_words_sent': missing_words_sent,\n",
    "            'missing_words_context': missing_words_context, 'matching_sentence_ids': relevant_sentences.keys(), 'matching_sentences': matching_sentences, 'matching_original_sentences': matching_original_sentences, 'data': relevant_sentences\n",
    "            })\n",
    "        all_relevant_sentence_idxs.append(relevant_sentences.keys())\n",
    "    return all_relevant_sentences, all_relevant_sentence_idxs\n",
    "\n",
    "\n"
   ]
  },
  {
   "cell_type": "code",
   "execution_count": 135,
   "metadata": {},
   "outputs": [],
   "source": [
    "def plot_question_type_stats(values, title):\n",
    "    values.sort()\n",
    "    values_str = [str(val) for val in values]\n",
    "    plt.hist(values_str)\n",
    "    plt.title(title)\n",
    "    plt.show()\n",
    "\n",
    "def plot_question_type_stats_num(values, title):\n",
    "    plt.hist(values)\n",
    "    plt.title(title)\n",
    "    plt.show()\n"
   ]
  },
  {
   "cell_type": "code",
   "execution_count": 136,
   "metadata": {},
   "outputs": [
    {
     "data": {
      "image/png": "[encoded data removed]",
      "text/plain": [
       "<Figure size 432x288 with 1 Axes>"
      ]
     },
     "metadata": {
      "needs_background": "light"
     },
     "output_type": "display_data"
    }
   ],
   "source": [
    "# word overlap with stopwords removed\n",
    "all_relevant_sentences_word_stop, all_relevant_sentence_idxs = collect_relevant_sentences(df_train, df_dp_overlap_train)\n",
    "df_word_stop = pd.DataFrame(all_relevant_sentences_word_stop)\n",
    "\n",
    "plot_question_type_stats(df_word_stop['overlap_class'].values, 'Question distribution for word overlap, stopwords removed')"
   ]
  },
  {
   "cell_type": "code",
   "execution_count": 141,
   "metadata": {},
   "outputs": [
    {
     "data": {
      "image/png": "[encoded data removed]",
      "text/plain": [
       "<Figure size 432x288 with 1 Axes>"
      ]
     },
     "metadata": {
      "needs_background": "light"
     },
     "output_type": "display_data"
    }
   ],
   "source": [
    "# word overlap with stopwords removed\n",
    "all_relevant_sentences_word, all_relevant_sentence_idxs = collect_relevant_sentences(df_train, df_dp_overlap_train, False, False)\n",
    "df_word = pd.DataFrame(all_relevant_sentences_word)\n",
    "\n",
    "plot_question_type_stats(df_word['overlap_class'].values, 'Question distribution for word overlap')"
   ]
  },
  {
   "cell_type": "code",
   "execution_count": 152,
   "metadata": {},
   "outputs": [
    {
     "data": {
      "image/png": "[encoded data removed]",
      "text/plain": [
       "<Figure size 432x288 with 1 Axes>"
      ]
     },
     "metadata": {
      "needs_background": "light"
     },
     "output_type": "display_data"
    },
    {
     "data": {
      "image/png": "[encoded data removed]",
      "text/plain": [
       "<Figure size 432x288 with 1 Axes>"
      ]
     },
     "metadata": {
      "needs_background": "light"
     },
     "output_type": "display_data"
    },
    {
     "data": {
      "image/png": "[encoded data removed]",
      "text/plain": [
       "<Figure size 432x288 with 1 Axes>"
      ]
     },
     "metadata": {
      "needs_background": "light"
     },
     "output_type": "display_data"
    },
    {
     "data": {
      "image/png": "[encoded data removed]",
      "text/plain": [
       "<Figure size 432x288 with 1 Axes>"
      ]
     },
     "metadata": {
      "needs_background": "light"
     },
     "output_type": "display_data"
    }
   ],
   "source": [
    "# lemma overlap with stopwords removed\n",
    "all_relevant_sentences_lemma_stop, all_relevant_sentence_idxs = collect_relevant_sentences(df_train, df_dp_overlap_train, True, True)\n",
    "df_lemma_stop = pd.DataFrame(all_relevant_sentences_lemma_stop)\n",
    "\n",
    "df_lemma_stop_class_1 = df_lemma_stop.loc[df_lemma_stop['overlap_class'] == 1]\n",
    "df_lemma_stop_class_2 = df_lemma_stop.loc[df_lemma_stop['overlap_class'] == 2]\n",
    "df_lemma_stop_class_3 = df_lemma_stop.loc[df_lemma_stop['overlap_class'] == 3]\n",
    "# df_missing = df_lemma_stop.loc[df_lemma_stop['missing_words_context'] == 0]\n",
    "\n",
    "plot_question_type_stats(df_lemma_stop['overlap_class'].values, 'Question distribution for lemma overlap, stopwords removed')\n",
    "\n",
    "# plot the number of relevant sentences for each of the question types\n",
    "plot_question_type_stats_num(df_lemma_stop_class_1['num_overlap_sentences'].values, 'Number of relevant sentences for question type 1')\n",
    "plot_question_type_stats_num(df_lemma_stop_class_2['num_overlap_sentences'].values, 'Number of relevant sentences for question type 2')\n",
    "plot_question_type_stats_num(df_lemma_stop_class_3['num_overlap_sentences'].values, 'Number of relevant sentences for question type 3')\n"
   ]
  },
  {
   "cell_type": "code",
   "execution_count": 139,
   "metadata": {},
   "outputs": [
    {
     "data": {
      "image/png": "[encoded data removed]",
      "text/plain": [
       "<Figure size 432x288 with 1 Axes>"
      ]
     },
     "metadata": {
      "needs_background": "light"
     },
     "output_type": "display_data"
    }
   ],
   "source": [
    "# lemma overlap with stopwords removed\n",
    "all_relevant_sentences_lemma, all_relevant_sentence_idxs = collect_relevant_sentences(df_train, df_dp_overlap_train, False, True)\n",
    "df_lemma = pd.DataFrame(all_relevant_sentences_lemma)\n",
    "\n",
    "# df_class_1 = df_lemma.loc[df_lemma['overlap_class'] == 1]\n",
    "# df_class_2 = df_lemma.loc[df_lemma['overlap_class'] == 2]\n",
    "# df_class_3 = df_lemma.loc[df_lemma['overlap_class'] == 3]\n",
    "\n",
    "plot_question_type_stats(df_lemma['overlap_class'].values, 'Question distribution for lemma overlap')"
   ]
  },
  {
   "cell_type": "code",
   "execution_count": 146,
   "metadata": {},
   "outputs": [],
   "source": [
    "# print some examples from each of the data classes:\n",
    "def save_sentence_statistics(filename, df, type, title):\n",
    "    with open(filename, 'w') as out:\n",
    "        out.write(title+ '\\n')\n",
    "        for index, row in df.iterrows():\n",
    "            out.write('-------------------'+ '\\n')\n",
    "            out.write('question, parsed: ' + ' '.join(row['q_'+type]) + '\\n')\n",
    "            out.write('question, original: ' + ' '.join(row['q_original']) + '\\n')\n",
    "            out.write('missing words context: ' + ' '.join(row['missing_words_context']) + '\\n')\n",
    "            out.write('sentence with answer, parsed: ' + ' '.join(row['sent_'+type]) + '\\n')\n",
    "            out.write('sentence with answer, original: ' + ' '.join(row['sent_original']) + '\\n')\n",
    "            out.write('overlap class: ' + str(row['overlap_class']) + '\\n')\n",
    "            relevant_sentences = row['matching_original_sentences']\n",
    "            out.write('matching sentences, original: \\n')\n",
    "            for sent in relevant_sentences:\n",
    "                out.write(sent + '\\n')"
   ]
  },
  {
   "cell_type": "code",
   "execution_count": 151,
   "metadata": {},
   "outputs": [],
   "source": [
    "save_sentence_statistics('figures/relevant_sentences/relevant-sentences-lemma-stop.txt', df_lemma_stop_class_3, 'stop_lemmas', 'Relevant sentences for questions in dataset. Statistics for lemma with stopwords removed.')"
   ]
  },
  {
   "cell_type": "code",
   "execution_count": 148,
   "metadata": {},
   "outputs": [],
   "source": [
    "save_sentence_statistics('figures/relevant_sentences/relevant-sentences-word-stop.txt', df_word_stop, 'stop_words', 'Relevant sentences for questions in dataset. Statistics for words with stopwords removed.')"
   ]
  },
  {
   "cell_type": "code",
   "execution_count": null,
   "metadata": {},
   "outputs": [],
   "source": []
  }
 ],
 "metadata": {
  "interpreter": {
   "hash": "de4ab37d9aa598fa28430b4c5abb54602406a240d03eddec7af88b85de3986f7"
  },
  "kernelspec": {
   "display_name": "Python 3.7.11 64-bit ('dp': conda)",
   "language": "python",
   "name": "python3"
  },
  "language_info": {
   "codemirror_mode": {
    "name": "ipython",
    "version": 3
   },
   "file_extension": ".py",
   "mimetype": "text/x-python",
   "name": "python",
   "nbconvert_exporter": "python",
   "pygments_lexer": "ipython3",
   "version": "3.7.11"
  },
  "orig_nbformat": 4
 },
 "nbformat": 4,
 "nbformat_minor": 2
}
