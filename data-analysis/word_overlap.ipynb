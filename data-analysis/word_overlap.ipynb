{
 "cells": [
  {
   "cell_type": "code",
   "execution_count": 110,
   "metadata": {},
   "outputs": [],
   "source": [
    "# Load necessary libraries\n",
    "import pandas as pd\n",
    "import matplotlib.pyplot as plt\n",
    "import numpy as np\n",
    "import re\n",
    "from nltk.tokenize import word_tokenize\n",
    "from nltk.corpus import stopwords"
   ]
  },
  {
   "cell_type": "code",
   "execution_count": 128,
   "metadata": {},
   "outputs": [
    {
     "data": {
      "text/html": [
       "<div>\n",
       "<style scoped>\n",
       "    .dataframe tbody tr th:only-of-type {\n",
       "        vertical-align: middle;\n",
       "    }\n",
       "\n",
       "    .dataframe tbody tr th {\n",
       "        vertical-align: top;\n",
       "    }\n",
       "\n",
       "    .dataframe thead th {\n",
       "        text-align: right;\n",
       "    }\n",
       "</style>\n",
       "<table border=\"1\" class=\"dataframe\">\n",
       "  <thead>\n",
       "    <tr style=\"text-align: right;\">\n",
       "      <th></th>\n",
       "      <th>answer</th>\n",
       "      <th>answer_words</th>\n",
       "      <th>answer_pos</th>\n",
       "      <th>answer_deprel</th>\n",
       "      <th>answer_root</th>\n",
       "      <th>answer_root_pos</th>\n",
       "      <th>sent_with_ans</th>\n",
       "      <th>sent_words</th>\n",
       "      <th>sent_pos</th>\n",
       "      <th>sent_deprel</th>\n",
       "      <th>sent_root</th>\n",
       "      <th>sent_root_pos</th>\n",
       "      <th>question</th>\n",
       "      <th>q_words</th>\n",
       "      <th>q_pos</th>\n",
       "      <th>q_deprel</th>\n",
       "      <th>q_root</th>\n",
       "      <th>q_root_pos</th>\n",
       "      <th>answer_root_word</th>\n",
       "      <th>sent_root_word</th>\n",
       "      <th>q_root_word</th>\n",
       "    </tr>\n",
       "  </thead>\n",
       "  <tbody>\n",
       "    <tr>\n",
       "      <th>0</th>\n",
       "      <td>ett tillstånd för att resa in och vara i ett land</td>\n",
       "      <td>[en, tillstånd, för, att, resa, in, och, vara,...</td>\n",
       "      <td>[DET, NOUN, ADP, PART, VERB, ADV, CCONJ, AUX, ...</td>\n",
       "      <td>[det, root, mark, mark, advcl, compound:prt, c...</td>\n",
       "      <td>tillstånd</td>\n",
       "      <td>NOUN</td>\n",
       "      <td>visum är ett tillstånd för att resa in och var...</td>\n",
       "      <td>[visum, vara, en, tillstånd, för, att, resa, i...</td>\n",
       "      <td>[NOUN, AUX, DET, NOUN, ADP, PART, VERB, ADV, C...</td>\n",
       "      <td>[nsubj, cop, det, root, mark, mark, advcl, com...</td>\n",
       "      <td>tillstånd</td>\n",
       "      <td>NOUN</td>\n",
       "      <td>vad är ett visum</td>\n",
       "      <td>[vad, vara, en, visum]</td>\n",
       "      <td>[PRON, AUX, DET, NOUN]</td>\n",
       "      <td>[root, cop, det, nsubj]</td>\n",
       "      <td>vad</td>\n",
       "      <td>PRON</td>\n",
       "      <td>tillstånd</td>\n",
       "      <td>tillstånd</td>\n",
       "      <td>vad</td>\n",
       "    </tr>\n",
       "    <tr>\n",
       "      <th>1</th>\n",
       "      <td>ditt pass</td>\n",
       "      <td>[du, pass]</td>\n",
       "      <td>[PRON, NOUN]</td>\n",
       "      <td>[nmod:poss, root]</td>\n",
       "      <td>pass</td>\n",
       "      <td>NOUN</td>\n",
       "      <td>när du ska hämta ditt beslut ska du ta med dit...</td>\n",
       "      <td>[när, du, skola, hämta, du, beslut, skola, du,...</td>\n",
       "      <td>[SCONJ, PRON, AUX, VERB, PRON, NOUN, AUX, PRON...</td>\n",
       "      <td>[mark, nsubj, aux, advcl, nmod:poss, obj, aux,...</td>\n",
       "      <td>ta</td>\n",
       "      <td>VERB</td>\n",
       "      <td>vad ska du ta med när du hämtar ditt beslut</td>\n",
       "      <td>[vad, skola, du, ta, med, när, du, hämta, du, ...</td>\n",
       "      <td>[PRON, AUX, PRON, VERB, ADP, SCONJ, PRON, VERB...</td>\n",
       "      <td>[obj, aux, nsubj, root, compound:prt, mark, ns...</td>\n",
       "      <td>ta</td>\n",
       "      <td>VERB</td>\n",
       "      <td>pass</td>\n",
       "      <td>ta</td>\n",
       "      <td>ta</td>\n",
       "    </tr>\n",
       "    <tr>\n",
       "      <th>2</th>\n",
       "      <td>ett år</td>\n",
       "      <td>[en, år]</td>\n",
       "      <td>[DET, NOUN]</td>\n",
       "      <td>[det, root]</td>\n",
       "      <td>år</td>\n",
       "      <td>NOUN</td>\n",
       "      <td>ett uppehållstillstånd för besök gäller som lä...</td>\n",
       "      <td>[en, uppehållstillstånd, för, besök, gälla, so...</td>\n",
       "      <td>[DET, NOUN, ADP, NOUN, VERB, SCONJ, ADV, ADV, ...</td>\n",
       "      <td>[det, nsubj, case, nmod, root, advmod, advmod,...</td>\n",
       "      <td>gälla</td>\n",
       "      <td>VERB</td>\n",
       "      <td>hur länge gäller ett uppehållstillstånd för be...</td>\n",
       "      <td>[hur, länge, gälla, en, uppehållstillstånd, fö...</td>\n",
       "      <td>[ADV, ADV, VERB, DET, NOUN, ADP, NOUN, CCONJ, ...</td>\n",
       "      <td>[advmod, advmod, root, det, nsubj, case, nmod,...</td>\n",
       "      <td>gälla</td>\n",
       "      <td>VERB</td>\n",
       "      <td>år</td>\n",
       "      <td>gäller</td>\n",
       "      <td>gäller</td>\n",
       "    </tr>\n",
       "    <tr>\n",
       "      <th>3</th>\n",
       "      <td>ett bevis</td>\n",
       "      <td>[en, bevis]</td>\n",
       "      <td>[DET, NOUN]</td>\n",
       "      <td>[det, root]</td>\n",
       "      <td>bevis</td>\n",
       "      <td>NOUN</td>\n",
       "      <td>kortet är ett bevis på att du har tillstånd at...</td>\n",
       "      <td>[kort, vara, en, bevis, på, att, du, ha, tills...</td>\n",
       "      <td>[NOUN, AUX, DET, NOUN, ADP, SCONJ, PRON, VERB,...</td>\n",
       "      <td>[nsubj, cop, det, root, mark, mark, nsubj, adv...</td>\n",
       "      <td>bevis</td>\n",
       "      <td>NOUN</td>\n",
       "      <td>vad är ett uppehållstillståndskort</td>\n",
       "      <td>[vad, vara, en, uppehållstillståndskort]</td>\n",
       "      <td>[PRON, AUX, DET, NOUN]</td>\n",
       "      <td>[root, cop, det, nsubj]</td>\n",
       "      <td>vad</td>\n",
       "      <td>PRON</td>\n",
       "      <td>bevis</td>\n",
       "      <td>bevis</td>\n",
       "      <td>vad</td>\n",
       "    </tr>\n",
       "    <tr>\n",
       "      <th>4</th>\n",
       "      <td>ett bevis</td>\n",
       "      <td>[en, bevis]</td>\n",
       "      <td>[DET, NOUN]</td>\n",
       "      <td>[det, root]</td>\n",
       "      <td>bevis</td>\n",
       "      <td>NOUN</td>\n",
       "      <td>kortet är ett bevis på att du har tillstånd at...</td>\n",
       "      <td>[kort, vara, en, bevis, på, att, du, ha, tills...</td>\n",
       "      <td>[NOUN, AUX, DET, NOUN, ADP, SCONJ, PRON, VERB,...</td>\n",
       "      <td>[nsubj, cop, det, root, mark, mark, nsubj, adv...</td>\n",
       "      <td>bevis</td>\n",
       "      <td>NOUN</td>\n",
       "      <td>vad är ett uppehållstillståndskort</td>\n",
       "      <td>[vad, vara, en, uppehållstillståndskort]</td>\n",
       "      <td>[PRON, AUX, DET, NOUN]</td>\n",
       "      <td>[root, cop, det, nsubj]</td>\n",
       "      <td>vad</td>\n",
       "      <td>PRON</td>\n",
       "      <td>bevis</td>\n",
       "      <td>bevis</td>\n",
       "      <td>vad</td>\n",
       "    </tr>\n",
       "  </tbody>\n",
       "</table>\n",
       "</div>"
      ],
      "text/plain": [
       "                                              answer  \\\n",
       "0  ett tillstånd för att resa in och vara i ett land   \n",
       "1                                          ditt pass   \n",
       "2                                             ett år   \n",
       "3                                          ett bevis   \n",
       "4                                          ett bevis   \n",
       "\n",
       "                                        answer_words  \\\n",
       "0  [en, tillstånd, för, att, resa, in, och, vara,...   \n",
       "1                                         [du, pass]   \n",
       "2                                           [en, år]   \n",
       "3                                        [en, bevis]   \n",
       "4                                        [en, bevis]   \n",
       "\n",
       "                                          answer_pos  \\\n",
       "0  [DET, NOUN, ADP, PART, VERB, ADV, CCONJ, AUX, ...   \n",
       "1                                       [PRON, NOUN]   \n",
       "2                                        [DET, NOUN]   \n",
       "3                                        [DET, NOUN]   \n",
       "4                                        [DET, NOUN]   \n",
       "\n",
       "                                       answer_deprel answer_root  \\\n",
       "0  [det, root, mark, mark, advcl, compound:prt, c...   tillstånd   \n",
       "1                                  [nmod:poss, root]        pass   \n",
       "2                                        [det, root]          år   \n",
       "3                                        [det, root]       bevis   \n",
       "4                                        [det, root]       bevis   \n",
       "\n",
       "  answer_root_pos                                      sent_with_ans  \\\n",
       "0            NOUN  visum är ett tillstånd för att resa in och var...   \n",
       "1            NOUN  när du ska hämta ditt beslut ska du ta med dit...   \n",
       "2            NOUN  ett uppehållstillstånd för besök gäller som lä...   \n",
       "3            NOUN  kortet är ett bevis på att du har tillstånd at...   \n",
       "4            NOUN  kortet är ett bevis på att du har tillstånd at...   \n",
       "\n",
       "                                          sent_words  \\\n",
       "0  [visum, vara, en, tillstånd, för, att, resa, i...   \n",
       "1  [när, du, skola, hämta, du, beslut, skola, du,...   \n",
       "2  [en, uppehållstillstånd, för, besök, gälla, so...   \n",
       "3  [kort, vara, en, bevis, på, att, du, ha, tills...   \n",
       "4  [kort, vara, en, bevis, på, att, du, ha, tills...   \n",
       "\n",
       "                                            sent_pos  \\\n",
       "0  [NOUN, AUX, DET, NOUN, ADP, PART, VERB, ADV, C...   \n",
       "1  [SCONJ, PRON, AUX, VERB, PRON, NOUN, AUX, PRON...   \n",
       "2  [DET, NOUN, ADP, NOUN, VERB, SCONJ, ADV, ADV, ...   \n",
       "3  [NOUN, AUX, DET, NOUN, ADP, SCONJ, PRON, VERB,...   \n",
       "4  [NOUN, AUX, DET, NOUN, ADP, SCONJ, PRON, VERB,...   \n",
       "\n",
       "                                         sent_deprel  sent_root sent_root_pos  \\\n",
       "0  [nsubj, cop, det, root, mark, mark, advcl, com...  tillstånd          NOUN   \n",
       "1  [mark, nsubj, aux, advcl, nmod:poss, obj, aux,...         ta          VERB   \n",
       "2  [det, nsubj, case, nmod, root, advmod, advmod,...      gälla          VERB   \n",
       "3  [nsubj, cop, det, root, mark, mark, nsubj, adv...      bevis          NOUN   \n",
       "4  [nsubj, cop, det, root, mark, mark, nsubj, adv...      bevis          NOUN   \n",
       "\n",
       "                                            question  \\\n",
       "0                                   vad är ett visum   \n",
       "1        vad ska du ta med när du hämtar ditt beslut   \n",
       "2  hur länge gäller ett uppehållstillstånd för be...   \n",
       "3                 vad är ett uppehållstillståndskort   \n",
       "4                 vad är ett uppehållstillståndskort   \n",
       "\n",
       "                                             q_words  \\\n",
       "0                             [vad, vara, en, visum]   \n",
       "1  [vad, skola, du, ta, med, när, du, hämta, du, ...   \n",
       "2  [hur, länge, gälla, en, uppehållstillstånd, fö...   \n",
       "3           [vad, vara, en, uppehållstillståndskort]   \n",
       "4           [vad, vara, en, uppehållstillståndskort]   \n",
       "\n",
       "                                               q_pos  \\\n",
       "0                             [PRON, AUX, DET, NOUN]   \n",
       "1  [PRON, AUX, PRON, VERB, ADP, SCONJ, PRON, VERB...   \n",
       "2  [ADV, ADV, VERB, DET, NOUN, ADP, NOUN, CCONJ, ...   \n",
       "3                             [PRON, AUX, DET, NOUN]   \n",
       "4                             [PRON, AUX, DET, NOUN]   \n",
       "\n",
       "                                            q_deprel q_root q_root_pos  \\\n",
       "0                            [root, cop, det, nsubj]    vad       PRON   \n",
       "1  [obj, aux, nsubj, root, compound:prt, mark, ns...     ta       VERB   \n",
       "2  [advmod, advmod, root, det, nsubj, case, nmod,...  gälla       VERB   \n",
       "3                            [root, cop, det, nsubj]    vad       PRON   \n",
       "4                            [root, cop, det, nsubj]    vad       PRON   \n",
       "\n",
       "  answer_root_word sent_root_word q_root_word  \n",
       "0        tillstånd      tillstånd         vad  \n",
       "1             pass             ta          ta  \n",
       "2               år         gäller      gäller  \n",
       "3            bevis          bevis         vad  \n",
       "4            bevis          bevis         vad  "
      ]
     },
     "execution_count": 128,
     "metadata": {},
     "output_type": "execute_result"
    }
   ],
   "source": [
    "df_train = pd.read_pickle(\"./data_frames/df_train.pkl\")\n",
    "df_test = pd.read_pickle(\"./data_frames/df_test.pkl\")\n",
    "df_dp_train = pd.read_pickle(\"./data_frames/dependency_parsing/df_dp_train.pkl\")\n",
    "df_dp_test = pd.read_pickle(\"./data_frames/dependency_parsing/df_dp_test.pkl\")\n",
    "df_dp_train.head()"
   ]
  },
  {
   "cell_type": "code",
   "execution_count": 129,
   "metadata": {},
   "outputs": [],
   "source": [
    "def plot_normalized_overlap(df, title, bins, type):\n",
    "    o_len = df[type+'_overlap_count'].values\n",
    "    max_len = np.minimum(df[type+'_ans_wordcount'].values, df[type+'_q_wordcount'].values)\n",
    "    frac_len = o_len/max_len\n",
    "    # print('frac_len: ', frac_len)\n",
    "    mean = np.nanmean(frac_len)\n",
    "    print('mean: ', mean)\n",
    "    # flat_list = [item for sublist in locations for item in sublist]\n",
    "    plt.hist(frac_len, density=True, bins=bins)\n",
    "    plt.axvline(mean, color='g', linestyle='dashed', linewidth=1, label='mean: {:.2f}'.format(mean))\n",
    "    plt.ylabel('Vol')\n",
    "    plt.xlabel('Fraction of words overlapping')\n",
    "    plt.legend()\n",
    "    plt.title(title)\n",
    "    plt.show()"
   ]
  },
  {
   "cell_type": "code",
   "execution_count": 130,
   "metadata": {},
   "outputs": [],
   "source": [
    "def find_overlap_sent(a_w, q_w):\n",
    "    overlap = 0\n",
    "    overlap_w = []\n",
    "    for w in a_w:\n",
    "        if w in q_w:\n",
    "            overlap += 1\n",
    "            overlap_w.append(w)\n",
    "    return overlap, overlap_w\n",
    "\n",
    "\n",
    "# find the number of overlapping words between sent_with_ans / question / correct_answer\n",
    "def find_word_overlap_base(df):\n",
    "    overlap_nr = []\n",
    "    overlap_words = []\n",
    "    tot_ans_words_arr = []\n",
    "    tot_q_words_arr = []\n",
    "    for index, row in df.iterrows():\n",
    "        q = row['question'].lower()\n",
    "        a = row['sent_with_ans'].lower()\n",
    "        a = re.sub('[^\\sa-zåäöA-ZÅÄÖ1-9]', '', a)\n",
    "        q = re.sub('[^\\sa-zåäöA-ZÅÄÖ1-9]', '', q)\n",
    "        # split in to words\n",
    "        q_w = word_tokenize(q)\n",
    "        a_w = word_tokenize(a)\n",
    "        q_w = list(dict.fromkeys(q_w)) # remove duplicate words\n",
    "        a_w = list(dict.fromkeys(a_w)) # remove duplicate words\n",
    "\n",
    "        tot_ans_words_arr.append(len(a_w))\n",
    "        tot_q_words_arr.append(len(q_w))\n",
    "        overlap, overlap_w = find_overlap_sent(a_w, q_w)\n",
    "        \n",
    "        overlap_words.append(overlap_w)\n",
    "        overlap_nr.append(overlap)\n",
    "    \n",
    "    return overlap_nr, overlap_words, tot_ans_words_arr, tot_q_words_arr\n",
    "\n",
    "df_dp_train['base_overlap_count'], df_dp_train['base_overlap_words'], df_dp_train['base_ans_wordcount'], df_dp_train['base_q_wordcount'] = find_word_overlap_base(df_train)\n",
    "df_dp_test['base_overlap_count'], df_dp_test['base_overlap_words'], df_dp_test['base_ans_wordcount'], df_dp_test['base_q_wordcount'] = find_word_overlap_base(df_test)\n"
   ]
  },
  {
   "cell_type": "code",
   "execution_count": 131,
   "metadata": {},
   "outputs": [],
   "source": [
    "# Removing stopwords from array of words\n",
    "def remove_stopwords_sentence(sentence):\n",
    "    stop_words = set(stopwords.words('swedish'))\n",
    "    filtered_sentence = [w for w in sentence if not w.lower() in stop_words]\n",
    "    return filtered_sentence"
   ]
  },
  {
   "cell_type": "code",
   "execution_count": 133,
   "metadata": {},
   "outputs": [],
   "source": [
    "# find overlap using the lemmatized versions of the answer sentences and questions\n",
    "def find_word_overlap_lemmatized(df, remove_stopwords=False):\n",
    "    overlap_nr = []\n",
    "    overlap_words = []\n",
    "    tot_ans_words_arr = []\n",
    "    tot_q_words_arr = []\n",
    "    for index, row in df.iterrows():\n",
    "        q_w = row['q_words']\n",
    "        a_w = row['sent_words']\n",
    "        q_w = list(dict.fromkeys(q_w)) # remove duplicate words\n",
    "        a_w = list(dict.fromkeys(a_w)) # remove duplicate words\n",
    "        if remove_stopwords:\n",
    "            q_w = remove_stopwords_sentence(q_w)\n",
    "            a_w = remove_stopwords_sentence(a_w)\n",
    "        tot_ans_words_arr.append(len(a_w))\n",
    "        tot_q_words_arr.append(len(q_w))\n",
    "        overlap, overlap_w = find_overlap_sent(a_w, q_w)\n",
    "        \n",
    "        overlap_words.append(overlap_w)\n",
    "        overlap_nr.append(overlap)\n",
    "    \n",
    "    return overlap_nr, overlap_words, tot_ans_words_arr, tot_q_words_arr\n",
    "\n",
    "df_dp_train['lemma_overlap_count'], df_dp_train['lemma_overlap_words'], df_dp_train['lemma_ans_wordcount'], df_dp_train['lemma_q_wordcount'] = find_word_overlap_lemmatized(df_dp_train)\n",
    "df_dp_test['lemma_overlap_count'], df_dp_test['lemma_overlap_words'], df_dp_test['lemma_ans_wordcount'], df_dp_test['lemma_q_wordcount'] = find_word_overlap_lemmatized(df_dp_test)\n",
    "\n",
    "# stats when removing stopwords\n",
    "df_dp_train['stop_lemma_overlap_count'], df_dp_train['stop_lemma_overlap_words'], df_dp_train['stop_lemma_ans_wordcount'], df_dp_train['stop_lemma_q_wordcount'] = find_word_overlap_lemmatized(df_dp_train, True)\n",
    "df_dp_test['stop_lemma_overlap_count'], df_dp_test['stop_lemma_overlap_words'], df_dp_test['stop_lemma_ans_wordcount'], df_dp_test['stop_lemma_q_wordcount'] = find_word_overlap_lemmatized(df_dp_test, True)\n"
   ]
  },
  {
   "cell_type": "code",
   "execution_count": 134,
   "metadata": {},
   "outputs": [
    {
     "name": "stdout",
     "output_type": "stream",
     "text": [
      "mean:  0.5630919543502897\n"
     ]
    },
    {
     "data": {
      "image/png": "[encoded data removed]",
      "text/plain": [
       "<Figure size 432x288 with 1 Axes>"
      ]
     },
     "metadata": {
      "needs_background": "light"
     },
     "output_type": "display_data"
    },
    {
     "name": "stdout",
     "output_type": "stream",
     "text": [
      "mean:  0.6135334346100108\n"
     ]
    },
    {
     "data": {
      "image/png": "[encoded data removed]",
      "text/plain": [
       "<Figure size 432x288 with 1 Axes>"
      ]
     },
     "metadata": {
      "needs_background": "light"
     },
     "output_type": "display_data"
    },
    {
     "name": "stdout",
     "output_type": "stream",
     "text": [
      "mean:  0.7096962981578366\n"
     ]
    },
    {
     "data": {
      "image/png": "[encoded data removed]",
      "text/plain": [
       "<Figure size 432x288 with 1 Axes>"
      ]
     },
     "metadata": {
      "needs_background": "light"
     },
     "output_type": "display_data"
    },
    {
     "name": "stdout",
     "output_type": "stream",
     "text": [
      "mean:  0.5579030541306756\n"
     ]
    },
    {
     "data": {
      "image/png": "[encoded data removed]",
      "text/plain": [
       "<Figure size 432x288 with 1 Axes>"
      ]
     },
     "metadata": {
      "needs_background": "light"
     },
     "output_type": "display_data"
    },
    {
     "name": "stdout",
     "output_type": "stream",
     "text": [
      "mean:  0.6092286892798402\n"
     ]
    },
    {
     "data": {
      "image/png": "[encoded data removed]",
      "text/plain": [
       "<Figure size 432x288 with 1 Axes>"
      ]
     },
     "metadata": {
      "needs_background": "light"
     },
     "output_type": "display_data"
    },
    {
     "name": "stdout",
     "output_type": "stream",
     "text": [
      "mean:  0.7063955380131848\n"
     ]
    },
    {
     "data": {
      "image/png": "[encoded data removed]",
      "text/plain": [
       "<Figure size 432x288 with 1 Axes>"
      ]
     },
     "metadata": {
      "needs_background": "light"
     },
     "output_type": "display_data"
    }
   ],
   "source": [
    "plot_normalized_overlap(df_dp_train, 'Fraction of overlapping words in question and sentence, training set', 50, 'base')\n",
    "plot_normalized_overlap(df_dp_train, 'Fraction of overlapping words, lemmatized, in question and sentence, training set', 50, 'lemma')\n",
    "plot_normalized_overlap(df_dp_train, 'Fraction of overlapping words, lemmatized stopwords removed, in question and sentence, training set', 50, 'stop_lemma')\n",
    "plot_normalized_overlap(df_dp_test, 'Fraction of overlapping words in question and sentence, test set', 50, 'base')\n",
    "plot_normalized_overlap(df_dp_test, 'Fraction of overlapping words, lemmatized, in question and sentence, test set', 50, 'lemma')\n",
    "plot_normalized_overlap(df_dp_test, 'Fraction of overlapping words, lemmatizedstopwords removed, in question and sentence, test set', 50, 'stop_lemma')"
   ]
  },
  {
   "cell_type": "code",
   "execution_count": 137,
   "metadata": {},
   "outputs": [
    {
     "name": "stdout",
     "output_type": "stream",
     "text": [
      "Number of Q/A pairs that have no word overlap:  0.16632016632016633\n",
      "Number of lemmatized Q/A pairs that have no word overlap:  0.11746361746361747\n",
      "Number of lemmatized Q/A pairs with stopwords removed that have no word overlap:  0.2151767151767152\n"
     ]
    }
   ],
   "source": [
    "# find the question answer pairs where there is no / little overlap in words\n",
    "def print_overlap(filename, df, type):\n",
    "    with open(filename, 'w') as out:\n",
    "        for index, row in df.iterrows():\n",
    "            out.write('-------------------'+ '\\n')\n",
    "            out.write('overlapping words: ' + ' '.join(row[type+'_overlap_words']) + '\\n')\n",
    "            out.write('question: ' + row['question'] + '\\n')\n",
    "            out.write('answer: ' + row['answer'] + '\\n')\n",
    "            out.write('sentence with answer: '+ row['sent_with_ans']+ '\\n')\n",
    "\n",
    "\n",
    "\n",
    "df_train_little_overlap_base = df_dp_train.loc[df_dp_train['base_overlap_count'] < 2]\n",
    "print('Number of Q/A pairs that have no word overlap: ', len(df_train_little_overlap_base)/len(df_train))\n",
    "print_overlap('figures/question-answer-pairs-no-overlap-base.txt', df_train_little_overlap_base, 'base')\n",
    "\n",
    "df_train_little_overlap = df_dp_train.loc[df_dp_train['lemma_overlap_count'] < 2]\n",
    "print('Number of lemmatized Q/A pairs that have no word overlap: ', len(df_train_little_overlap)/len(df_train))\n",
    "print_overlap('figures/question-answer-pairs-no-overlap-lemma.txt', df_train_little_overlap, 'lemma')\n",
    "\n",
    "df_train_little_overlap_stop = df_dp_train.loc[df_dp_train['stop_lemma_overlap_count'] < 2]\n",
    "print('Number of lemmatized Q/A pairs with stopwords removed that have no word overlap: ', len(df_train_little_overlap_stop)/len(df_train))\n",
    "print_overlap('figures/question-answer-pairs-no-overlap-stopwords-lemma.txt', df_train_little_overlap_stop, 'stop_lemma')"
   ]
  },
  {
   "cell_type": "code",
   "execution_count": null,
   "metadata": {},
   "outputs": [],
   "source": []
  }
 ],
 "metadata": {
  "interpreter": {
   "hash": "de4ab37d9aa598fa28430b4c5abb54602406a240d03eddec7af88b85de3986f7"
  },
  "kernelspec": {
   "display_name": "Python 3 (ipykernel)",
   "language": "python",
   "name": "python3"
  },
  "language_info": {
   "codemirror_mode": {
    "name": "ipython",
    "version": 3
   },
   "file_extension": ".py",
   "mimetype": "text/x-python",
   "name": "python",
   "nbconvert_exporter": "python",
   "pygments_lexer": "ipython3",
   "version": "3.9.7"
  }
 },
 "nbformat": 4,
 "nbformat_minor": 2
}
