{
 "cells": [
  {
   "cell_type": "code",
   "execution_count": 25,
   "metadata": {},
   "outputs": [],
   "source": [
    "# Load necessary libraries\n",
    "import pandas as pd\n",
    "import matplotlib.pyplot as plt\n",
    "import numpy as np"
   ]
  },
  {
   "cell_type": "code",
   "execution_count": 38,
   "metadata": {},
   "outputs": [
    {
     "data": {
      "text/html": [
       "<div>\n",
       "<style scoped>\n",
       "    .dataframe tbody tr th:only-of-type {\n",
       "        vertical-align: middle;\n",
       "    }\n",
       "\n",
       "    .dataframe tbody tr th {\n",
       "        vertical-align: top;\n",
       "    }\n",
       "\n",
       "    .dataframe thead th {\n",
       "        text-align: right;\n",
       "    }\n",
       "</style>\n",
       "<table border=\"1\" class=\"dataframe\">\n",
       "  <thead>\n",
       "    <tr style=\"text-align: right;\">\n",
       "      <th></th>\n",
       "      <th>answer</th>\n",
       "      <th>answer_lemmas</th>\n",
       "      <th>answer_stop_lemmas</th>\n",
       "      <th>answer_words</th>\n",
       "      <th>answer_stop_words</th>\n",
       "      <th>answer_pos</th>\n",
       "      <th>answer_deprel</th>\n",
       "      <th>answer_root</th>\n",
       "      <th>answer_root_pos</th>\n",
       "      <th>sent_with_ans</th>\n",
       "      <th>...</th>\n",
       "      <th>q_stop_lemmas</th>\n",
       "      <th>q_words</th>\n",
       "      <th>q_stop_words</th>\n",
       "      <th>q_pos</th>\n",
       "      <th>q_deprel</th>\n",
       "      <th>q_root</th>\n",
       "      <th>q_root_pos</th>\n",
       "      <th>answer_root_word</th>\n",
       "      <th>sent_root_word</th>\n",
       "      <th>q_root_word</th>\n",
       "    </tr>\n",
       "  </thead>\n",
       "  <tbody>\n",
       "    <tr>\n",
       "      <th>0</th>\n",
       "      <td>ett tillstånd för att resa in och vara i ett land</td>\n",
       "      <td>[en, tillstånd, för, att, resa, in, och, vara,...</td>\n",
       "      <td>[tillstånd, resa, in, land]</td>\n",
       "      <td>[ett, tillstånd, för, att, resa, in, och, vara...</td>\n",
       "      <td>[tillstånd, resa, in, land]</td>\n",
       "      <td>[DET, NOUN, ADP, PART, VERB, ADV, CCONJ, AUX, ...</td>\n",
       "      <td>[det, root, mark, mark, advcl, compound:prt, c...</td>\n",
       "      <td>tillstånd</td>\n",
       "      <td>NOUN</td>\n",
       "      <td>visum är ett tillstånd för att resa in och var...</td>\n",
       "      <td>...</td>\n",
       "      <td>[visum]</td>\n",
       "      <td>[vad, är, ett, visum]</td>\n",
       "      <td>[visum]</td>\n",
       "      <td>[PRON, AUX, DET, NOUN]</td>\n",
       "      <td>[root, cop, det, nsubj]</td>\n",
       "      <td>vad</td>\n",
       "      <td>PRON</td>\n",
       "      <td>tillstånd</td>\n",
       "      <td>tillstånd</td>\n",
       "      <td>vad</td>\n",
       "    </tr>\n",
       "    <tr>\n",
       "      <th>1</th>\n",
       "      <td>ditt pass</td>\n",
       "      <td>[du, pass]</td>\n",
       "      <td>[pass]</td>\n",
       "      <td>[ditt, pass]</td>\n",
       "      <td>[pass]</td>\n",
       "      <td>[PRON, NOUN]</td>\n",
       "      <td>[nmod:poss, root]</td>\n",
       "      <td>pass</td>\n",
       "      <td>NOUN</td>\n",
       "      <td>när du ska hämta ditt beslut ska du ta med dit...</td>\n",
       "      <td>...</td>\n",
       "      <td>[skola, ta, hämta, beslut]</td>\n",
       "      <td>[vad, ska, du, ta, med, när, du, hämtar, ditt,...</td>\n",
       "      <td>[ska, ta, hämtar, beslut]</td>\n",
       "      <td>[PRON, AUX, PRON, VERB, ADP, SCONJ, PRON, VERB...</td>\n",
       "      <td>[obj, aux, nsubj, root, compound:prt, mark, ns...</td>\n",
       "      <td>ta</td>\n",
       "      <td>VERB</td>\n",
       "      <td>pass</td>\n",
       "      <td>ta</td>\n",
       "      <td>ta</td>\n",
       "    </tr>\n",
       "    <tr>\n",
       "      <th>2</th>\n",
       "      <td>ett år</td>\n",
       "      <td>[en, år]</td>\n",
       "      <td>[år]</td>\n",
       "      <td>[ett, år]</td>\n",
       "      <td>[år]</td>\n",
       "      <td>[DET, NOUN]</td>\n",
       "      <td>[det, root]</td>\n",
       "      <td>år</td>\n",
       "      <td>NOUN</td>\n",
       "      <td>så länge gäller tillståndet ett uppehållstills...</td>\n",
       "      <td>...</td>\n",
       "      <td>[länge, gälla, uppehållstillstånd, besök, länge]</td>\n",
       "      <td>[hur, länge, gäller, ett, uppehållstillstånd, ...</td>\n",
       "      <td>[länge, gäller, uppehållstillstånd, besök, län...</td>\n",
       "      <td>[ADV, ADV, VERB, DET, NOUN, ADP, NOUN, CCONJ, ...</td>\n",
       "      <td>[advmod, advmod, root, det, nsubj, case, nmod,...</td>\n",
       "      <td>gälla</td>\n",
       "      <td>VERB</td>\n",
       "      <td>år</td>\n",
       "      <td>gäller</td>\n",
       "      <td>gäller</td>\n",
       "    </tr>\n",
       "    <tr>\n",
       "      <th>3</th>\n",
       "      <td>ett bevis</td>\n",
       "      <td>[en, bevis]</td>\n",
       "      <td>[bevis]</td>\n",
       "      <td>[ett, bevis]</td>\n",
       "      <td>[bevis]</td>\n",
       "      <td>[DET, NOUN]</td>\n",
       "      <td>[det, root]</td>\n",
       "      <td>bevis</td>\n",
       "      <td>NOUN</td>\n",
       "      <td>kortet är ett bevis på att du har tillstånd at...</td>\n",
       "      <td>...</td>\n",
       "      <td>[uppehållstillståndskort]</td>\n",
       "      <td>[vad, är, ett, uppehållstillståndskort]</td>\n",
       "      <td>[uppehållstillståndskort]</td>\n",
       "      <td>[PRON, AUX, DET, NOUN]</td>\n",
       "      <td>[root, cop, det, nsubj]</td>\n",
       "      <td>vad</td>\n",
       "      <td>PRON</td>\n",
       "      <td>bevis</td>\n",
       "      <td>bevis</td>\n",
       "      <td>vad</td>\n",
       "    </tr>\n",
       "    <tr>\n",
       "      <th>4</th>\n",
       "      <td>ett bevis</td>\n",
       "      <td>[en, bevis]</td>\n",
       "      <td>[bevis]</td>\n",
       "      <td>[ett, bevis]</td>\n",
       "      <td>[bevis]</td>\n",
       "      <td>[DET, NOUN]</td>\n",
       "      <td>[det, root]</td>\n",
       "      <td>bevis</td>\n",
       "      <td>NOUN</td>\n",
       "      <td>kortet är ett bevis på att du har tillstånd at...</td>\n",
       "      <td>...</td>\n",
       "      <td>[uppehållstillståndskort]</td>\n",
       "      <td>[vad, är, ett, uppehållstillståndskort]</td>\n",
       "      <td>[uppehållstillståndskort]</td>\n",
       "      <td>[PRON, AUX, DET, NOUN]</td>\n",
       "      <td>[root, cop, det, nsubj]</td>\n",
       "      <td>vad</td>\n",
       "      <td>PRON</td>\n",
       "      <td>bevis</td>\n",
       "      <td>bevis</td>\n",
       "      <td>vad</td>\n",
       "    </tr>\n",
       "  </tbody>\n",
       "</table>\n",
       "<p>5 rows × 30 columns</p>\n",
       "</div>"
      ],
      "text/plain": [
       "                                              answer  \\\n",
       "0  ett tillstånd för att resa in och vara i ett land   \n",
       "1                                          ditt pass   \n",
       "2                                             ett år   \n",
       "3                                          ett bevis   \n",
       "4                                          ett bevis   \n",
       "\n",
       "                                       answer_lemmas  \\\n",
       "0  [en, tillstånd, för, att, resa, in, och, vara,...   \n",
       "1                                         [du, pass]   \n",
       "2                                           [en, år]   \n",
       "3                                        [en, bevis]   \n",
       "4                                        [en, bevis]   \n",
       "\n",
       "            answer_stop_lemmas  \\\n",
       "0  [tillstånd, resa, in, land]   \n",
       "1                       [pass]   \n",
       "2                         [år]   \n",
       "3                      [bevis]   \n",
       "4                      [bevis]   \n",
       "\n",
       "                                        answer_words  \\\n",
       "0  [ett, tillstånd, för, att, resa, in, och, vara...   \n",
       "1                                       [ditt, pass]   \n",
       "2                                          [ett, år]   \n",
       "3                                       [ett, bevis]   \n",
       "4                                       [ett, bevis]   \n",
       "\n",
       "             answer_stop_words  \\\n",
       "0  [tillstånd, resa, in, land]   \n",
       "1                       [pass]   \n",
       "2                         [år]   \n",
       "3                      [bevis]   \n",
       "4                      [bevis]   \n",
       "\n",
       "                                          answer_pos  \\\n",
       "0  [DET, NOUN, ADP, PART, VERB, ADV, CCONJ, AUX, ...   \n",
       "1                                       [PRON, NOUN]   \n",
       "2                                        [DET, NOUN]   \n",
       "3                                        [DET, NOUN]   \n",
       "4                                        [DET, NOUN]   \n",
       "\n",
       "                                       answer_deprel answer_root  \\\n",
       "0  [det, root, mark, mark, advcl, compound:prt, c...   tillstånd   \n",
       "1                                  [nmod:poss, root]        pass   \n",
       "2                                        [det, root]          år   \n",
       "3                                        [det, root]       bevis   \n",
       "4                                        [det, root]       bevis   \n",
       "\n",
       "  answer_root_pos                                      sent_with_ans  ...  \\\n",
       "0            NOUN  visum är ett tillstånd för att resa in och var...  ...   \n",
       "1            NOUN  när du ska hämta ditt beslut ska du ta med dit...  ...   \n",
       "2            NOUN  så länge gäller tillståndet ett uppehållstills...  ...   \n",
       "3            NOUN  kortet är ett bevis på att du har tillstånd at...  ...   \n",
       "4            NOUN  kortet är ett bevis på att du har tillstånd at...  ...   \n",
       "\n",
       "                                      q_stop_lemmas  \\\n",
       "0                                           [visum]   \n",
       "1                        [skola, ta, hämta, beslut]   \n",
       "2  [länge, gälla, uppehållstillstånd, besök, länge]   \n",
       "3                         [uppehållstillståndskort]   \n",
       "4                         [uppehållstillståndskort]   \n",
       "\n",
       "                                             q_words  \\\n",
       "0                              [vad, är, ett, visum]   \n",
       "1  [vad, ska, du, ta, med, när, du, hämtar, ditt,...   \n",
       "2  [hur, länge, gäller, ett, uppehållstillstånd, ...   \n",
       "3            [vad, är, ett, uppehållstillståndskort]   \n",
       "4            [vad, är, ett, uppehållstillståndskort]   \n",
       "\n",
       "                                        q_stop_words  \\\n",
       "0                                            [visum]   \n",
       "1                          [ska, ta, hämtar, beslut]   \n",
       "2  [länge, gäller, uppehållstillstånd, besök, län...   \n",
       "3                          [uppehållstillståndskort]   \n",
       "4                          [uppehållstillståndskort]   \n",
       "\n",
       "                                               q_pos  \\\n",
       "0                             [PRON, AUX, DET, NOUN]   \n",
       "1  [PRON, AUX, PRON, VERB, ADP, SCONJ, PRON, VERB...   \n",
       "2  [ADV, ADV, VERB, DET, NOUN, ADP, NOUN, CCONJ, ...   \n",
       "3                             [PRON, AUX, DET, NOUN]   \n",
       "4                             [PRON, AUX, DET, NOUN]   \n",
       "\n",
       "                                            q_deprel q_root q_root_pos  \\\n",
       "0                            [root, cop, det, nsubj]    vad       PRON   \n",
       "1  [obj, aux, nsubj, root, compound:prt, mark, ns...     ta       VERB   \n",
       "2  [advmod, advmod, root, det, nsubj, case, nmod,...  gälla       VERB   \n",
       "3                            [root, cop, det, nsubj]    vad       PRON   \n",
       "4                            [root, cop, det, nsubj]    vad       PRON   \n",
       "\n",
       "  answer_root_word sent_root_word q_root_word  \n",
       "0        tillstånd      tillstånd         vad  \n",
       "1             pass             ta          ta  \n",
       "2               år         gäller      gäller  \n",
       "3            bevis          bevis         vad  \n",
       "4            bevis          bevis         vad  \n",
       "\n",
       "[5 rows x 30 columns]"
      ]
     },
     "execution_count": 38,
     "metadata": {},
     "output_type": "execute_result"
    }
   ],
   "source": [
    "df_train = pd.read_pickle(\"./data_frames/df_train.pkl\")\n",
    "df_dp_train = pd.read_pickle(\"./data_frames/dependency_parsing/df_dp_train.pkl\")\n",
    "df_dp_train.head()"
   ]
  },
  {
   "cell_type": "code",
   "execution_count": 46,
   "metadata": {},
   "outputs": [],
   "source": [
    "def plot_normalized_overlap(df, title, bins, type):\n",
    "    o_len = df[type+'_overlap_count'].values\n",
    "    max_len = np.minimum(df[type+'_ans_wordcount'].values, df[type+'_q_wordcount'].values)\n",
    "    frac_len = o_len/max_len\n",
    "    # print('frac_len: ', frac_len)\n",
    "    mean = np.nanmean(frac_len)\n",
    "    print('mean: ', mean)\n",
    "    # flat_list = [item for sublist in locations for item in sublist]\n",
    "    plt.hist(frac_len, bins=bins)\n",
    "    plt.axvline(mean, color='g', linestyle='dashed', linewidth=1, label='mean: {:.2f}'.format(mean))\n",
    "    plt.ylabel('Num data points')\n",
    "    plt.xlabel('Fraction of words overlapping')\n",
    "    plt.legend()\n",
    "    plt.title(title)\n",
    "    plt.show()"
   ]
  },
  {
   "cell_type": "code",
   "execution_count": 47,
   "metadata": {},
   "outputs": [],
   "source": [
    "def find_overlap_sent(a_w, q_w):\n",
    "    overlap = 0\n",
    "    overlap_w = []\n",
    "    for w in a_w:\n",
    "        if w in q_w:\n",
    "            overlap += 1\n",
    "            overlap_w.append(w)\n",
    "    return overlap, overlap_w\n"
   ]
  },
  {
   "cell_type": "code",
   "execution_count": 48,
   "metadata": {},
   "outputs": [],
   "source": [
    "# find overlap using the lemmatized versions of the answer sentences and questions\n",
    "def find_word_overlap(df, remove_stopwords=False, use_lemmas=False):\n",
    "    overlap_nr = []\n",
    "    overlap_words = []\n",
    "    tot_ans_words_arr = []\n",
    "    tot_q_words_arr = []\n",
    "    for index, row in df.iterrows():\n",
    "        q_w = None\n",
    "        a_w = None\n",
    "        if remove_stopwords:\n",
    "            if use_lemmas:\n",
    "                q_w = row['q_stop_lemmas']\n",
    "                a_w = row['sent_stop_lemmas']\n",
    "            else: \n",
    "                q_w = row['q_stop_words']\n",
    "                a_w = row['sent_stop_words']\n",
    "        else:\n",
    "            if use_lemmas:\n",
    "                q_w = row['q_lemmas']\n",
    "                a_w = row['sent_lemmas']\n",
    "            else:\n",
    "                q_w = row['q_words']\n",
    "                a_w = row['sent_words']\n",
    "        q_w = list(dict.fromkeys(q_w)) # remove duplicate words\n",
    "        a_w = list(dict.fromkeys(a_w)) # remove duplicate words\n",
    "        tot_ans_words_arr.append(len(a_w))\n",
    "        tot_q_words_arr.append(len(q_w))\n",
    "        overlap, overlap_w = find_overlap_sent(a_w, q_w)\n",
    "        \n",
    "        overlap_words.append(overlap_w)\n",
    "        overlap_nr.append(overlap)\n",
    "    \n",
    "    return overlap_nr, overlap_words, tot_ans_words_arr, tot_q_words_arr\n",
    "# words with stopwords remaining\n",
    "df_dp_train['word_overlap_count'], df_dp_train['word_overlap_words'], df_dp_train['word_ans_wordcount'], df_dp_train['word_q_wordcount'] = find_word_overlap(df_dp_train)\n",
    "# words stopwords removed\n",
    "df_dp_train['word_stop_overlap_count'], df_dp_train['word_stop_overlap_words'], df_dp_train['word_stop_ans_wordcount'], df_dp_train['word_stop_q_wordcount'] = find_word_overlap(df_dp_train, True, False)\n",
    "\n",
    "# lemmas stopwords remaining\n",
    "df_dp_train['lemma_overlap_count'], df_dp_train['lemma_overlap_words'], df_dp_train['lemma_ans_wordcount'], df_dp_train['lemma_q_wordcount'] = find_word_overlap(df_dp_train, False, True)\n",
    "# lemmas stopwords removed\n",
    "df_dp_train['lemma_stop_overlap_count'], df_dp_train['lemma_stop_overlap_words'], df_dp_train['lemma_stop_ans_wordcount'], df_dp_train['lemma_stop_q_wordcount'] = find_word_overlap(df_dp_train, True, True)\n"
   ]
  },
  {
   "cell_type": "code",
   "execution_count": 49,
   "metadata": {},
   "outputs": [],
   "source": [
    "# save df with new fields\n",
    "df_dp_train.to_pickle(\"./data_frames/dependency_parsing/df_dp_overlap_train.pkl\")"
   ]
  },
  {
   "cell_type": "code",
   "execution_count": 50,
   "metadata": {},
   "outputs": [
    {
     "name": "stdout",
     "output_type": "stream",
     "text": [
      "mean:  0.5623722923184103\n"
     ]
    },
    {
     "data": {
      "image/png": "[encoded data removed]",
      "text/plain": [
       "<Figure size 432x288 with 1 Axes>"
      ]
     },
     "metadata": {
      "needs_background": "light"
     },
     "output_type": "display_data"
    },
    {
     "name": "stdout",
     "output_type": "stream",
     "text": [
      "mean:  0.6354061738677123\n"
     ]
    },
    {
     "data": {
      "image/png": "[encoded data removed]",
      "text/plain": [
       "<Figure size 432x288 with 1 Axes>"
      ]
     },
     "metadata": {
      "needs_background": "light"
     },
     "output_type": "display_data"
    },
    {
     "name": "stdout",
     "output_type": "stream",
     "text": [
      "mean:  0.6118096257907627\n"
     ]
    },
    {
     "data": {
      "image/png": "[encoded data removed]",
      "text/plain": [
       "<Figure size 432x288 with 1 Axes>"
      ]
     },
     "metadata": {
      "needs_background": "light"
     },
     "output_type": "display_data"
    },
    {
     "name": "stdout",
     "output_type": "stream",
     "text": [
      "mean:  0.7061675821291206\n"
     ]
    },
    {
     "data": {
      "image/png": "[encoded data removed]",
      "text/plain": [
       "<Figure size 432x288 with 1 Axes>"
      ]
     },
     "metadata": {
      "needs_background": "light"
     },
     "output_type": "display_data"
    }
   ],
   "source": [
    "plot_normalized_overlap(df_dp_train, 'Fraction of overlapping words in question and sentence', 50, 'word')\n",
    "plot_normalized_overlap(df_dp_train, 'Fraction of overlapping words, stopwords removed, in question and sentence', 50, 'word_stop')\n",
    "plot_normalized_overlap(df_dp_train, 'Fraction of overlapping lemmas, in question and sentence', 50, 'lemma')\n",
    "plot_normalized_overlap(df_dp_train, 'Fraction of overlapping lemmas stopwords removed, in question and sentence', 50, 'lemma_stop')"
   ]
  },
  {
   "cell_type": "code",
   "execution_count": 51,
   "metadata": {},
   "outputs": [
    {
     "name": "stdout",
     "output_type": "stream",
     "text": [
      "Number of Q/A pairs that have no word overlap:  0.06548856548856549\n",
      "Number of Q/A pairs that have no word overlap (stopwords removed):  0.11330561330561331\n",
      "Number of lemmatized Q/A pairs that have no word overlap:  0.04261954261954262\n",
      "Number of lemmatized Q/A pairs that have no lemma overlap (stopwords removed):  0.07692307692307693\n"
     ]
    }
   ],
   "source": [
    "# find the question answer pairs where there is no / little overlap in words\n",
    "def print_overlap(filename, df, type):\n",
    "    with open(filename, 'w') as out:\n",
    "        for index, row in df.iterrows():\n",
    "            out.write('-------------------'+ '\\n')\n",
    "            out.write('overlapping words: ' + ' '.join(row[type+'_overlap_words']) + '\\n')\n",
    "            out.write('question: ' + row['question'] + '\\n')\n",
    "            out.write('answer: ' + row['answer'] + '\\n')\n",
    "            out.write('sentence with answer: '+ row['sent_with_ans']+ '\\n')\n",
    "\n",
    "\n",
    "\n",
    "df_train_little_overlap_word = df_dp_train.loc[df_dp_train['word_overlap_count'] == 0]\n",
    "print('Number of Q/A pairs that have no word overlap: ', len(df_train_little_overlap_word)/len(df_train))\n",
    "print_overlap('figures/question-answer-pairs-no-overlap-word.txt', df_train_little_overlap_word, 'word')\n",
    "\n",
    "df_train_little_overlap_word_stop = df_dp_train.loc[df_dp_train['word_stop_overlap_count'] == 0]\n",
    "print('Number of Q/A pairs that have no word overlap (stopwords removed): ', len(df_train_little_overlap_word_stop)/len(df_train))\n",
    "print_overlap('figures/question-answer-pairs-no-overlap-word-stop.txt', df_train_little_overlap_word_stop, 'word_stop')\n",
    "\n",
    "df_train_little_overlap_lemma = df_dp_train.loc[df_dp_train['lemma_overlap_count'] == 0]\n",
    "print('Number of lemmatized Q/A pairs that have no word overlap: ', len(df_train_little_overlap_lemma)/len(df_train))\n",
    "print_overlap('figures/question-answer-pairs-no-overlap-lemma.txt', df_train_little_overlap_lemma, 'lemma')\n",
    "\n",
    "df_train_little_overlap_lemma_stop = df_dp_train.loc[df_dp_train['lemma_stop_overlap_count'] == 0]\n",
    "print('Number of lemmatized Q/A pairs that have no lemma overlap (stopwords removed): ', len(df_train_little_overlap_lemma_stop)/len(df_train))\n",
    "print_overlap('figures/question-answer-pairs-no-overlap-lemma-stop.txt', df_train_little_overlap_lemma_stop, 'lemma_stop')"
   ]
  },
  {
   "cell_type": "code",
   "execution_count": null,
   "metadata": {},
   "outputs": [],
   "source": []
  }
 ],
 "metadata": {
  "interpreter": {
   "hash": "de4ab37d9aa598fa28430b4c5abb54602406a240d03eddec7af88b85de3986f7"
  },
  "kernelspec": {
   "display_name": "Python 3 (ipykernel)",
   "language": "python",
   "name": "python3"
  },
  "language_info": {
   "codemirror_mode": {
    "name": "ipython",
    "version": 3
   },
   "file_extension": ".py",
   "mimetype": "text/x-python",
   "name": "python",
   "nbconvert_exporter": "python",
   "pygments_lexer": "ipython3",
   "version": "3.7.11"
  }
 },
 "nbformat": 4,
 "nbformat_minor": 2
}
