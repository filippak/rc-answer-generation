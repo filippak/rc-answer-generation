{
 "cells": [
  {
   "cell_type": "markdown",
   "metadata": {},
   "source": [
    "# TextRank statistics\n",
    "Statistics for the data of how the sentences that the answers appear in rank (according to textrank applied to the paragraphs)\n",
    "\n",
    "https://github.com/dailykirt/ML_Enron_email_summary/blob/master/notebooks/Text_rank_summarization.ipynb\n",
    "\n",
    "Swedish bert model:\n",
    "https://huggingface.co/KB/bert-base-swedish-cased\n",
    "\n",
    "Alternative: https://huggingface.co/KBLab/sentence-bert-swedish-cased, with description: https://kb-labb.github.io/posts/2021-08-23-a-swedish-sentence-transformer/\n",
    "\n",
    "https://huggingface.co/sentence-transformers/distiluse-base-multilingual-cased-v2\n",
    "\n",
    "Idea for creating embeddings for a sentence: https://discuss.huggingface.co/t/generate-raw-word-embeddings-using-transformer-models-like-bert-for-downstream-process/2958\n",
    "\n",
    "good library for language features? https://spacy.io/usage/linguistic-features#vectors-similarity"
   ]
  },
  {
   "cell_type": "code",
   "execution_count": 1,
   "metadata": {},
   "outputs": [],
   "source": [
    "import pandas as pd\n",
    "from transformers import AutoModel,AutoTokenizer\n",
    "from sentence_transformers import SentenceTransformer\n",
    "import numpy as np\n",
    "import matplotlib.pyplot as plt\n",
    "\n",
    "# for sentence tokenization\n",
    "import nltk as nltk\n",
    "from nltk.corpus import stopwords\n",
    "from nltk.tokenize import word_tokenize, sent_tokenize\n",
    "\n",
    "# for textrank:\n",
    "from sklearn.metrics.pairwise import cosine_similarity\n",
    "import networkx as nx"
   ]
  },
  {
   "cell_type": "code",
   "execution_count": 21,
   "metadata": {},
   "outputs": [],
   "source": [
    "# load the data\n",
    "df_train = pd.read_pickle(\"./data_frames/df_train.pkl\")\n",
    "df_test = pd.read_pickle(\"./data_frames/df_test.pkl\")"
   ]
  },
  {
   "cell_type": "code",
   "execution_count": 22,
   "metadata": {},
   "outputs": [],
   "source": [
    "\n",
    "tokenizer = AutoTokenizer.from_pretrained('KB/bert-base-swedish-cased', do_lower_case=True)\n",
    "# model = AutoModel.from_pretrained('KB/bert-base-swedish-cased')\n",
    "model = SentenceTransformer('KBLab/sentence-bert-swedish-cased')"
   ]
  },
  {
   "cell_type": "code",
   "execution_count": 32,
   "metadata": {},
   "outputs": [],
   "source": [
    "def remove_stopwords_and_get_embedding(sentences, remove_stopwords=False):\n",
    "    tok_sentences = []\n",
    "    for sent in sentences:\n",
    "        # should use bert tokenizer?\n",
    "        if remove_stopwords:\n",
    "            sent = remove_stopwords_sentence(sent)\n",
    "        # using BERT tokenizer\n",
    "        tok_sent = tokenizer.tokenize(sent)\n",
    "        clean_sent = ' '.join(tok_sent)\n",
    "        tok_sentences.append(clean_sent)\n",
    "    return tok_sentences\n",
    "\n",
    "# Alternative to using the BERT tokenizer -- removes stopwords. Use together?\n",
    "def remove_stopwords_sentence(sentence):\n",
    " \n",
    "    stop_words = set(stopwords.words('swedish'))\n",
    "    word_tokens = word_tokenize(sentence)\n",
    "    filtered_sentence = [w for w in word_tokens if not w.lower() in stop_words]\n",
    "    filtered_sentence = []\n",
    "    \n",
    "    for w in word_tokens:\n",
    "        if w not in stop_words:\n",
    "            filtered_sentence.append(w)\n",
    "    \n",
    "    return ' '.join(filtered_sentence)"
   ]
  },
  {
   "cell_type": "code",
   "execution_count": 24,
   "metadata": {},
   "outputs": [],
   "source": [
    "# function to rank sentences by textrank\n",
    "# from https://github.com/dailykirt/ML_Enron_email_summary/blob/master/notebooks/Text_rank_summarization.ipynb\n",
    "def rank_sentences(sentences, sentence_vectors):\n",
    "    '''This function takes in a list of sentences to input into TextRank. The resulting ranks are what the model \n",
    "    calculated as the most important sentences. '''\n",
    "    sim_mat = np.zeros([len(sentences), len(sentences)])\n",
    "    #Initialize matrix with cosine similarity scores. \n",
    "    for i in range(len(sentences)):\n",
    "        for j in range(len(sentences)):\n",
    "            if i != j:\n",
    "                shape_len = len(sentence_vectors[i])\n",
    "                sim_mat[i][j] = cosine_similarity(sentence_vectors[i].reshape(1,shape_len), sentence_vectors[j].reshape(1,shape_len))[0,0]\n",
    "    nx_graph = nx.from_numpy_array(sim_mat)\n",
    "    \n",
    "    #Pair sentence with it's similarity score then sort.    \n",
    "    try:\n",
    "        scores = nx.pagerank(nx_graph)\n",
    "        ranked_sentences = sorted(((scores[i],s[0], s[1]) for i,s in enumerate(sentences)), reverse=True)\n",
    "    except:\n",
    "        ranked_sentences = sorted(((0,s[0], s[1]) for i,s in enumerate(sentences)), reverse=True)\n",
    "\n",
    "    return ranked_sentences"
   ]
  },
  {
   "cell_type": "code",
   "execution_count": 25,
   "metadata": {},
   "outputs": [],
   "source": [
    "# tokenize the data\n",
    "# https://huggingface.co/docs/transformers/quicktour\n",
    "def encode_context_sentences(df, remove_stopwords=False):\n",
    "    first_match = 0\n",
    "    top_match = 0\n",
    "    results_df = pd.DataFrame(columns=['answer', 'answer_loc', 'top_textrank_sent', 'top_textrank_loc', 'top_textrank_match', 'top_3_textrank_sents', 'top_3_textrank_loc', 'top_3_textrank_match', 'all_textrank_sents'])\n",
    "    for index, row in df.iterrows():\n",
    "        answer = row['correct_answer']\n",
    "        loc = row['answer_location']\n",
    "        # text = row['context'].lower()\n",
    "        sentences = row['context_parsed']\n",
    "        tok_context = remove_stopwords_and_get_embedding(sentences, remove_stopwords)\n",
    "        \n",
    "        # Encode sentences using Sentence BERT\n",
    "        embeddings = model.encode(tok_context)\n",
    "        embeddings = np.array(embeddings)\n",
    "    \n",
    "        # run textrank on the embeddings\n",
    "        # Make sentences tuple also containing ids to keep track of idx of sentences\n",
    "        sent_tuples = [ (s, i) for i,s in enumerate(tok_context) ] # array of tuples (sentence, idx)\n",
    "        ranked = rank_sentences(sent_tuples, embeddings)\n",
    "        top_3_textrank_loc = [s[2] for s in ranked[:3] ]\n",
    "        df_row = {'answer': answer, 'answer_loc': loc, 'top_textrank_sent': ranked[0], 'top_textrank_loc': ranked[0][2], 'top_textrank_match': False,\n",
    "            'top_3_textrank_sents':ranked[:3], 'top_3_textrank_loc': top_3_textrank_loc , 'top_3_textrank_match': False, 'all_textrank_sents': ranked, 'sentence_tuples': sent_tuples, 'sentence_embeddings': embeddings}\n",
    "        if loc == ranked[0][2]:\n",
    "            first_match += 1\n",
    "            df_row['top_textrank_match'] = True\n",
    "        if  loc in top_3_textrank_loc:\n",
    "            top_match += 1\n",
    "            df_row['top_3_textrank_match'] = True\n",
    "\n",
    "        results_df = results_df.append(df_row, ignore_index=True)\n",
    "    \n",
    "    return results_df, first_match, top_match"
   ]
  },
  {
   "cell_type": "code",
   "execution_count": 26,
   "metadata": {},
   "outputs": [
    {
     "name": "stdout",
     "output_type": "stream",
     "text": [
      "first:  32\n",
      "top:  96\n"
     ]
    }
   ],
   "source": [
    "# run without removing stopwords\n",
    "results_df_w_stopwords, first_match, top_match = encode_context_sentences(df_train) # Takes 55-60 min to run!\n",
    "print('first: ', first_match)\n",
    "print('top: ', top_match)"
   ]
  },
  {
   "cell_type": "code",
   "execution_count": 27,
   "metadata": {},
   "outputs": [
    {
     "name": "stdout",
     "output_type": "stream",
     "text": [
      "first:  35\n",
      "top:  110\n"
     ]
    }
   ],
   "source": [
    "# nltk.download('stopwords')\n",
    "# nltk.download('punkt')\n",
    "\n",
    "# Run with removing stopwords\n",
    "results_df_no_stopwords, first_match, top_match = encode_context_sentences(df_train, True) # Takes 45 min to run!\n",
    "print('first: ', first_match)\n",
    "print('top: ', top_match)"
   ]
  },
  {
   "cell_type": "code",
   "execution_count": 16,
   "metadata": {},
   "outputs": [],
   "source": [
    "# save textrank results to file\n",
    "results_df_w_stopwords.to_pickle(\"./data_frames/textrank/df_textrank_traindata_results.pkl\")\n",
    "results_df_no_stopwords.to_pickle(\"./data_frames/textrank/df_textrank_traindata_stopwords_results.pkl\")\n",
    "\n",
    "# Instances where top text rank sentence match location: 32/962\n",
    "# Instances where top 3 text rank sentence match location: 96/962\n",
    "\n",
    "# Instances where top text rank sentence (with stopword removal) match location: 35/962\n",
    "# Instances where top 3 text rank sentence (with stopword removal) match location: 110/962"
   ]
  },
  {
   "cell_type": "code",
   "execution_count": 17,
   "metadata": {},
   "outputs": [
    {
     "name": "stdout",
     "output_type": "stream",
     "text": [
      "first:  2\n",
      "top:  14\n"
     ]
    }
   ],
   "source": [
    "# run textrank on the test set\n",
    "results_df_w_stopwords_test, first_match_test, top_match_test = encode_context_sentences(df_test)\n",
    "\n",
    "print('first: ', first_match_test)\n",
    "print('top: ', top_match_test)"
   ]
  },
  {
   "cell_type": "code",
   "execution_count": 18,
   "metadata": {},
   "outputs": [
    {
     "name": "stdout",
     "output_type": "stream",
     "text": [
      "first:  2\n",
      "top:  14\n"
     ]
    }
   ],
   "source": [
    "# run textrank on the test set\n",
    "results_df_no_stopwords_test, first_match_test, top_match_test = encode_context_sentences(df_test)\n",
    "\n",
    "print('first: ', first_match_test)\n",
    "print('top: ', top_match_test)"
   ]
  },
  {
   "cell_type": "code",
   "execution_count": 28,
   "metadata": {},
   "outputs": [],
   "source": [
    "# save the test data\n",
    "results_df_w_stopwords_test.to_pickle(\"./data_frames/textrank/df_textrank_testdata_results.pkl\")\n",
    "results_df_no_stopwords_test.to_pickle(\"./data_frames/textrank/df_textrank_testdata_stopwords_results.pkl\")"
   ]
  },
  {
   "cell_type": "code",
   "execution_count": 29,
   "metadata": {},
   "outputs": [],
   "source": [
    "# for each sentence, check at what location it appears in the TextRank ranking\n",
    "results_df_no_stopwords_train = pd.read_pickle(\"./data_frames/textrank/df_textrank_traindata_stopwords_results.pkl\")\n",
    "results_df_w_stopwords_train = pd.read_pickle(\"./data_frames/textrank/df_textrank_traindata_results.pkl\")\n",
    "results_df_no_stopwords_test = pd.read_pickle(\"./data_frames/textrank/df_textrank_testdata_stopwords_results.pkl\")\n",
    "results_df_w_stopwords_test = pd.read_pickle(\"./data_frames/textrank/df_textrank_testdata_results.pkl\")\n"
   ]
  },
  {
   "cell_type": "code",
   "execution_count": 30,
   "metadata": {},
   "outputs": [],
   "source": [
    "def find_textrank_rankings(df):\n",
    "    textrank_locations = []\n",
    "    for index, row in df.iterrows():\n",
    "        rankings = row['all_textrank_sents'] # tuple (score, sentence, index)\n",
    "        num_sents = len(rankings)\n",
    "        ans_idx = row['answer_loc']\n",
    "        for idx, sentence in enumerate(rankings):\n",
    "            if sentence[2] == ans_idx:\n",
    "                textrank_locations.append(idx/num_sents)\n",
    "                break\n",
    "    return textrank_locations\n",
    "\n",
    "# create histogram of in which sentence the answer appear\n",
    "def plot_textrank_stats(ranking, title, bins):\n",
    "    mean = np.mean(ranking)\n",
    "    plt.hist(ranking, density=True, bins=bins)\n",
    "    plt.axvline(mean, color='g', linestyle='dashed', linewidth=1, label='mean: {:.2f}'.format(mean))\n",
    "    plt.ylabel('Vol')\n",
    "    plt.xlabel('Textrank ranking')\n",
    "    plt.title(title)\n",
    "    plt.legend()\n",
    "    plt.show()"
   ]
  },
  {
   "cell_type": "code",
   "execution_count": 31,
   "metadata": {},
   "outputs": [
    {
     "data": {
      "image/png": "[encoded data removed]",
      "text/plain": [
       "<Figure size 432x288 with 1 Axes>"
      ]
     },
     "metadata": {
      "needs_background": "light"
     },
     "output_type": "display_data"
    },
    {
     "data": {
      "image/png": "[encoded data removed]",
      "text/plain": [
       "<Figure size 432x288 with 1 Axes>"
      ]
     },
     "metadata": {
      "needs_background": "light"
     },
     "output_type": "display_data"
    },
    {
     "data": {
      "image/png": "[encoded data removed]",
      "text/plain": [
       "<Figure size 432x288 with 1 Axes>"
      ]
     },
     "metadata": {
      "needs_background": "light"
     },
     "output_type": "display_data"
    },
    {
     "data": {
      "image/png": "[encoded data removed]",
      "text/plain": [
       "<Figure size 432x288 with 1 Axes>"
      ]
     },
     "metadata": {
      "needs_background": "light"
     },
     "output_type": "display_data"
    }
   ],
   "source": [
    "textrank_locations_no_stopwords_train = find_textrank_rankings(results_df_no_stopwords_train)\n",
    "plot_textrank_stats(textrank_locations_no_stopwords_train, 'TextRank of sentence with answer (stopwords removed), training set', 20)\n",
    "textrank_locations_w_stopwords_train = find_textrank_rankings(results_df_w_stopwords_train)\n",
    "plot_textrank_stats(textrank_locations_w_stopwords_train, 'TextRank of sentence with answer, training set', 20)\n",
    "\n",
    "textrank_locations_no_stopwords_test = find_textrank_rankings(results_df_no_stopwords_test)\n",
    "plot_textrank_stats(textrank_locations_no_stopwords_test, 'TextRank ranking of sentence with answer (stopwords removed), test set', 20)\n",
    "textrank_locations_w_stopwords_test = find_textrank_rankings(results_df_w_stopwords_test)\n",
    "plot_textrank_stats(textrank_locations_w_stopwords_test, 'TextRank ranking of sentence with answer, test set', 20)"
   ]
  },
  {
   "cell_type": "code",
   "execution_count": null,
   "metadata": {},
   "outputs": [],
   "source": []
  }
 ],
 "metadata": {
  "interpreter": {
   "hash": "de4ab37d9aa598fa28430b4c5abb54602406a240d03eddec7af88b85de3986f7"
  },
  "kernelspec": {
   "display_name": "Python 3.7.11 64-bit ('dp': conda)",
   "language": "python",
   "name": "python3"
  },
  "language_info": {
   "codemirror_mode": {
    "name": "ipython",
    "version": 3
   },
   "file_extension": ".py",
   "mimetype": "text/x-python",
   "name": "python",
   "nbconvert_exporter": "python",
   "pygments_lexer": "ipython3",
   "version": "3.7.11"
  },
  "orig_nbformat": 4
 },
 "nbformat": 4,
 "nbformat_minor": 2
}
