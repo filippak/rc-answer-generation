{
 "cells": [
  {
   "cell_type": "markdown",
   "metadata": {},
   "source": [
    "# Functions for creating annotated dataset for binary sequence classification.\n",
    "## The sequence in this case is a sentence, and it is a positive sample if deemed relevant in the data pre-processing"
   ]
  },
  {
   "cell_type": "code",
   "execution_count": 1,
   "metadata": {},
   "outputs": [],
   "source": [
    "# necessary library imports\n",
    "import pandas as pd\n",
    "import numpy as np"
   ]
  },
  {
   "cell_type": "code",
   "execution_count": 2,
   "metadata": {},
   "outputs": [],
   "source": [
    "df_train_cleaned = pd.read_pickle(\"../data_frames/df_train_cleaned.pkl\")\n",
    "df_relevant_sentences = pd.read_pickle(\"../data_frames/df_relevant_sentences_lemma_stop.pkl\")"
   ]
  },
  {
   "cell_type": "code",
   "execution_count": 10,
   "metadata": {},
   "outputs": [],
   "source": [
    "# create the dataset with the corresponding labels\n",
    "def label_data(df, df_relevant_sentences):\n",
    "    data_map = {}\n",
    "    num_removed = 0\n",
    "    for index, row in df.iterrows():\n",
    "        sentences = row['context_raw']\n",
    "        answer = row['correct_answer_raw']\n",
    "        sent_with_ans_id = row['answer_location']\n",
    "        relevant_sentence_ids = df_relevant_sentences.iloc[index]['ranked_matching_sentence_ids']\n",
    "        sent_ids = [sent_with_ans_id]\n",
    "        \n",
    "        count = 0\n",
    "        # add (max 3 including sentence with answer) highest ranked sententces\n",
    "        for sent_id in relevant_sentence_ids:\n",
    "            if count < 2 and sent_id != sent_with_ans_id:\n",
    "                sent_ids.append(sent_id)\n",
    "                count += 1\n",
    "        \n",
    "        # label all sentences and add to map\n",
    "        for idx, sent in enumerate(sentences):\n",
    "            key = ' '.join(sent)\n",
    "            label = 0\n",
    "            if idx in sent_ids: # sentence is relevant!\n",
    "                label = 1\n",
    "            if key in data_map:\n",
    "                if label > 0:\n",
    "                    data_map[key]['label'] = label\n",
    "            else:\n",
    "                data_point = {'context_nr': index, 'label': label, 'sentence': sent }\n",
    "                data_map[key] = data_point\n",
    "                \n",
    "    \n",
    "    # format labels and add answer labels\n",
    "    for v in data_map.values():\n",
    "        v['label'] = int(v['label'])\n",
    "    labeled_data = list(data_map.values())\n",
    "    print('num data points: ', len(labeled_data))\n",
    "    return labeled_data"
   ]
  },
  {
   "cell_type": "code",
   "execution_count": 11,
   "metadata": {},
   "outputs": [
    {
     "name": "stdout",
     "output_type": "stream",
     "text": [
      "num data points:  8280\n"
     ]
    },
    {
     "data": {
      "text/html": [
       "<div>\n",
       "<style scoped>\n",
       "    .dataframe tbody tr th:only-of-type {\n",
       "        vertical-align: middle;\n",
       "    }\n",
       "\n",
       "    .dataframe tbody tr th {\n",
       "        vertical-align: top;\n",
       "    }\n",
       "\n",
       "    .dataframe thead th {\n",
       "        text-align: right;\n",
       "    }\n",
       "</style>\n",
       "<table border=\"1\" class=\"dataframe\">\n",
       "  <thead>\n",
       "    <tr style=\"text-align: right;\">\n",
       "      <th></th>\n",
       "      <th>context_nr</th>\n",
       "      <th>label</th>\n",
       "      <th>sentence</th>\n",
       "    </tr>\n",
       "  </thead>\n",
       "  <tbody>\n",
       "    <tr>\n",
       "      <th>0</th>\n",
       "      <td>0</td>\n",
       "      <td>0</td>\n",
       "      <td>[Visum, för, affärs-, och, konferensbesök]</td>\n",
       "    </tr>\n",
       "    <tr>\n",
       "      <th>1</th>\n",
       "      <td>0</td>\n",
       "      <td>1</td>\n",
       "      <td>[Om, du, ska, besöka, Sverige, för, ett, affär...</td>\n",
       "    </tr>\n",
       "    <tr>\n",
       "      <th>2</th>\n",
       "      <td>0</td>\n",
       "      <td>1</td>\n",
       "      <td>[Visum, är, ett, tillstånd, för, att, resa, in...</td>\n",
       "    </tr>\n",
       "    <tr>\n",
       "      <th>3</th>\n",
       "      <td>0</td>\n",
       "      <td>0</td>\n",
       "      <td>[För, att, få, visum, behöver, du, en, inbjuda...</td>\n",
       "    </tr>\n",
       "    <tr>\n",
       "      <th>4</th>\n",
       "      <td>0</td>\n",
       "      <td>1</td>\n",
       "      <td>[Du, ska, visa, att, du, har, pengar, för, dit...</td>\n",
       "    </tr>\n",
       "  </tbody>\n",
       "</table>\n",
       "</div>"
      ],
      "text/plain": [
       "   context_nr  label                                           sentence\n",
       "0           0      0         [Visum, för, affärs-, och, konferensbesök]\n",
       "1           0      1  [Om, du, ska, besöka, Sverige, för, ett, affär...\n",
       "2           0      1  [Visum, är, ett, tillstånd, för, att, resa, in...\n",
       "3           0      0  [För, att, få, visum, behöver, du, en, inbjuda...\n",
       "4           0      1  [Du, ska, visa, att, du, har, pengar, för, dit..."
      ]
     },
     "execution_count": 11,
     "metadata": {},
     "output_type": "execute_result"
    }
   ],
   "source": [
    "labeled_data = label_data(df_train_cleaned, df_relevant_sentences)\n",
    "labeled_df = pd.DataFrame(labeled_data)\n",
    "labeled_df.to_pickle(\"./data/labeled_sentence_classification_training_data.pkl\")\n",
    "labeled_df.head()"
   ]
  },
  {
   "cell_type": "code",
   "execution_count": null,
   "metadata": {},
   "outputs": [],
   "source": []
  }
 ],
 "metadata": {
  "interpreter": {
   "hash": "de4ab37d9aa598fa28430b4c5abb54602406a240d03eddec7af88b85de3986f7"
  },
  "kernelspec": {
   "display_name": "Python 3.7.11 ('dp')",
   "language": "python",
   "name": "python3"
  },
  "language_info": {
   "codemirror_mode": {
    "name": "ipython",
    "version": 3
   },
   "file_extension": ".py",
   "mimetype": "text/x-python",
   "name": "python",
   "nbconvert_exporter": "python",
   "pygments_lexer": "ipython3",
   "version": "3.7.11"
  },
  "orig_nbformat": 4
 },
 "nbformat": 4,
 "nbformat_minor": 2
}
