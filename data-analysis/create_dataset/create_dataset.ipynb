{
 "cells": [
  {
   "cell_type": "markdown",
   "metadata": {},
   "source": [
    "# Create the C -> A dataset to be used by the fine-tuned BERT classifier"
   ]
  },
  {
   "cell_type": "markdown",
   "metadata": {},
   "source": [
    "## Questions and thoughts\n",
    "- Tutorial: https://huggingface.co/docs/transformers/custom_datasets\n",
    "- Context texts must be limited to 512 tokens (Limit for BERT model)\n",
    "- When labeling the dataset, should the labels be start, end, or start and inside? In other projects (with answer extraction) it seems they use start, end..\n",
    "- Another option is to insert a higlight token around the sentence containing the answer, and then append the answers after a [SEP] token. As in: \n",
    "- There are multiple answer spans in the same context text.. Should those be labeled jointly? / should I have multiple instances of the same texts?\n",
    "- My idea is to use the original text, no stopword removal or lemmatization."
   ]
  },
  {
   "cell_type": "code",
   "execution_count": 1,
   "metadata": {},
   "outputs": [],
   "source": [
    "labels = [\n",
    "    \"0\",\n",
    "    \"B-answer\",\n",
    "    \"I-answer\",\n",
    "]"
   ]
  },
  {
   "cell_type": "code",
   "execution_count": 2,
   "metadata": {},
   "outputs": [],
   "source": [
    "# necessary library imports\n",
    "import pandas as pd\n",
    "import numpy as np"
   ]
  },
  {
   "cell_type": "code",
   "execution_count": 3,
   "metadata": {},
   "outputs": [],
   "source": [
    "# data imports, to be combined into the final datastructure\n",
    "df_train_cleaned = pd.read_pickle(\"../data_frames/df_train_cleaned.pkl\")\n",
    "df_test = pd.read_pickle(\"../data_frames/df_test.pkl\")"
   ]
  },
  {
   "cell_type": "code",
   "execution_count": 4,
   "metadata": {},
   "outputs": [],
   "source": [
    "def find_answer_start(answer, sent):\n",
    "    for idx, word in enumerate(sent):\n",
    "        if answer[0] in word:\n",
    "            is_match = True\n",
    "            for i in range(len(answer)):\n",
    "                if answer[i] not in sent[idx+i] :\n",
    "                    is_match = False\n",
    "            if is_match:\n",
    "                return idx\n",
    "\n",
    "    return None"
   ]
  },
  {
   "cell_type": "code",
   "execution_count": 5,
   "metadata": {},
   "outputs": [],
   "source": [
    "def get_tokens_and_labels(sentences, answer, sent_with_ans_id):\n",
    "    context_text = []\n",
    "    all_labels = []\n",
    "\n",
    "    # get the labels and tokens for current sentence\n",
    "    for idx, sent in enumerate(sentences):\n",
    "        context_text += sent # concatenate all sentences to a list of consecutive tokens\n",
    "        labels = np.zeros(len(sent))\n",
    "        if idx == sent_with_ans_id:\n",
    "            # the answer is contained in this sentence!\n",
    "            idx_s = find_answer_start(answer, sent)\n",
    "            labels[idx_s] = 1\n",
    "            for i in range(len(answer)-1):\n",
    "                labels[idx_s + i + 1] = 2\n",
    "        all_labels.append(labels)\n",
    "    l = np.concatenate(all_labels).ravel()\n",
    "    return context_text, l\n"
   ]
  },
  {
   "cell_type": "code",
   "execution_count": 6,
   "metadata": {},
   "outputs": [],
   "source": [
    "# create the dataset with the corresponding labels\n",
    "def label_data(df):\n",
    "    data_map = {}\n",
    "    num_removed = 0\n",
    "    for index, row in df.iterrows():\n",
    "        sentences = row['context_raw']\n",
    "        sent_with_ans_id = row['answer_location']\n",
    "        answer = row['correct_answer_raw']\n",
    "\n",
    "        context_text, labels = get_tokens_and_labels(sentences, answer, sent_with_ans_id)\n",
    "\n",
    "        # check if the current text is in the data map, and update the labels accordingly!\n",
    "        if row['context'] in data_map:\n",
    "            old_point = data_map[row['context']]\n",
    "            o_labels = old_point['labels'].copy()\n",
    "            add_answer_label = True\n",
    "            for idx, label in enumerate(labels):\n",
    "                if label > 0:\n",
    "                    if o_labels[idx] == 0:\n",
    "                        o_labels[idx] = label\n",
    "                    elif label != o_labels[idx]:\n",
    "                        print('setting class 3 ...')\n",
    "                        print('answer: ', answer)\n",
    "                        print('existing answer: ', old_point['answers'])\n",
    "                        print('context: ', context_text)\n",
    "                        o_labels[idx] = 3\n",
    "                        add_answer_label = False # this means the answers are overlapping, but not equal! -> don't want this\n",
    "                        num_removed += 1\n",
    "                    else:\n",
    "                        print('labels are a match! ')\n",
    "                        add_answer_label = False\n",
    "                        num_removed += 1\n",
    "            if add_answer_label:\n",
    "                old_point['labels'] = o_labels\n",
    "                old_point['answers'].append(answer)\n",
    "                data_map[row['context']] = old_point\n",
    "                \n",
    "        else:\n",
    "            data_point = { 'id': index, 'labels': labels, 'tokens': context_text, 'answers': [answer] }\n",
    "            data_map[row['context']] = data_point\n",
    "    \n",
    "    print('num removed: ', num_removed)\n",
    "    # make labels josn compatible..\n",
    "    for v in data_map.values():\n",
    "        v['labels'] = [ int(x) for x in v['labels']]\n",
    "    labeled_data = list(data_map.values())\n",
    "    print('num data points: ', len(labeled_data))\n",
    "    return labeled_data\n"
   ]
  },
  {
   "cell_type": "code",
   "execution_count": 7,
   "metadata": {},
   "outputs": [
    {
     "name": "stdout",
     "output_type": "stream",
     "text": [
      "labels are a match! \n",
      "labels are a match! \n",
      "labels are a match! \n",
      "setting class 3 ...\n",
      "answer:  ['verkstäder']\n",
      "existing answer:  [['ljuskronor'], ['i', 'små', 'verkstäder']]\n",
      "context:  ['Smed/', 'Stålbyggare', 'Smeder', 'och', 'stålbyggare', 'arbetar', 'på', 'byggarbetsplatser', ',', 'verkstäder', ',', 'stålverk', 'eller', 'plåtslagerier', '.', 'Konstsmeder', 'arbetar', 'i', 'små', 'verkstäder', '.', 'Som', 'konstsmed', 'är', 'man', 'oftast', 'egen', 'företagare', '.', 'Arbetsuppgifter', 'Smeder', 'och', 'stålbyggare', 'utför', 'allt', 'från', 'stommar', 'till', 'inrednings-', 'och', 'utsmyckningsdetaljer', 'i', 'samband', 'med', 'ny-', 'eller', 'ombyggnation', '.', 'Stålbyggnad', 'används', 'alltmer', 'när', 'det', 'gäller', 'industrialiserat', 'byggande', '.', 'Stommarna', 'tillverkas', 'på', 'en', 'verkstad', ',', 'kontrolleras', 'och', 'CE-märks', 'och', 'skickas', 'sedan', 'ut', 'till', 'byggarbetsplatsen', '.', 'I', 'verkstaden', 'kapas', 'balkar', 'och', 'pelare', 'till', 'rätt', 'längd', ',', 'hål', 'stansas', 'eller', 'borras', 'och', 'delarna', 'svetsas', 'ihop', 'till', 'större', 'enheter', 'som', 'sedan', 'i', 'huvudsak', 'skruvas', 'ihop', 'på', 'byggarbetsplatsen', '.', 'Man', 'gör', 'produkter', 'i', 'olika', 'storlekar', 'och', 'med', 'olika', 'grad', 'av', 'svårighetsgrad', '.', 'I', 'jobbet', 'kan', 'ingå', 'både', 'att', 'svetsa', ',', 'reparera', 'och', 'montera', 'delar', 'till', 'en', 'helhet', '.', 'Man', 'arbetar', 'med', 'olika', 'slags', 'svetstekniker', 'och', 'krav', 'på', 'svetslicens', 'gäller', 'för', 'flertalet', 'uppdrag', 'inom', 'yrket', '.', 'En', 'kunnig', 'smed', 'eller', 'stålbyggare', 'behärskar', 'oftast', 'flera', 'olika', 'svetstekniker', ',', 'olika', 'material', 'och', 'har', 'även', 'visst', 'konstruktionskunnande', '.', 'Smeder', 'och', 'stålbyggare', 'brukar', 'själva', 'leverera', 'material/verktyg', 'till', 'arbetsplatsen', 'och', 'därför', 'är', 'körkort', 'ofta', 'nödvändigt', '.', 'Som', 'företagets', 'representant', 'på', 'arbetsplatsen', 'krävs', 'också', 'förmåga', 'att', 'samarbeta', 'med', 'uppdragsgivaren', 'och', 'med', 'andra', 'entreprenörer', '.', 'De', 'flesta', 'smedjor', 'och', 'stålbyggandsföretag', 'har', 'mindre', 'än', '15', 'anställda', '.', 'En', 'konstsmed', 'är', 'formgivare', 'och', 'arbetar', 'med', 'konsthantverk', 'eller', 'enbart', 'med', 'konst', 'eller', 'hantverk', 'var', 'för', 'sig', '.', 'De', 'tillverkar', 'bland', 'annat', 'ljuskronor', ',', 'grindar', ',', 'skulpturer', 'eller', 'inredningsdetaljer', '.', 'En', 'del', 'konstsmeder', 'är', 'specialiserade', 'på', 'att', 'tillverka', 'vackra', 'knivar', 'eller', 'andra', 'eggverktyg', '.', 'Konstmeder', 'är', 'vanligen', 'intresserade', 'av', 'att', 'teckna', 'och', 'har', 'konstnärliga', 'intressen', '.', 'De', 'arbetar', 'i', 'en', 'konstsmedja', 'huvudsakligen', 'med', 'järn', 'som', 'värms', 'i', 'en', 'ässja', 'och', 'smides', 'till', 'sin', 'rätta', 'form', 'på', 'städ', 'eller', 'i', 'maskinhammare', '.', 'Även', 'svetsning', ',', 'nitning', 'och', 'många', 'andra', 'arbetsmoment', 'förekommer', '.', 'Arbetsmiljö', 'I', 'verkstaden', 'är', 'det', 'bullrigt', '.', 'Man', 'måste', 'följa', 'de', 'skyddsföreskrifter', 'som', 'gäller', 'bland', 'annat', 'i', 'samband', 'med', 'svetsning', '.']\n",
      "setting class 3 ...\n",
      "answer:  ['verkstäder']\n",
      "existing answer:  [['ljuskronor'], ['i', 'små', 'verkstäder']]\n",
      "context:  ['Smed/', 'Stålbyggare', 'Smeder', 'och', 'stålbyggare', 'arbetar', 'på', 'byggarbetsplatser', ',', 'verkstäder', ',', 'stålverk', 'eller', 'plåtslagerier', '.', 'Konstsmeder', 'arbetar', 'i', 'små', 'verkstäder', '.', 'Som', 'konstsmed', 'är', 'man', 'oftast', 'egen', 'företagare', '.', 'Arbetsuppgifter', 'Smeder', 'och', 'stålbyggare', 'utför', 'allt', 'från', 'stommar', 'till', 'inrednings-', 'och', 'utsmyckningsdetaljer', 'i', 'samband', 'med', 'ny-', 'eller', 'ombyggnation', '.', 'Stålbyggnad', 'används', 'alltmer', 'när', 'det', 'gäller', 'industrialiserat', 'byggande', '.', 'Stommarna', 'tillverkas', 'på', 'en', 'verkstad', ',', 'kontrolleras', 'och', 'CE-märks', 'och', 'skickas', 'sedan', 'ut', 'till', 'byggarbetsplatsen', '.', 'I', 'verkstaden', 'kapas', 'balkar', 'och', 'pelare', 'till', 'rätt', 'längd', ',', 'hål', 'stansas', 'eller', 'borras', 'och', 'delarna', 'svetsas', 'ihop', 'till', 'större', 'enheter', 'som', 'sedan', 'i', 'huvudsak', 'skruvas', 'ihop', 'på', 'byggarbetsplatsen', '.', 'Man', 'gör', 'produkter', 'i', 'olika', 'storlekar', 'och', 'med', 'olika', 'grad', 'av', 'svårighetsgrad', '.', 'I', 'jobbet', 'kan', 'ingå', 'både', 'att', 'svetsa', ',', 'reparera', 'och', 'montera', 'delar', 'till', 'en', 'helhet', '.', 'Man', 'arbetar', 'med', 'olika', 'slags', 'svetstekniker', 'och', 'krav', 'på', 'svetslicens', 'gäller', 'för', 'flertalet', 'uppdrag', 'inom', 'yrket', '.', 'En', 'kunnig', 'smed', 'eller', 'stålbyggare', 'behärskar', 'oftast', 'flera', 'olika', 'svetstekniker', ',', 'olika', 'material', 'och', 'har', 'även', 'visst', 'konstruktionskunnande', '.', 'Smeder', 'och', 'stålbyggare', 'brukar', 'själva', 'leverera', 'material/verktyg', 'till', 'arbetsplatsen', 'och', 'därför', 'är', 'körkort', 'ofta', 'nödvändigt', '.', 'Som', 'företagets', 'representant', 'på', 'arbetsplatsen', 'krävs', 'också', 'förmåga', 'att', 'samarbeta', 'med', 'uppdragsgivaren', 'och', 'med', 'andra', 'entreprenörer', '.', 'De', 'flesta', 'smedjor', 'och', 'stålbyggandsföretag', 'har', 'mindre', 'än', '15', 'anställda', '.', 'En', 'konstsmed', 'är', 'formgivare', 'och', 'arbetar', 'med', 'konsthantverk', 'eller', 'enbart', 'med', 'konst', 'eller', 'hantverk', 'var', 'för', 'sig', '.', 'De', 'tillverkar', 'bland', 'annat', 'ljuskronor', ',', 'grindar', ',', 'skulpturer', 'eller', 'inredningsdetaljer', '.', 'En', 'del', 'konstsmeder', 'är', 'specialiserade', 'på', 'att', 'tillverka', 'vackra', 'knivar', 'eller', 'andra', 'eggverktyg', '.', 'Konstmeder', 'är', 'vanligen', 'intresserade', 'av', 'att', 'teckna', 'och', 'har', 'konstnärliga', 'intressen', '.', 'De', 'arbetar', 'i', 'en', 'konstsmedja', 'huvudsakligen', 'med', 'järn', 'som', 'värms', 'i', 'en', 'ässja', 'och', 'smides', 'till', 'sin', 'rätta', 'form', 'på', 'städ', 'eller', 'i', 'maskinhammare', '.', 'Även', 'svetsning', ',', 'nitning', 'och', 'många', 'andra', 'arbetsmoment', 'förekommer', '.', 'Arbetsmiljö', 'I', 'verkstaden', 'är', 'det', 'bullrigt', '.', 'Man', 'måste', 'följa', 'de', 'skyddsföreskrifter', 'som', 'gäller', 'bland', 'annat', 'i', 'samband', 'med', 'svetsning', '.']\n",
      "setting class 3 ...\n",
      "answer:  ['kampanj']\n",
      "existing answer:  [['en', 'kampanj', ',', 'även', 'kallad', 'för', 'marknadsplan', ',', 'i', 'form', 'av', 'säljstrategier']]\n",
      "context:  ['Marknadsförare', 'Marknadsförare', ',', 'även', 'kallad', 'marknadsanalytiker', 'eller', 'marknadskommunikatör', ',', 'arbetar', 'på', 'företag', 'som', 'anlitas', 'på', 'uppdrag', 'av', 'andra', 'verksamheter', 'som', 'vill', 'ha', 'hjälp', 'med', 'sin', 'marknadsföring', '.', 'På', 'större', 'företag', 'är', 'marknadsföraren', 'ofta', 'del', 'av', 'en', 'marknadsavdelning', '.', 'Det', 'är', 'även', 'vanligt', 'att', 'marknadsföraren', 'är', 'ensamt', 'ansvarig', 'för', 'marknadsföringen', 'i', 'en', 'organisation', '.', 'Arbetsuppgifter', 'Marknadsförarens', 'viktigaste', 'uppgift', 'är', 'att', 'skapa', 'publicitet', 'och', 'uppmärksamhet', 'för', 'andra', 'företags', 'produkter', ',', 'tjänster', 'eller', 'idéer', '.', 'Detta', 'kallas', 'för', 'marknadsföring', 'och', 'innehåller', 'många', 'steg', '.', 'Först', 'analyserar', 'marknadsföraren', 'en', 'viss', 'marknad', ',', 'dess', 'produkter', 'och', 'konkurrenter', ',', 'för', 'att', 'skapa', 'en', 'helhetsblick', 'av', 'marknaden', '.', 'Målet', 'är', 'att', 'ta', 'reda', 'på', 'hur', 'marknadsföringen', 'ska', 'utformas', 'eller', 'hur', 'produkterna', 'kan', 'förbättras', 'för', 'att', 'de', 'ska', 'sälja', 'mer', '.', 'Det', 'är', 'vanligt', 'att', 'skicka', 'ut', 'enkäter', 'eller', 'utföra', 'undersökningar', 'för', 'att', 'samla', 'denna', 'information', '.', 'Marknadsföraren', 'ska', 'även', 'vara', 'uppdaterad', 'inom', 'sociala', 'medier', 'för', 'att', 'kunna', 'anpassa', 'och', 'agera', 'på', 'aktuella', 'trender', 'och', 'information', '.', 'Därefter', 'skapar', 'marknadsföraren', 'en', 'kampanj', ',', 'även', 'kallad', 'för', 'marknadsplan', ',', 'i', 'form', 'av', 'säljstrategier', '.', 'Kampanjen', 'kan', 'ske', 'lokalt', ',', 'nationellt', 'och', 'globalt', '.', 'Marknadsföraren', 'projektleder', 'och', 'ansvarar', 'för', 'att', 'planera', ',', 'genomföra', ',', 'följa', 'upp', 'och', 'utvärdera', 'denna', 'kampanj', '.', 'Det', 'gäller', 'att', 'ha', 'en', 'känsla', 'för', 'när', 'och', 'hur', 'kampanjen', 'ska', 'utföras', '.', 'Målet', 'är', 'att', 'försöka', 'få', 'rätt', 'produkt', ',', 'eller', 'tjänst', ',', 'till', 'kunden', 'på', 'rätt', 'plats', 'och', 'vid', 'rätt', 'tidpunkt', '.', 'Då', 'är', 'chanserna', 'goda', 'för', 'att', 'strategin', 'lyckas', '.', 'Eftersom', 'marknadsföraren', 'anpassar', 'sin', 'marknadsplan', 'för', 'kunderna', 'så', 'kan', 'den', 'se', 'ut', 'på', 'olika', 'sätt', '.', 'Bland', 'annat', 'kan', 'marknadsföraren', 'skapa', 'annonser', 'och', 'broschyrer', '.', 'Internet', ',', 'tidningar', ',', 'radio', 'och', 'TV', 'är', 'andra', 'exempel', 'på', 'användbara', 'kanaler', 'som', 'marknadsföraren', 'bör', 'förstå', 'och', 'behärska', '.', 'En', 'marknadsförare', 'ska', 'även', 'synliggöra', 'den', 'egna', 'verksamheten', 'och', 'andras', 'verksamheter', 'genom', 'att', 'jobba', 'med', 'digitala', 'plattformar', ',', 'exempelvis', 'sökmotorer', 'och', 'sociala', 'medier', '.']\n",
      "setting class 3 ...\n",
      "answer:  ['en']\n",
      "existing answer:  [['cirka', 'en', 'vecka']]\n",
      "context:  ['Uppehållstillstånd', 'för', 'medborgare', 'i', 'Schweiz', 'Kortare', 'handläggningstid', 'för', 'komplett', 'ansökan', 'För', 'att', 'Migrationsverket', 'ska', 'kunna', 'fatta', 'beslut', 'i', 'ditt', 'ärende', 'krävs', 'det', 'att', 'alla', 'uppgifter', 'är', 'ifyllda', 'och', 'alla', 'nödvändiga', 'dokument', 'finns', 'med', '.', 'Det', 'innebär', 'att', 'handläggningstiden', 'blir', 'kortare', 'om', 'allt', 'som', 'krävs', 'finns', 'med', 'från', 'början', 'än', 'om', 'ansökan', 'kompletteras', 'i', 'efterhand', '.', 'Observera', 'att', 'Migrationsverket', 'i', 'vissa', 'fall', 'kan', 'behöva', 'utreda', 'ansökan', 'ytterligare', 'även', 'om', 'alla', 'uppgifter', 'är', 'ifyllda', 'och', 'alla', 'dokument', 'har', 'skickats', 'med', '.', 'När', 'vi', 'har', 'tagit', 'emot', 'din', 'ansökan', 'Om', 'du', 'får', 'tillstånd', 'för', 'mer', 'än', 'tre', 'månader', 'får', 'du', 'ett', 'uppehållstillståndskort', '.', 'Kortet', 'är', 'ett', 'bevis', 'på', 'att', 'du', 'har', 'tillstånd', 'att', 'vara', 'i', 'Sverige', 'och', 'innehåller', 'bland', 'annat', 'foto', 'på', 'dig', 'och', 'dina', 'fingeravtryck', '.', 'Du', 'ska', 'därför', 'boka', 'tid', 'för', 'att', 'bli', 'fotograferad', 'och', 'lämna', 'dina', 'fingeravtryck', 'så', 'snart', 'som', 'möjligt', 'efter', 'det', 'att', 'du', 'lämnat', 'in', 'din', 'ansökan', '.', 'Det', 'behöver', 'du', 'göra', 'även', 'om', 'du', 'tidigare', 'haft', 'ett', 'uppehållstillståndskort', 'eftersom', 'Migrationsverket', 'inte', 'får', 'spara', 'ditt', 'foto', 'och', 'dina', 'fingeravtryck', '.', 'Efter', 'beslut', 'När', 'beslutet', 'är', 'klart', 'skickas', 'det', 'hem', 'till', 'din', 'adress', 'i', 'Sverige', '.', 'Som', 'arbetstagare', ',', 'egen', 'företagare', 'eller', 'om', 'du', 'har', 'tillräckliga', 'medel', 'för', 'din', 'försörjning', 'kan', 'du', 'få', 'tillstånd', 'för', 'högst', 'fem', 'år', '.', 'Om', 'du', 'är', 'studerande', 'får', 'du', 'tillstånd', 'för', 'den', 'tid', 'som', 'studierna', 'gäller', ',', 'dock', 'för', 'högst', 'ett', 'år', 'i', 'taget', '.', 'När', 'uppehållstillståndskortet', 'är', 'klart', 'skickas', 'det', 'hem', 'till', 'dig', 'inom', 'cirka', 'en', 'vecka', '.', 'Om', 'du', 'ska', 'fortsätta', 'bo', 'i', 'Sverige', 'efter', 'att', 'ditt', 'tillstånd', 'gått', 'ut', 'lämnar', 'du', 'in', 'en', 'ansökan', 'om', 'att', 'förlänga', 'ditt', 'tillstånd', '.', 'Migrationsverket', 'kan', 'återkalla', 'ett', 'tillstånd', 'Ditt', 'tillstånd', 'kan', 'återkallas', 'om', 'du', 'uppgav', 'en', 'falsk', 'identitet', 'när', 'du', 'ansökte', 'om', 'uppehållstillstånd', ',', 'eller', 'om', 'du', 'medvetet', 'ljög', 'eller', 'inte', 'berättade', 'om', 'något', 'som', 'hade', 'betydelse', 'för', 'ditt', 'uppehållstillstånd', 'Tillstånd', 'för', 'din', 'familj', 'Din', 'familj', 'kan', 'få', 'uppehållstillstånd', 'för', 'samma', 'tid', 'som', 'du', '.', 'Som', 'familj', 'räknas', 'din', 'partner', '(', 'sambo', ',', 'make/maka', 'eller', 'registrerad', 'partner', ')', 'dina', 'eller', 'din', 'partners', 'ogifta', 'barn', 'under', '21', 'år', 'dina', 'eller', 'din', 'partners', 'barn', 'över', '21', 'år', 'om', 'de', 'är', 'beroende', 'av', 'er', 'för', 'sin', 'försörjning', 'dina', 'eller', 'din', 'partners', 'föräldrar', 'som', 'är', 'ekonomiskt', 'beroende', 'av', 'er', '.', 'Din', 'familj', 'får', 'börja', 'arbeta', 'eller', 'studera', 'direkt', 'efter', 'det', 'att', 'de', 'har', 'kommit', 'till', 'Sverige', '.', 'De', 'behöver', 'inte', 'vänta', 'på', 'att', 'du', 'får', 'beslut', 'om', 'uppehållstillstånd', '.', 'Den', 'som', 'studerar', 'får', 'arbeta', 'vid', 'sidan', 'av', 'studierna', 'utan', 'att', 'ansöka', 'om', 'ett', 'särskilt', 'arbetstillstånd', '.']\n",
      "labels are a match! \n",
      "setting class 3 ...\n",
      "answer:  ['gymnasieutbildning']\n",
      "existing answer:  [['att', 'man', 'har', 'genomgått', 'gymnasieutbildning', 'och', 'väktarutbildning'], ['att', 'man', 'har', 'gymnasieutbildning'], ['20', 'veckor']]\n",
      "context:  ['SOS-operatör/larmoperatör', 'SOS-operatörer', ',', 'larmoperatörer', 'och', 'KC', 'operatörer', 'utbildas', 'internt', 'av', 'arbetsgivaren', '.', 'SOS-operatör', 'Utbildningen', 'till', 'SOS-operatör', 'är', 'ca', '20', 'veckor', 'lång', '.', 'När', 'man', 'fått', 'erfarenhet', 'inom', 'yrket', 'får', 'man', 'vidareutbildning', 'för', 'arbete', 'som', 'till', 'exempel', 'ambulansdirigent', '.', 'Under', 'utbildningen', 'är', 'man', 'provanställd', '.', 'Fortsatt', 'anställning', 'kräver', 'att', 'man', 'blir', 'godkänd', 'för', 'certifiering', '.', 'Certifieringen', 'garanterar', 'att', 'SOS‑operatoren', 'kan', 'hantera', 'alla', 'slags', '112-samtal', '.', 'SOS-operatörer', 'genomgår', 'årligen', 'certifiering', 'då', 'teoretiska', 'och', 'praktiska', 'förmågor', 'kontrolleras', '.', 'För', 'anställning', 'krävs', 'att', 'man', 'har', 'gymnasieutbildning', 'och', 'tidigare', 'arbetslivserfarenhet', '.', 'Många', 'som', 'rekryteras', 'till', 'SOS', 'Alarm', 'har', 'erfarenhet', 'från', 'vård', ',', 'räddningstjänst', 'eller', 'annan', 'verksamhet', 'som', 'ligger', 'nära', 'SOS-tjänsten', '.', 'Innan', 'anställning', 'får', 'man', 'genomgå', 'tester', 'i', 'problemlösning', ',', 'stress', 'och', 'simultankapacitet', '(', 'förmågan', 'att', 'göra', 'flera', 'saker', 'samtidigt', ')', '.', 'Man', 'gör', 'även', 'personlighetstest', 'och', 'intervjuas', 'av', 'en', 'psykolog', '.', 'Det', 'finns', 'krav', 'på', 'att', 'man', 'har', 'goda', 'kunskaper', 'både', 'i', 'svenska', 'och', 'engelska', 'språket', '.', 'Datorvana', 'är', 'meriterande', '.', 'Man', 'måste', 'kunna', 'prata', 'och', 'skriva', 'samtidigt', '.', 'Läs', 'mer', 'om', 'de', 'utbildnings-', 'och', 'övriga', 'krav', 'som', 'SOS-alarm', 'har', 'vid', 'rekrytering', 'på', 'deras', 'hemsida', '.', 'SOS-alarm', 'Larmoperatör', 'För', 'att', 'kunna', 'söka', 'plats', 'som', 'larmoperatör', 'krävs', 'vanligtvis', 'att', 'man', 'har', 'genomgått', 'gymnasieutbildning', 'och', 'väktarutbildning', 'och', 'att', 'man', 'behärskar', 'svenska', 'och', 'engelska', 'i', 'tal', 'och', 'skrift', '.', 'Det', 'är', 'en', 'merit', 'om', 'man', 'har', 'tidigare', 'erfarenhet', 'och', 'utbildning', 'inom', 'bevakning', 'och', 'larmteknik', '.', 'Det', 'är', 'också', 'bra', 'att', 'ha', 'datorvana', '.', 'KC-operatör', 'KC-operatörer', 'rekryteras', 'både', 'inom', 'polisen', 'och', 'med', 'civil', 'bakgrund', '.', 'Utbildning', 'sker', 'intern', 'och', 'varierar', 'mellan', '18', 'och', '12', 'veckor', 'beroende', 'på', 'vilka', 'kunskaper', 'man', 'har', 'sedan', 'tidigare', '.']\n",
      "labels are a match! \n",
      "labels are a match! \n",
      "labels are a match! \n",
      "labels are a match! \n",
      "labels are a match! \n",
      "labels are a match! \n",
      "labels are a match! \n",
      "labels are a match! \n",
      "labels are a match! \n",
      "setting class 3 ...\n",
      "answer:  ['pass']\n",
      "existing answer:  [['ditt', 'pass']]\n",
      "context:  ['Eget', 'företag', 'Efter', 'beslut', 'Beslutet', 'skickas', 'till', 'den', 'ambassad', 'eller', 'generalkonsulat', 'som', 'du', 'valde', 'i', 'webbansökan', '.', 'När', 'du', 'ska', 'hämta', 'ditt', 'beslut', 'ska', 'du', 'ta', 'med', 'ditt', 'pass', '.', 'Du', 'kan', 'få', 'uppehållstillstånd', 'för', 'två', 'år', 'men', 'aldrig', 'längre', 'än', 'ditt', 'pass', 'är', 'giltigt', '.', 'Om', 'du', 'får', 'uppehållstillstånd', 'för', 'mer', 'än', 'tre', 'månader', 'får', 'du', 'ett', 'uppehållstillståndskort', '.', 'Kortet', 'är', 'ett', 'bevis', 'på', 'att', 'du', 'har', 'tillstånd', 'att', 'vara', 'i', 'Sverige', 'och', 'innehåller', 'bland', 'annat', 'dina', 'fingeravtryck', 'och', 'foto', 'på', 'dig', '.', 'Uppehållstillståndskortet', 'tillverkas', 'i', 'samband', 'med', 'att', 'beslutet', 'fattas', ',', 'dock', 'tidigast', 'tre', 'månader', 'innan', 'uppehållstillståndet', 'börjar', 'gälla', '.', 'Det', 'går', 'inte', 'att', 'skynda', 'på', 'tillverkningen', 'eller', 'leveransen', 'av', 'kortet', '.', 'När', 'uppehållstillståndskortet', 'är', 'klart', 'kommer', 'ambassaden', 'eller', 'generalkonsulatet', 'att', 'lämna', 'ut', 'eller', 'skicka', 'det', 'färdiga', 'kortet', 'till', 'dig', '.', 'Det', 'kan', 'ta', 'upp', 'till', 'fyra', 'veckor', 'att', 'tillverka', 'och', 'leverera', 'kortet', 'till', 'ambassaden', 'eller', 'generalkonsulatet', 'efter', 'att', 'du', 'har', 'fått', 'ditt', 'beslut', '.', 'När', 'du', 'reser', 'in', 'i', 'Sverige', 'måste', 'du', 'visa', 'upp', 'uppehållstillståndskortet', 'tillsammans', 'med', 'ett', 'giltigt', 'pass', '.', 'Om', 'du', 'kan', 'resa', 'till', 'Sverige', 'utan', 'visum', 'bör', 'du', 'kunna', 'visa', 'upp', 'en', 'kopia', 'av', 'beslutet', 'när', 'du', 'reser', 'in', '.', 'Så', 'snart', 'du', 'kan', 'efter', 'att', 'du', 'har', 'kommit', 'till', 'Sverige', 'ska', 'du', 'boka', 'tid', 'på', 'Migrationsverket', 'för', 'att', 'lämna', 'fingeravtryck', 'och', 'bli', 'fotograferad', '.', 'När', 'ditt', 'uppehållstillståndskort', 'är', 'klart', 'kommer', 'det', 'att', 'skickas', 'till', 'din', 'adress', 'i', 'Sverige', '.', 'Viktigt', 'om', 'försäkring', 'Om', 'du', 'behöver', 'söka', 'vård', 'i', 'Sverige', 'kan', 'du', 'behöva', 'betala', 'för', 'vården', 'själv', 'om', 'du', 'inte', 'är', 'folkbokförd', 'i', 'Sverige', 'och', 'inte', 'har', 'ett', 'svenskt', 'personnummer', '.', 'Om', 'du', 'blir', 'folkbokförd', 'kan', 'du', 'även', 'bli', 'inskriven', 'hos', 'Försäkringskassan', 'och', 'omfattas', 'av', 'den', 'svenska', 'socialförsäkringen', '.', 'För', 'att', 'bli', 'folkbokförd', 'och', 'få', 'ett', 'svenskt', 'personnummer', 'krävs', 'i', 'regel', 'att', 'du', 'har', 'beviljats', 'minst', 'ett', 'års', 'uppehållstillstånd', 'i', 'Sverige', 'och', 'att', 'du', 'planerar', 'att', 'bo', 'här', 'i', 'ett', 'år', 'eller', 'längre', '.', 'Du', 'bör', 'därför', 'folkbokföra', 'dig', 'så', 'snart', 'som', 'möjligt', 'efter', 'att', 'du', 'har', 'flyttat', 'till', 'Sverige', '.']\n",
      "labels are a match! \n",
      "labels are a match! \n",
      "labels are a match! \n",
      "labels are a match! \n",
      "labels are a match! \n",
      "labels are a match! \n",
      "labels are a match! \n",
      "setting class 3 ...\n",
      "answer:  ['man', 'själv', 'vara', 'auktoriserad', 'elinstallatör']\n",
      "existing answer:  [['vara', 'auktoriserad', 'elinstallatör', 'eller', 'knyta', 'en', 'auktoriserad', 'elinstallatör', 'till', 'företaget'], ['vuxenutbildning']]\n",
      "context:  ['Distributionselektriker', 'Utbildning', 'till', 'distributionselektriker', 'finns', 'inom', 'gymnasieskolan', 'på', 'el-', 'och', 'energiprogrammet', ',', 'inriktning', 'elteknik', '.', 'För', 'mer', 'information', ',', 'se', 'gymnasieinfo.se', '.', 'En', 'alternativ', 'väg', 'till', 'grundutbildning', 'är', 'via', 'vuxenutbildning', '.', 'Kontakta', 'din', 'kommun', 'för', 'frågor', 'om', 'vuxenutbildning', '.', 'Vidareutbildning', 'inom', 'eldistribution', 'kan', 'finnas', 'inom', 'Yrkeshögskolan', '.', 'En', 'utbildad', 'elektriker', 'med', 'yrkeserfarenhet', 'kan', 'ansöka', 'om', 'auktorisation', 'för', 'att', 'bli', 'elinstallatör', '.', 'Auktorisation', 'är', 'det', 'som', 'tidigare', 'kallades', 'behörighet', '.', 'Det', 'finns', 'olika', 'auktorisationstyper', 'för', 'olika', 'kompetensnivåer', ',', 'som', 'utfärdas', 'av', 'Elsäkerhetsverket', '.', 'Alla', 'som', 'utför', 'elinstallationsarbete', 'yrkesmässigt', 'måste', 'dock', 'inte', 'vara', 'auktoriserade', '.', 'Mer', 'information', 'finns', 'att', 'läsa', 'på', 'Elsäkerhetsverkets', 'hemsida', '.', 'Om', 'man', 'vill', 'starta', 'eget', 'elinstallationsföretag', ',', 'måste', 'man', 'själv', 'vara', 'auktoriserad', 'elinstallatör', 'eller', 'knyta', 'en', 'auktoriserad', 'elinstallatör', 'till', 'företaget', '.', 'För', 'eltekniker/kontaktledningsmontör', 'krävs', 'en', 'yrkeshögskoleutbildning', 'inom', 'järnvägsspecifik', 'elteknik', 'och', 'montage', 'av', 'kontaktledning', '.', 'Utbildningen', 'är', 'ett', 'år', 'lång', 'och', 'finns', 'vid', 'Trafikverksskolan', 'i', 'Ängelholm', '.', 'Det', 'finns', 'även', 'en', 'riksrekryterande', 'järnvägsteknikinriktning', 'inom', 'el-', 'och', 'energiprogrammet', 'på', 'gymnasiet', '.', 'Transportstyrelsen', 'har', 'information', 'om', 'medicinska', 'krav', 'som', 'ställs', 'för', 'alla', 'som', 'jobbar', 'i', 'säkerhetstjänst', 'på', 'järnväg', '.', 'B-körkort', 'är', 'ofta', 'ett', 'krav', 'vid', 'anställning', '.', 'BE-körkort', 'och', 'C-körkort', 'kan', 'vara', 'meriterande', 'vid', 'arbete', 'på', 'järnväg', '.', 'Du', 'som', 'har', 'utbildning', 'från', 'ett', 'annat', 'land', 'kan', 'ansöka', 'om', 'att', 'få', 'den', 'validerad', '.', 'Mer', 'information', 'finns', 'på', 'Universitets-', 'och', 'högskolerådet', ',', 'som', 'bedömer', 'utländska', 'gymnasieutbildningar', ',', 'yrkeshögskoleutbildningar', 'och', 'akademiska', 'utbildningar', '.', 'Om', 'du', 'har', 'erfarenhet', 'från', 'ett', 'yrke', ',', 'men', 'saknar', 'intyg', 'kan', 'du', 'få', 'dina', 'yrkeskunskaper', 'bedömda', '.', 'Mer', 'information', 'finns', 'på', 'valideringsinfo.se', 'eller', 'hos', 'Arbetsförmedlingen', '.']\n",
      "labels are a match! \n",
      "labels are a match! \n",
      "setting class 3 ...\n",
      "answer:  ['Nästan', '30']\n",
      "existing answer:  [['i', 'slutet', 'av', 'mars'], ['30'], ['att', 'begränsa', 'exploateringen', 'av', 'jordbruksmark'], ['Varje', 'år'], ['budgetpropositionen']]\n",
      "context:  ['Ett', 'rikt', 'odlingslandskap', 'Naturvärdena', 'i', 'dagens', 'odlingslandskap', 'är', 'resultatet', 'av', 'hur', 'det', 'har', 'brukats', 'av', 'människan', 'under', 'flera', 'tusen', 'år', '.', 'En', 'stor', 'del', 'av', 'våra', 'växt-', 'och', 'djurarter', 'finns', 'i', 'slåtter-', 'och', 'betesmarker', 'samt', 'i', 'åker-', 'och', 'vägrenar', ',', 'åkerholmar', ',', 'våtmarker', 'och', 'andra', 'småbiotoper', '.', 'Många', 'av', 'dessa', 'miljöer', 'och', 'äldre', 'jordbruksbyggnader', 'har', 'också', 'kulturhistoriska', 'värden', 'eftersom', 'de', 'ger', 'en', 'bild', 'av', 'hur', 'våra', 'förfäder', 'levde', 'och', 'brukade', 'odlingslandskapet', '.', 'Den', 'biologiska', 'mångfalden', 'och', 'kulturmiljöerna', 'är', 'beroende', 'av', 'ett', 'fortsatt', 'jordbruk', ',', 'men', 'också', 'av', 'vilka', 'metoder', 'som', 'används', '.', 'Bland', 'annat', 'är', 'betande', 'djur', 'en', 'förutsättning', 'för', 'att', 'bevara', 'artrika', 'betesmarker', '.', 'I', 'delar', 'av', 'landet', 'har', 'jordbruket', 'blivit', 'allt', 'mer', 'specialiserat', 'och', 'intensivt', ',', 'medan', 'marker', 'på', 'andra', 'håll', 'inte', 'brukas', 'längre', 'och', 'många', 'gårdar', 'läggs', 'ned', '.', 'Båda', 'trenderna', 'leder', 'till', 'att', 'många', 'arter', 'och', 'naturtyper', 'i', 'odlingslandskapet', 'hotas', '.', 'Vilka', 'är', 'utmaningarna', '?', 'Metoderna', 'för', 'att', 'bruka', 'odlingslandskapet', 'måste', 'anpassas', 'så', 'att', 'de', 'bevarar', 'och', 'utvecklar', 'natur-', 'och', 'kulturvärdena', '.', 'Samtidigt', 'måste', 'det', 'vara', 'möjligt', 'att', 'driva', 'jordbruk', 'på', 'ett', 'rationellt', 'och', 'konkurrenskraftigt', 'sätt', '.', 'Det', 'är', 'också', 'viktigt', 'att', 'bevara', 'svenska', 'kulturväxter', 'och', 'husdjursraser', 'med', 'unika', 'egenskaper', ',', 'eftersom', 'de', 'kan', 'vara', 'betydelsefulla', 'för', 'framtida', 'livsmedelsförsörjning', 'och', 'är', 'en', 'del', 'av', 'vårt', 'kulturarv', '.', 'Att', 'lyckas', 'bevara', 'biologisk', 'mångfald', 'och', 'kulturmiljövärden', 'kräver', 'insatser', 'på', 'alla', 'nivåer', 'i', 'samhället', '–', 'från', 'lokalt', 'arbete', 'i', 'kommuner', 'för', 'att', 'begränsa', 'exploateringen', 'av', 'jordbruksmark', 'till', 'att', 'påverka', 'hur', 'den', 'gemensamma', 'europeiska', 'jordbrukspolitiken', 'utformas', '.', 'Miljöersättningar', 'som', 'finansieras', 'både', 'nationellt', 'och', 'av', 'EU', 'bidrar', 'exempelvis', 'till', 'att', 'betesmarker', 'sköts', 'och', 'att', 'våtmarker', 'anläggs', '.', 'Vad', 'görs', 'för', 'att', 'nå', 'målet', '?', 'Varje', 'år', 'görs', 'en', 'årlig', 'uppföljning', 'av', 'miljökvalitetsmålen', ',', 'som', 'lämnas', 'av', 'Naturvårdsverket', 'till', 'regeringen', 'i', 'slutet', 'av', 'mars', '.', 'I', 'uppföljningen', 'beskrivs', 'de', 'viktigaste', 'aktuella', 'åtgärderna', 'för', 'att', 'nå', 'miljökvalitetsmålen', 'och', 'etappmålen', '.', 'Nästan', '30', 'olika', 'svenska', 'myndigheter', 'ska', 'arbeta', 'inom', 'sina', 'respektive', 'verksamhetsområden', 'för', 'att', 'miljömålen', 'ska', 'nås', ',', 'enligt', 'sina', 'instruktioner', 'eller', 'regleringsbrev', '.', 'De', 'flesta', 'ska', 'rapportera', 'om', 'sitt', 'arbete', 'till', 'regeringen', 'i', 'sina', 'årsredovisningar', '.', 'Vad', 'Naturvårdsverket', 'gjort', 'det', 'senaste', 'året', 'för', 'detta', 'miljökvalitetsmål', 'hittar', 'du', 'via', 'länken', 'nedan', '.', 'Regeringen', 'sammanställer', 'sedan', 'varje', 'år', 'vad', 'som', 'gjorts', 'för', 'att', 'nå', 'miljökvalitetsmålen', '.', 'Det', 'presenteras', 'i', 'budgetförslaget', 'för', 'kommande', 'år', ',', 'den', 'så', 'kallade', 'budgetpropositionen', ',', 'under', 'utgiftsområde', '20', ':', 'Allmän', 'miljö-', 'och', 'naturvård', '.', 'Propositionen', 'lämnas', 'till', 'riksdagen', 'i', 'slutet', 'av', 'september', 'varje', 'år', '.', 'I', 'slutet', 'av', 'varje', 'mandatperiod', 'redovisar', 'regeringen', 'även', 'vilka', 'insatser', 'som', 'gjorts', 'för', 'miljömålen', 'i', 'en', 'skrivelse', 'till', 'riksdagen', '.']\n",
      "setting class 3 ...\n",
      "answer:  ['klär', 'golv', 'och', 'väggar', 'med', 'en', 'vattentät', 'plastmatta']\n",
      "existing answer:  [['att', 'golvläggaren', 'klär', 'golv', 'och', 'väggar', 'med', 'en', 'vattentät', 'plastmatta']]\n",
      "context:  ['Golvläggare', 'Golvläggare', 'arbetar', 'ofta', 'i', 'mindre', 'golvföretag', '.', 'Arbetsplatsen', 'för', 'golvläggare', 'varierar', 'mellan', 'privata', 'och', 'offentliga', 'miljöer', ',', 'vilka', 'kan', 'bestå', 'av', 'både', 'nyproduktion', 'och', 'renovering', 'av', 'befintliga', 'fastigheter', '.', 'Arbetsuppgifter', 'En', 'golvläggare', 'installerar', 'ytskikt', 'av', 'olika', 'material', 'som', 'textil', ',', 'trä', ',', 'plast', ',', 'linoleum', 'och', 'kork', '.', 'Olika', 'material', 'kräver', 'olika', 'arbetsmetoder', '.', 'De', 'flesta', 'golvmaterial', 'består', 'av', 'rullar', ',', 'plattor', 'eller', 'brädor', 'och', 'installeras', 'med', 'olika', 'läggningsmetoder', '.', 'Golven', 'läggs', 'ofta', 'i', 'olika', 'mönster', ',', 'beroende', 'på', 'material', 'och', 'kundens', 'önskemål', '.', 'I', 'golvläggarens', 'arbetsuppgifter', 'ingår', 'inte', 'bara', 'att', 'installera', 'golvets', 'ytskikt', '.', 'Innan', 'golvet', 'kan', 'läggas', 'måste', 'underlaget', 'vara', 'jämnt', '.', 'Det', 'innebär', 'att', 'det', 'ingår', 'underarbete', 'som', 'exempelvis', 'slipning', 'och', 'spackling', 'i', 'arbetet', '.', 'Vidare', 'ingår', 'att', 'slipa', 'och', 'ytbehandla', 'golv', '.', 'Ett', 'stort', 'arbetsområde', 'är', 'våtrum', '.', 'Det', 'innebär', 'att', 'golvläggaren', 'klär', 'golv', 'och', 'väggar', 'med', 'en', 'vattentät', 'plastmatta', ',', 'till', 'exempel', 'i', 'ett', 'badrum', '.', 'Här', 'ställs', 'det', 'särskilda', 'krav', 'på', 'hantverksskicklighet', 'eftersom', 'skarvarna', 'svetsas', 'ihop', 'och', 'måste', 'bli', 'helt', 'vattentäta', '.', 'Arbetsmiljö', 'Golvläggare', 'arbetar', 'inomhus', '.', 'Golvläggare', 'har', 'ofta', 'direktkontakt', 'med', 'kunder', 'som', 'vill', 'ha', 'råd', 'om', 'till', 'exempel', 'material', 'och', 'färgval', '.', 'Arbetet', 'är', 'fysiskt', 'och', 'utförs', 'i', 'olika', 'arbetsställningar', ',', 'bland', 'annat', 'knästående', 'och', 'det', 'kan', 'ingå', 'en', 'del', 'tunga', 'lyft', '.', 'En', 'god', 'grundfysik', 'underlättar', 'arbetet', '.', 'Det', 'finns', 'dock', 'hjälpmedel', 'som', 'underlättar', 'vid', 'tunga', 'lyft', 'och', 'transporter', '.']\n",
      "labels are a match! \n",
      "labels are a match! \n",
      "labels are a match! \n",
      "labels are a match! \n",
      "labels are a match! \n",
      "labels are a match! \n",
      "labels are a match! \n",
      "labels are a match! \n",
      "setting class 3 ...\n",
      "answer:  ['med', 'att', 'placera', 'företagets', 'egna', 'tillgångar']\n",
      "existing answer:  [['kvalificerad', 'placeringsrådgivare'], ['placera', 'företagets', 'egna', 'tillgångar'], ['Språkkunskaper']]\n",
      "context:  ['Bankrådgivare', 'och', 'banktjänsteman', 'Banker', 'och', 'finansföretag', 'är', 'de', 'vanligaste', 'arbetsplatserna', ',', 'som', 'till', 'exempel', 'inkassoföretag', ',', 'försäkringsbolag', 'och', 'utländska', 'banker', '.', 'Arbetsuppgifter', 'Ibland', 'kallas', 'den', 'som', 'arbetar', 'på', 'bank', 'för', 'banktjänsteman', '.', 'Man', 'arbetar', 'till', 'exempel', 'med', 'in-', 'och', 'utlåning', ',', 'köp', 'och', 'försäljning', 'av', 'värdepapper', ',', 'utlandsbetalningar', 'och', 'krediter', '.', 'Ekonomisk', 'rådgivning', 'är', 'ett', 'stort', 'arbetsområde', 'som', 'växer', '.', 'Kunderna', ',', 'som', 'kan', 'vara', 'privatpersoner', ',', 'företag', 'och', 'föreningar', ',', 'träffar', 'vanligtvis', 'bankrådgivaren', 'vid', 'förbokade', 'möten', '.', 'På', 'telefonbanken', 'sker', 'kontakten', 'enbart', 'via', 'telefon', 'och', 'web', '.', 'Som', 'privatrådgivare', 'ger', 'man', 'ekonomiska', 'råd', 'och', 'vägledning', 'utifrån', 'en', 'analys', 'av', 'kundens', 'ekonomi', '.', 'Det', 'kan', 'gälla', 'sparande', ',', 'placering', 'av', 'pengar', ',', 'lån', 'till', 'bostad', 'eller', 'kapitalvaror', ',', 'försäkringar', ',', 'vardagsekonomi', 'eller', 'familjerättsliga', 'frågor', '.', 'Man', 'kan', 'även', 'arbeta', 'med', 'att', 'ge', 'råd', 'som', 'rör', 'aktier', ',', 'fonder', ',', 'optioner', 'och', 'försäkringar', 'och', 'kan', 'då', 'kallas', 'kvalificerad', 'placeringsrådgivare', '.', 'Den', 'information', 'och', 'de', 'råd', 'bankrådgivaren', 'ger', 'kunden', 'ska', 'dokumenteras', 'och', 'lämnas', 'till', 'kunden', 'efter', 'varje', 'rådgivningssamtal', '.', 'I', 'rollen', 'som', 'bankrådgivare', 'ingår', 'också', 'att', 'ha', 'förmåga', 'att', 'göra', 'kunden', 'medveten', 'om', 'vilka', 'risker', 'som', 'finns', ',', 'till', 'exempel', 'vid', 'handel', 'med', 'värdepapper', '.', 'Företagsrådgivare', 'hjälper', 'företag', ',', 'handlägger', 'skatteärenden', ',', 'bolagsbildning', ',', 'kreditärenden', 'med', 'mera', '.', 'Man', 'kan', 'också', 'arbeta', 'med', 'företagets', 'långsiktiga', 'planering', '.', 'Då', 'analyserar', 'man', 'företagets', 'ekonomiska', 'situation', ',', 'studerar', 'alternativa', 'utvecklingsmöjligheter', 'och', 'gör', 'riskbedömningar', '.', 'Att', 'ansvara', 'för', 'betalningar', 'till', 'eller', 'från', 'utlandet', 'kan', 'också', 'vara', 'en', 'uppgift', '.', 'Man', 'kan', 'sälja', 'och', 'köpa', 'utländska', 'valutor', 'och', 'hjälpa', 'företag', 'med', 'att', 'förmedla', 'lån', 'i', 'utländska', 'banker', '.', 'Språkkunskaper', 'är', 'nödvändiga', '.', 'Man', 'kan', 'också', 'jobba', 'med', 'den', 'centrala', 'förvaltningen', '.', 'På', 'en', 'finansavdelning', 'arbetar', 'man', 'med', 'att', 'placera', 'företagets', 'egna', 'tillgångar', '.', 'På', 'central', 'nivå', 'kan', 'arbete', 'med', 'arbete', 'med', 'revision', 'och', 'juridik', 'ingå', '.']\n",
      "labels are a match! \n",
      "labels are a match! \n",
      "labels are a match! \n",
      "labels are a match! \n",
      "labels are a match! \n",
      "labels are a match! \n",
      "labels are a match! \n",
      "labels are a match! \n",
      "labels are a match! \n",
      "num removed:  49\n",
      "num data points:  434\n"
     ]
    }
   ],
   "source": [
    "labeled_data = label_data(df_train_cleaned)\n",
    "labeled_df = pd.DataFrame(labeled_data)\n",
    "labeled_df.to_pickle(\"./data/labeled_training_data.pkl\")"
   ]
  },
  {
   "cell_type": "code",
   "execution_count": 9,
   "metadata": {},
   "outputs": [
    {
     "name": "stdout",
     "output_type": "stream",
     "text": [
      "labels are a match! \n",
      "labels are a match! \n",
      "num removed:  2\n",
      "num data points:  45\n"
     ]
    }
   ],
   "source": [
    "# add labels to the test data\n",
    "labeled_test_data = label_data(df_test)\n",
    "labeled_test_df = pd.DataFrame(labeled_test_data)\n",
    "labeled_test_df.to_pickle(\"./data/labeled_test_data.pkl\")"
   ]
  },
  {
   "cell_type": "code",
   "execution_count": null,
   "metadata": {},
   "outputs": [],
   "source": []
  }
 ],
 "metadata": {
  "interpreter": {
   "hash": "de4ab37d9aa598fa28430b4c5abb54602406a240d03eddec7af88b85de3986f7"
  },
  "kernelspec": {
   "display_name": "Python 3.7.11 ('dp')",
   "language": "python",
   "name": "python3"
  },
  "language_info": {
   "codemirror_mode": {
    "name": "ipython",
    "version": 3
   },
   "file_extension": ".py",
   "mimetype": "text/x-python",
   "name": "python",
   "nbconvert_exporter": "python",
   "pygments_lexer": "ipython3",
   "version": "3.7.11"
  },
  "orig_nbformat": 4
 },
 "nbformat": 4,
 "nbformat_minor": 2
}
