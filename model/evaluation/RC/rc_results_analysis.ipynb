{
 "cells": [
  {
   "cell_type": "code",
   "execution_count": 24,
   "metadata": {},
   "outputs": [],
   "source": [
    "import pandas as pd\n",
    "import matplotlib.pyplot as plt\n",
    "import numpy as np"
   ]
  },
  {
   "cell_type": "code",
   "execution_count": 36,
   "metadata": {},
   "outputs": [],
   "source": [
    "def read_eval_results(filename):\n",
    "    file = open(filename, 'r')\n",
    "    lines = file.readlines()\n",
    "    \n",
    "    data = {}\n",
    "    scores = []\n",
    "    current_id = 0\n",
    "    # Strips the newline character\n",
    "    for item in lines:\n",
    "        item = item.strip()\n",
    "        if 'id' in item:\n",
    "            text_id = item.split(':')[1]\n",
    "            data[text_id] = []\n",
    "            current_id = text_id\n",
    "        else:\n",
    "            data[current_id].append(int(item))\n",
    "            scores.append(int(item))\n",
    "    return data, scores"
   ]
  },
  {
   "cell_type": "code",
   "execution_count": 37,
   "metadata": {},
   "outputs": [],
   "source": [
    "def get_score_stats(scores):\n",
    "    print('Number of items: ', len(scores))\n",
    "    score_count = {0:0, 1:0, 2:0}\n",
    "    for val in scores:\n",
    "        score_count[val] += 1\n",
    "    total = score_count[0] + score_count[1] + score_count[2]\n",
    "    print('Num 0s: ', score_count[0])\n",
    "    print('Num 1s: ', score_count[1])\n",
    "    print('Num 2s: ', score_count[2])\n",
    "    print('disagreement: ', score_count[1]/total)\n",
    "    print('Positive ', score_count[2]/total)\n",
    "    print('Negative: ', (score_count[0]+score_count[1])/total)\n",
    "    return score_count\n",
    "\n",
    "def get_eval_stats(data, scores):\n",
    "    text_stats = {}\n",
    "    print('TOTAL STATS: ')\n",
    "    _ = get_score_stats(scores)\n",
    "    for id, text_scores in data.items():\n",
    "        print('text {} scores'.format(id))\n",
    "        score_count = get_score_stats(text_scores)\n",
    "        text_stats[id] = score_count\n",
    "    return text_stats\n",
    "        \n",
    "        \n",
    "\n",
    "\n"
   ]
  },
  {
   "cell_type": "code",
   "execution_count": 38,
   "metadata": {},
   "outputs": [
    {
     "name": "stdout",
     "output_type": "stream",
     "text": [
      "TOTAL STATS: \n",
      "Number of items:  612\n",
      "Num 0s:  248\n",
      "Num 1s:  95\n",
      "Num 2s:  269\n",
      "disagreement:  0.15522875816993464\n",
      "Positive  0.4395424836601307\n",
      "Negative:  0.5604575163398693\n",
      "text 1 scores\n",
      "Number of items:  62\n",
      "Num 0s:  30\n",
      "Num 1s:  6\n",
      "Num 2s:  26\n",
      "disagreement:  0.0967741935483871\n",
      "Positive  0.41935483870967744\n",
      "Negative:  0.5806451612903226\n",
      "text 2 scores\n",
      "Number of items:  51\n",
      "Num 0s:  20\n",
      "Num 1s:  7\n",
      "Num 2s:  24\n",
      "disagreement:  0.13725490196078433\n",
      "Positive  0.47058823529411764\n",
      "Negative:  0.5294117647058824\n",
      "text 3 scores\n",
      "Number of items:  30\n",
      "Num 0s:  11\n",
      "Num 1s:  11\n",
      "Num 2s:  8\n",
      "disagreement:  0.36666666666666664\n",
      "Positive  0.26666666666666666\n",
      "Negative:  0.7333333333333333\n",
      "text 6 scores\n",
      "Number of items:  81\n",
      "Num 0s:  32\n",
      "Num 1s:  22\n",
      "Num 2s:  27\n",
      "disagreement:  0.2716049382716049\n",
      "Positive  0.3333333333333333\n",
      "Negative:  0.6666666666666666\n",
      "text 11 scores\n",
      "Number of items:  84\n",
      "Num 0s:  33\n",
      "Num 1s:  6\n",
      "Num 2s:  45\n",
      "disagreement:  0.07142857142857142\n",
      "Positive  0.5357142857142857\n",
      "Negative:  0.4642857142857143\n",
      "text 13 scores\n",
      "Number of items:  57\n",
      "Num 0s:  19\n",
      "Num 1s:  12\n",
      "Num 2s:  26\n",
      "disagreement:  0.21052631578947367\n",
      "Positive  0.45614035087719296\n",
      "Negative:  0.543859649122807\n",
      "text 17 scores\n",
      "Number of items:  66\n",
      "Num 0s:  27\n",
      "Num 1s:  5\n",
      "Num 2s:  34\n",
      "disagreement:  0.07575757575757576\n",
      "Positive  0.5151515151515151\n",
      "Negative:  0.48484848484848486\n",
      "text 20 scores\n",
      "Number of items:  56\n",
      "Num 0s:  25\n",
      "Num 1s:  6\n",
      "Num 2s:  25\n",
      "disagreement:  0.10714285714285714\n",
      "Positive  0.44642857142857145\n",
      "Negative:  0.5535714285714286\n",
      "text 26 scores\n",
      "Number of items:  83\n",
      "Num 0s:  40\n",
      "Num 1s:  9\n",
      "Num 2s:  34\n",
      "disagreement:  0.10843373493975904\n",
      "Positive  0.40963855421686746\n",
      "Negative:  0.5903614457831325\n",
      "text 40 scores\n",
      "Number of items:  42\n",
      "Num 0s:  11\n",
      "Num 1s:  11\n",
      "Num 2s:  20\n",
      "disagreement:  0.2619047619047619\n",
      "Positive  0.47619047619047616\n",
      "Negative:  0.5238095238095238\n"
     ]
    }
   ],
   "source": [
    "# read the CA results\n",
    "CA_path = './CA_grammaticality.txt'\n",
    "CA_data, CA_scores = read_eval_results(CA_path)\n",
    "CA_stats = get_eval_stats(CA_data, CA_scores)"
   ]
  },
  {
   "cell_type": "code",
   "execution_count": 39,
   "metadata": {},
   "outputs": [
    {
     "name": "stdout",
     "output_type": "stream",
     "text": [
      "TOTAL STATS: \n",
      "Number of items:  145\n",
      "Num 0s:  61\n",
      "Num 1s:  15\n",
      "Num 2s:  69\n",
      "disagreement:  0.10344827586206896\n",
      "Positive  0.47586206896551725\n",
      "Negative:  0.5241379310344828\n",
      "text 1 scores\n",
      "Number of items:  20\n",
      "Num 0s:  7\n",
      "Num 1s:  1\n",
      "Num 2s:  12\n",
      "disagreement:  0.05\n",
      "Positive  0.6\n",
      "Negative:  0.4\n",
      "text 2 scores\n",
      "Number of items:  7\n",
      "Num 0s:  3\n",
      "Num 1s:  1\n",
      "Num 2s:  3\n",
      "disagreement:  0.14285714285714285\n",
      "Positive  0.42857142857142855\n",
      "Negative:  0.5714285714285714\n",
      "text 3 scores\n",
      "Number of items:  7\n",
      "Num 0s:  4\n",
      "Num 1s:  0\n",
      "Num 2s:  3\n",
      "disagreement:  0.0\n",
      "Positive  0.42857142857142855\n",
      "Negative:  0.5714285714285714\n",
      "text 6 scores\n",
      "Number of items:  2\n",
      "Num 0s:  1\n",
      "Num 1s:  1\n",
      "Num 2s:  0\n",
      "disagreement:  0.5\n",
      "Positive  0.0\n",
      "Negative:  1.0\n",
      "text 11 scores\n",
      "Number of items:  18\n",
      "Num 0s:  9\n",
      "Num 1s:  4\n",
      "Num 2s:  5\n",
      "disagreement:  0.2222222222222222\n",
      "Positive  0.2777777777777778\n",
      "Negative:  0.7222222222222222\n",
      "text 13 scores\n",
      "Number of items:  10\n",
      "Num 0s:  3\n",
      "Num 1s:  1\n",
      "Num 2s:  6\n",
      "disagreement:  0.1\n",
      "Positive  0.6\n",
      "Negative:  0.4\n",
      "text 17 scores\n",
      "Number of items:  21\n",
      "Num 0s:  9\n",
      "Num 1s:  1\n",
      "Num 2s:  11\n",
      "disagreement:  0.047619047619047616\n",
      "Positive  0.5238095238095238\n",
      "Negative:  0.47619047619047616\n",
      "text 20 scores\n",
      "Number of items:  19\n",
      "Num 0s:  8\n",
      "Num 1s:  2\n",
      "Num 2s:  9\n",
      "disagreement:  0.10526315789473684\n",
      "Positive  0.47368421052631576\n",
      "Negative:  0.5263157894736842\n",
      "text 26 scores\n",
      "Number of items:  32\n",
      "Num 0s:  15\n",
      "Num 1s:  2\n",
      "Num 2s:  15\n",
      "disagreement:  0.0625\n",
      "Positive  0.46875\n",
      "Negative:  0.53125\n",
      "text 40 scores\n",
      "Number of items:  9\n",
      "Num 0s:  2\n",
      "Num 1s:  2\n",
      "Num 2s:  5\n",
      "disagreement:  0.2222222222222222\n",
      "Positive  0.5555555555555556\n",
      "Negative:  0.4444444444444444\n"
     ]
    }
   ],
   "source": [
    "# read the RC results\n",
    "RC_path = './RC_grammaticality.txt'\n",
    "RC_data, RC_scores = read_eval_results(RC_path)\n",
    "RC_stats = get_eval_stats(RC_data, RC_scores)"
   ]
  },
  {
   "cell_type": "code",
   "execution_count": 42,
   "metadata": {},
   "outputs": [
    {
     "data": {
      "image/png": "[encoded data removed]",
      "text/plain": [
       "<Figure size 432x288 with 1 Axes>"
      ]
     },
     "metadata": {
      "needs_background": "light"
     },
     "output_type": "display_data"
    },
    {
     "data": {
      "image/png": "[encoded data removed]",
      "text/plain": [
       "<Figure size 432x288 with 1 Axes>"
      ]
     },
     "metadata": {
      "needs_background": "light"
     },
     "output_type": "display_data"
    },
    {
     "data": {
      "image/png": "[encoded data removed]",
      "text/plain": [
       "<Figure size 432x288 with 1 Axes>"
      ]
     },
     "metadata": {
      "needs_background": "light"
     },
     "output_type": "display_data"
    }
   ],
   "source": [
    "# plot the scores\n",
    "def plot_scores(CA_keys, CA_values, RC_keys, RC_values, title):\n",
    "    plt.bar(CA_keys, CA_values, color='teal', label='CA')\n",
    "    plt.bar(RC_keys, RC_values, color='rebeccapurple', label='RC')\n",
    "    plt.title(title)\n",
    "    plt.ylabel('Number of answer phrases')\n",
    "    plt.xlabel('Context text id')\n",
    "    plt.legend()\n",
    "    plt.show()\n",
    "\n",
    "ca_z = []\n",
    "ca_o = []\n",
    "ca_t = []\n",
    "rc_z = []\n",
    "rc_o = []\n",
    "rc_t = []\n",
    "for key, val in CA_stats.items():\n",
    "    ca_z.append(val[0])\n",
    "    rc_z.append(RC_stats[key][0])\n",
    "    ca_o.append(val[1])\n",
    "    rc_o.append(RC_stats[key][1])\n",
    "    ca_t.append(val[2])\n",
    "    rc_t.append(RC_stats[key][2])\n",
    "\n",
    "plot_scores(CA_stats.keys(), ca_z, RC_stats.keys(), rc_z, 'Rejected answer phrases (score 0) per text')\n",
    "plot_scores(CA_stats.keys(), ca_t, RC_stats.keys(), rc_t, 'Accepted answer phrases (score 1) per text')\n",
    "plot_scores(CA_stats.keys(), ca_o, RC_stats.keys(), rc_o, 'Answer phrases with disagreement')"
   ]
  },
  {
   "cell_type": "code",
   "execution_count": null,
   "metadata": {},
   "outputs": [],
   "source": []
  }
 ],
 "metadata": {
  "interpreter": {
   "hash": "de4ab37d9aa598fa28430b4c5abb54602406a240d03eddec7af88b85de3986f7"
  },
  "kernelspec": {
   "display_name": "Python 3.7.11 ('dp')",
   "language": "python",
   "name": "python3"
  },
  "language_info": {
   "codemirror_mode": {
    "name": "ipython",
    "version": 3
   },
   "file_extension": ".py",
   "mimetype": "text/x-python",
   "name": "python",
   "nbconvert_exporter": "python",
   "pygments_lexer": "ipython3",
   "version": "3.7.11"
  },
  "orig_nbformat": 4
 },
 "nbformat": 4,
 "nbformat_minor": 2
}
