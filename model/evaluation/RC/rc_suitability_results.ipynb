{
 "cells": [
  {
   "cell_type": "code",
   "execution_count": 24,
   "metadata": {},
   "outputs": [],
   "source": [
    "import pandas as pd\n",
    "import matplotlib.pyplot as plt\n",
    "import numpy as np\n",
    "import csv"
   ]
  },
  {
   "cell_type": "code",
   "execution_count": 25,
   "metadata": {},
   "outputs": [],
   "source": [
    "# plot the scores\n",
    "def plot_scores_for_text(keys, values, title, xlabel, labels, colors=['darkslategray', 'teal', 'darkturquoise']):\n",
    "    \n",
    "    X_axis = np.arange(len(keys))\n",
    "  \n",
    "    for idx, val in enumerate(values):\n",
    "        plt.bar(X_axis+((idx-1)*0.2), val, label=labels[idx], color=colors[idx], width=0.2)\n",
    "    \n",
    "    plt.xticks(X_axis, keys)\n",
    "    plt.title(title)\n",
    "    plt.ylabel('Number of answer phrases')\n",
    "    plt.xlabel(xlabel)\n",
    "    plt.legend()\n",
    "    plt.show()"
   ]
  },
  {
   "cell_type": "code",
   "execution_count": 26,
   "metadata": {},
   "outputs": [],
   "source": [
    "def parse_suitability_scores():\n",
    "    data = {}\n",
    "    with open('./data/suitability.csv', 'r') as file:\n",
    "        reader = csv.reader(file)\n",
    "        for row in reader:\n",
    "            if 'Context id: ' in row[0]:\n",
    "                current_id = row[0].split(': ')[1].strip()\n",
    "                data[current_id] = {'answer': [], 'scores': [], 'disagreement': [], 'joint_scores': [], 'joint_score_stats': {'m':0, 'ok':0, 'd':0}}\n",
    "            else:\n",
    "                data[current_id]['answer'].append(row[0])\n",
    "                scores = [int(row[1]), int(row[2])]\n",
    "                data[current_id]['scores'].append(scores)\n",
    "                d = np.abs(scores[0]-scores[1])\n",
    "                data[current_id]['disagreement'].append(d)\n",
    "                if d < 1:\n",
    "                    data[current_id]['joint_score_stats']['m'] += 1\n",
    "                    data[current_id]['joint_scores'].append(scores[0])\n",
    "                elif d < 2:\n",
    "                    data[current_id]['joint_score_stats']['ok'] += 1\n",
    "                    data[current_id]['joint_scores'].append(np.max(scores))\n",
    "                else: # not ok score\n",
    "                    data[current_id]['joint_score_stats']['d'] += 1\n",
    "                    data[current_id]['joint_scores'].append(-1)\n",
    "    return data\n"
   ]
  },
  {
   "cell_type": "code",
   "execution_count": 27,
   "metadata": {},
   "outputs": [],
   "source": [
    "def get_disagreement_stats_joint(scores):\n",
    "    num_d = 0\n",
    "    num_ok = 0\n",
    "    num_m = 0\n",
    "    for id, val in scores.items():\n",
    "        print('id:', id)\n",
    "        # print('val:', val)\n",
    "        num_m += val['joint_score_stats']['m']\n",
    "        num_ok += val['joint_score_stats']['ok']\n",
    "        num_d += val['joint_score_stats']['d']\n",
    "        sum = val['joint_score_stats']['m'] + val['joint_score_stats']['ok'] + val['joint_score_stats']['d']\n",
    "        #print('match: ', val['joint_score_stats']['m']/sum)\n",
    "        #print('diff 1: ', val['joint_score_stats']['ok']/sum)\n",
    "        #print('disagreement: ', val['joint_score_stats']['d']/sum)\n",
    "\n",
    "    total = num_m + num_ok + num_d\n",
    "    print('matching: ', num_m/total)\n",
    "    print('ok: ', num_ok/total)\n",
    "    print('disagreement: ', num_d/total)"
   ]
  },
  {
   "cell_type": "code",
   "execution_count": 28,
   "metadata": {},
   "outputs": [],
   "source": [
    "def get_annotator_scores(scores):\n",
    "    joint = []\n",
    "    joint_ok = []\n",
    "    a_1 = []\n",
    "    a_2 = []\n",
    "    for id, val in scores.items():\n",
    "        #print('id:', id)\n",
    "        # print('val:', val)\n",
    "        scores = val['scores'] # 2d array\n",
    "        joint_scores = val['joint_scores']\n",
    "        joint += joint_scores\n",
    "        for idx, score in enumerate(scores):\n",
    "            a_1.append(str(score[0]))\n",
    "            a_2.append(str(score[1]))\n",
    "            if joint_scores[idx] > -1:\n",
    "                joint_ok.append(joint_scores[idx])\n",
    "    return joint, a_1, a_2, joint_ok\n",
    "\n",
    "    "
   ]
  },
  {
   "cell_type": "code",
   "execution_count": 29,
   "metadata": {},
   "outputs": [],
   "source": [
    "def plot_proximity_stats(values, names, title, bins=4, colors=['darkslategray', 'teal', 'darkturquoise'], is_arr=True):\n",
    "    n_bins = 4\n",
    "    bins = n_bins\n",
    "    n, bins, patches = plt.hist(values, color=colors, bins=bins, label=names, align='mid')\n",
    "    if is_arr:\n",
    "        patches = patches[0]\n",
    "    ticks = [(patch.xy[0] + 1.6)/2 for patch in patches]\n",
    "    ticks = []\n",
    "    for idx, patch in enumerate(patches):\n",
    "        ticks.append(patch.xy[0] + 0.3) # 0.3 is the width of the patch\n",
    "    n_bins = 4\n",
    "    ticklabels = [i for i in range(n_bins)]\n",
    "    plt.xticks(ticks, ticklabels)\n",
    "    plt.ylabel('Number of answer phrases')\n",
    "    plt.xlabel('Suitability score')\n",
    "    plt.title(title)\n",
    "    plt.legend()\n",
    "    plt.show()\n"
   ]
  },
  {
   "cell_type": "code",
   "execution_count": 30,
   "metadata": {},
   "outputs": [],
   "source": [
    "def get_num_of_class(scores):\n",
    "    len_s = len(scores)\n",
    "    scores_count = {'0':0, '1':0, '2':0, '3':0}\n",
    "    for i in range(len_s):\n",
    "        key = str(scores[i])\n",
    "        scores_count[key] += 1\n",
    "    return scores_count\n"
   ]
  },
  {
   "cell_type": "code",
   "execution_count": 32,
   "metadata": {},
   "outputs": [
    {
     "name": "stdout",
     "output_type": "stream",
     "text": [
      "id: 1\n",
      "id: 2\n",
      "id: 3\n",
      "id: 11\n",
      "id: 13\n",
      "id: 17\n",
      "id: 20\n",
      "id: 26\n",
      "id: 40\n",
      "matching:  0.34782608695652173\n",
      "ok:  0.3333333333333333\n",
      "disagreement:  0.3188405797101449\n"
     ]
    },
    {
     "data": {
      "image/png": "[encoded data removed]",
      "text/plain": [
       "<Figure size 432x288 with 1 Axes>"
      ]
     },
     "metadata": {
      "needs_background": "light"
     },
     "output_type": "display_data"
    },
    {
     "name": "stdout",
     "output_type": "stream",
     "text": [
      "A1 frac 2/3:  0.37681159420289856\n",
      "A1 avg num 2/3:  2.888888888888889\n",
      "A2 frac 2/3:  0.5507246376811594\n",
      "A1 avg num 2/3:  4.222222222222222\n",
      "Joint frac 2/3:  0.5106382978723404\n",
      "joint avg num 2/3:  2.6666666666666665\n",
      "A1 frac 3:  0.18840579710144928\n",
      "A1 avg num 3:  1.4444444444444444\n",
      "A2 frac 3:  0.3188405797101449\n",
      "A1 avg num 3:  1.7777777777777777\n",
      "Joint frac 3:  0.3191489361702128\n",
      "A1 avg num 2/3:  1.0\n"
     ]
    }
   ],
   "source": [
    "scores = parse_suitability_scores()\n",
    "get_disagreement_stats_joint(scores)\n",
    "joint, a_1, a_2, joint_ok = get_annotator_scores(scores)\n",
    "a_1_s = get_num_of_class(a_1)\n",
    "a_1_scores = [a_1_s['0'], a_1_s['1'], a_1_s['2'], a_1_s['3']]\n",
    "a_2_s = get_num_of_class(a_2)\n",
    "a_2_scores = [a_2_s['0'], a_2_s['1'], a_2_s['2'], a_2_s['3']]\n",
    "joint_s = get_num_of_class(joint_ok)\n",
    "joint_scores = [joint_s['0'], joint_s['1'], joint_s['2'], joint_s['3']]\n",
    "# plot_proximity_stats([a_1, a_2, joint_ok], ['Evaluator 1', 'Evaluator 2', 'Joint'], 'Distribution of suitability scores', 4) <-- not working!!\n",
    "labels = ['Evaluator 1', 'Evaluator 2', 'Joint']\n",
    "values = [a_1_scores, a_2_scores, joint_scores]\n",
    "keys = ['0', '1', '2', '3']\n",
    "title = 'Distribution of suitability scores'\n",
    "xlabel = 'Scores'\n",
    "plot_scores_for_text(keys, values, title, xlabel, labels)\n",
    "\n",
    "# number of 2/3\n",
    "print('A1 frac 2/3: ', (a_1_s['2']+a_1_s['3'])/len(a_1))\n",
    "print('A1 avg num 2/3: ', (a_1_s['2']+a_1_s['3'])/9)\n",
    "print('A2 frac 2/3: ', (a_2_s['2']+a_2_s['3'])/len(a_1))\n",
    "print('A1 avg num 2/3: ', (a_2_s['2']+a_2_s['3'])/9)\n",
    "print('Joint frac 2/3: ', (joint_s['2']+joint_s['3'])/len(joint_ok))\n",
    "print('joint avg num 2/3: ', (joint_s['2']+joint_s['3'])/9)\n",
    "\n",
    "print('A1 frac 3: ', (a_1_s['3'])/len(a_1))\n",
    "print('A1 avg num 3: ', (a_1_s['2'])/9)\n",
    "print('A2 frac 3: ', (a_2_s['3'])/len(a_1))\n",
    "print('A1 avg num 3: ', (a_2_s['2'])/9)\n",
    "print('Joint frac 3: ', (joint_s['3'])/len(joint_ok))\n",
    "print('A1 avg num 2/3: ', (joint_s['2'])/9)\n"
   ]
  },
  {
   "cell_type": "code",
   "execution_count": 23,
   "metadata": {},
   "outputs": [
    {
     "name": "stdout",
     "output_type": "stream",
     "text": [
      "p_o:  0.34782608695652173\n",
      "p_e:  0.2669607225372821\n",
      "kappa:  0.11031518624641834\n"
     ]
    }
   ],
   "source": [
    "p_o = 0.34782608695652173\n",
    "num_items = a_2_scores[0] + a_2_scores[1] + a_2_scores[2] + a_2_scores[3]\n",
    "p_e = a_1_scores[0]/num_items * a_2_scores[0]/num_items + a_1_scores[1]/num_items * a_2_scores[1]/num_items + a_1_scores[2]/num_items * a_2_scores[2]/num_items + a_1_scores[3]/num_items * a_2_scores[3]/num_items\n",
    "k = 1 - (1-p_o)/(1-p_e)\n",
    "print('p_o: ', p_o)\n",
    "print('p_e: ', p_e)\n",
    "print('kappa: ', k)"
   ]
  },
  {
   "cell_type": "code",
   "execution_count": 16,
   "metadata": {},
   "outputs": [
    {
     "name": "stdout",
     "output_type": "stream",
     "text": [
      "keys:  ['1', '2', '3', '11', '13', '17', '20', '26', '40']\n",
      "values:  [[4, 2, 2, 2, 2, 4, 1, 4, 3], [6, 1, 1, 1, 1, 5, 3, 4, 1], [2, 0, 0, 2, 3, 2, 5, 7, 1]]\n"
     ]
    },
    {
     "data": {
      "image/png": "[encoded data removed]",
      "text/plain": [
       "<Figure size 432x288 with 1 Axes>"
      ]
     },
     "metadata": {
      "needs_background": "light"
     },
     "output_type": "display_data"
    }
   ],
   "source": [
    "keys = list(scores.keys())\n",
    "values_m = [val['joint_score_stats']['m'] for val in list(scores.values())]\n",
    "values_d = [val['joint_score_stats']['d'] for val in list(scores.values())]\n",
    "values_ok = [val['joint_score_stats']['ok'] for val in list(scores.values())]\n",
    "labels = ['Matching', 'Diff by 1', 'Disagreement']\n",
    "values = [values_m, values_ok, values_d]\n",
    "print('keys: ', keys)\n",
    "print('values: ', values)\n",
    "title = 'Evaluator disagreement'\n",
    "xlabel = 'Context text id'\n",
    "plot_scores_for_text(keys, values, title, xlabel, labels)"
   ]
  },
  {
   "cell_type": "code",
   "execution_count": 17,
   "metadata": {},
   "outputs": [
    {
     "data": {
      "image/png": "[encoded data removed]",
      "text/plain": [
       "<Figure size 432x288 with 1 Axes>"
      ]
     },
     "metadata": {
      "needs_background": "light"
     },
     "output_type": "display_data"
    }
   ],
   "source": [
    "all_accepted = []\n",
    "for i in range(len(values_m)):\n",
    "    all_accepted.append(values_m[i] + values_ok[i])\n",
    "\n",
    "labels = ['Kept', 'Removed']\n",
    "values = [all_accepted, values_d]\n",
    "title = 'Removed answer phrases due to disagreement'\n",
    "xlabel = 'Context text id'\n",
    "plot_scores_for_text(keys, values, title, xlabel, labels, ['teal', 'cyan'])"
   ]
  },
  {
   "cell_type": "code",
   "execution_count": 18,
   "metadata": {},
   "outputs": [],
   "source": [
    "def plot_score_text_distribution(all_joint_scores, title):\n",
    "    a_s_0 = []\n",
    "    a_s_1 = []\n",
    "    a_s_2 = []\n",
    "    a_s_3 = []\n",
    "    for score in all_joint_scores:\n",
    "        s_0 = 0\n",
    "        s_1 = 0\n",
    "        s_2 = 0\n",
    "        s_3 = 0\n",
    "        for s in score:\n",
    "            if s == 0:\n",
    "                s_0 += 1\n",
    "            elif s == 1:\n",
    "                s_1 += 1\n",
    "            elif s == 2:\n",
    "                s_2 += 1\n",
    "            elif s == 3:\n",
    "                s_3 += 1\n",
    "        a_s_0.append(s_0)\n",
    "        a_s_1.append(s_1)\n",
    "        a_s_2.append(s_2)\n",
    "        a_s_3.append(s_3)\n",
    "\n",
    "    labels = ['0', '1', '2', '3']\n",
    "    values = [a_s_0, a_s_1, a_s_2, a_s_3]\n",
    "    print('keys: ', keys)\n",
    "    print('values: ', values)\n",
    "    xlabel = 'Context text id'\n",
    "    plot_scores_for_text(keys, values, title, xlabel, labels, ['cyan', 'teal', 'magenta', 'rebeccapurple'])"
   ]
  },
  {
   "cell_type": "code",
   "execution_count": 19,
   "metadata": {},
   "outputs": [
    {
     "name": "stdout",
     "output_type": "stream",
     "text": [
      "[[3, 0, 3, 0, 3, -1, 3, 3, -1, 3, 2, 3], [3, 3, 0], [0, 3, 2], [3, 3, -1, -1, 0], [2, -1, 1, -1, 0, -1], [-1, 1, 0, -1, 3, 1, 0, 2, 2, 0, 1], [-1, 3, 1, -1, 2, -1, -1, 1, -1], [2, -1, -1, 0, 1, 2, -1, -1, -1, -1, 0, 0, -1, 2, 1], [-1, 1, 0, 0, 3]]\n",
      "keys:  ['1', '2', '3', '11', '13', '17', '20', '26', '40']\n",
      "values:  [[2, 1, 1, 1, 1, 3, 0, 3, 2], [0, 0, 0, 0, 1, 3, 2, 2, 1], [1, 0, 1, 0, 1, 2, 1, 3, 0], [7, 2, 1, 2, 0, 1, 1, 0, 1]]\n"
     ]
    },
    {
     "data": {
      "image/png": "[encoded data removed]",
      "text/plain": [
       "<Figure size 432x288 with 1 Axes>"
      ]
     },
     "metadata": {
      "needs_background": "light"
     },
     "output_type": "display_data"
    }
   ],
   "source": [
    "all_joint_scores = [val['joint_scores'] for val in list(scores.values())]\n",
    "print(all_joint_scores)\n",
    "plot_score_text_distribution(all_joint_scores, 'Joint scores')"
   ]
  },
  {
   "cell_type": "code",
   "execution_count": 20,
   "metadata": {},
   "outputs": [
    {
     "name": "stdout",
     "output_type": "stream",
     "text": [
      "[[2, 0, 3, 0, 3, 3, 3, 3, 3, 3, 2, 3], [2, 3, 0], [0, 3, 2], [2, 3, 1, 0, 0], [2, 3, 0, 3, 0, 0], [3, 0, 0, 3, 2, 0, 0, 2, 2, 0, 0], [3, 3, 1, 3, 1, 0, 3, 1, 2], [1, 3, 0, 0, 0, 2, 2, 2, 3, 2, 0, 0, 2, 1, 1], [2, 0, 0, 0, 3]]\n",
      "keys:  ['1', '2', '3', '11', '13', '17', '20', '26', '40']\n",
      "values:  [[3, 1, 1, 1, 2, 4, 4, 9, 3], [2, 0, 1, 0, 2, 5, 2, 2, 1], [4, 0, 0, 0, 2, 1, 2, 4, 0], [3, 2, 1, 4, 0, 1, 1, 0, 1]]\n"
     ]
    },
    {
     "data": {
      "image/png": "[encoded data removed]",
      "text/plain": [
       "<Figure size 432x288 with 1 Axes>"
      ]
     },
     "metadata": {
      "needs_background": "light"
     },
     "output_type": "display_data"
    },
    {
     "name": "stdout",
     "output_type": "stream",
     "text": [
      "keys:  ['1', '2', '3', '11', '13', '17', '20', '26', '40']\n",
      "values:  [[2, 1, 1, 2, 3, 6, 1, 5, 3], [0, 0, 0, 1, 0, 0, 3, 3, 0], [2, 1, 1, 1, 1, 3, 1, 5, 1], [8, 1, 1, 1, 2, 2, 4, 2, 1]]\n"
     ]
    },
    {
     "data": {
      "image/png": "[encoded data removed]",
      "text/plain": [
       "<Figure size 432x288 with 1 Axes>"
      ]
     },
     "metadata": {
      "needs_background": "light"
     },
     "output_type": "display_data"
    }
   ],
   "source": [
    "all_ev1_scores = [val['scores'] for val in list(scores.values())]\n",
    "ev_1 = []\n",
    "ev_2 = []\n",
    "for score in all_ev1_scores:\n",
    "    e_1 = []\n",
    "    e_2 = []\n",
    "    for s in score:\n",
    "        e_1.append(s[0])\n",
    "        e_2.append(s[1])\n",
    "    ev_1.append(e_1)\n",
    "    ev_2.append(e_2)\n",
    "\n",
    "print(ev_2)\n",
    "plot_score_text_distribution(ev_1, 'Evaluator 1 scores')\n",
    "plot_score_text_distribution(ev_2, 'Evaluator 2 scores')"
   ]
  },
  {
   "cell_type": "code",
   "execution_count": null,
   "metadata": {},
   "outputs": [],
   "source": []
  }
 ],
 "metadata": {
  "interpreter": {
   "hash": "de4ab37d9aa598fa28430b4c5abb54602406a240d03eddec7af88b85de3986f7"
  },
  "kernelspec": {
   "display_name": "Python 3.7.11 ('dp')",
   "language": "python",
   "name": "python3"
  },
  "language_info": {
   "codemirror_mode": {
    "name": "ipython",
    "version": 3
   },
   "file_extension": ".py",
   "mimetype": "text/x-python",
   "name": "python",
   "nbconvert_exporter": "python",
   "pygments_lexer": "ipython3",
   "version": "3.7.11"
  },
  "orig_nbformat": 4
 },
 "nbformat": 4,
 "nbformat_minor": 2
}
